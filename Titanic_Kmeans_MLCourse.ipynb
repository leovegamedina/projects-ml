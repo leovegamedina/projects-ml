{
  "nbformat": 4,
  "nbformat_minor": 0,
  "metadata": {
    "colab": {
      "name": "Titanic_Kmeans_MLCourse.ipynb",
      "provenance": [],
      "toc_visible": true,
      "authorship_tag": "ABX9TyOhsmcFHYIiOGymLiOtgJlc",
      "include_colab_link": true
    },
    "kernelspec": {
      "name": "python3",
      "display_name": "Python 3"
    },
    "language_info": {
      "name": "python"
    }
  },
  "cells": [
    {
      "cell_type": "markdown",
      "metadata": {
        "id": "view-in-github",
        "colab_type": "text"
      },
      "source": [
        "<a href=\"https://colab.research.google.com/github/leovegamedina/projects-ml/blob/main/Titanic_Kmeans_MLCourse.ipynb\" target=\"_parent\"><img src=\"https://colab.research.google.com/assets/colab-badge.svg\" alt=\"Open In Colab\"/></a>"
      ]
    },
    {
      "cell_type": "markdown",
      "metadata": {
        "id": "X5-G5TObvdEx"
      },
      "source": [
        "# Modelo K-Means"
      ]
    },
    {
      "cell_type": "markdown",
      "metadata": {
        "id": "V1ZkwOVlvl0M"
      },
      "source": [
        "## 1. Descripción del dataset.\n"
      ]
    },
    {
      "cell_type": "markdown",
      "metadata": {
        "id": "UJxd_YKN75jz"
      },
      "source": [
        "Como primer paso, haremos las importaciones de los packages a utilizar y además **nos** traeremos el dataset de Titanic que actualmente tenemos en .xlsx a un dataframe utilizando Pandas."
      ]
    },
    {
      "cell_type": "code",
      "metadata": {
        "id": "dYBU0pEX0RVd",
        "colab": {
          "base_uri": "https://localhost:8080/"
        },
        "outputId": "8beed596-6b43-4202-9f32-a1546c5da9b9"
      },
      "source": [
        "from google.colab import drive\n",
        "\n",
        "drive.mount('/content/gdrive')\n",
        "root_path = 'gdrive/My Drive/Projects/Unsupervised MLA/K-Means'"
      ],
      "execution_count": 1,
      "outputs": [
        {
          "output_type": "stream",
          "text": [
            "Mounted at /content/gdrive\n"
          ],
          "name": "stdout"
        }
      ]
    },
    {
      "cell_type": "code",
      "metadata": {
        "id": "MsWXS27H2TuI"
      },
      "source": [
        "import pandas as pd\n",
        "import numpy as np\n",
        "import matplotlib.pyplot as plt\n",
        "\n",
        "titanic_org = pd.read_excel(root_path + '/' + 'Titanic.xlsx')"
      ],
      "execution_count": 2,
      "outputs": []
    },
    {
      "cell_type": "code",
      "metadata": {
        "colab": {
          "base_uri": "https://localhost:8080/",
          "height": 238
        },
        "id": "Ewmb29HpuiBU",
        "outputId": "c0ed4948-3837-489b-b50e-5ba8c5bb0249"
      },
      "source": [
        "titanic_org.head()"
      ],
      "execution_count": 3,
      "outputs": [
        {
          "output_type": "execute_result",
          "data": {
            "text/html": [
              "<div>\n",
              "<style scoped>\n",
              "    .dataframe tbody tr th:only-of-type {\n",
              "        vertical-align: middle;\n",
              "    }\n",
              "\n",
              "    .dataframe tbody tr th {\n",
              "        vertical-align: top;\n",
              "    }\n",
              "\n",
              "    .dataframe thead th {\n",
              "        text-align: right;\n",
              "    }\n",
              "</style>\n",
              "<table border=\"1\" class=\"dataframe\">\n",
              "  <thead>\n",
              "    <tr style=\"text-align: right;\">\n",
              "      <th></th>\n",
              "      <th>Name</th>\n",
              "      <th>Passenger Class</th>\n",
              "      <th>Sex</th>\n",
              "      <th>Age</th>\n",
              "      <th>No of Siblings or Spouses on Board</th>\n",
              "      <th>No of Parents or Children on Board</th>\n",
              "      <th>Passenger Fare</th>\n",
              "      <th>Port of Embarkation</th>\n",
              "      <th>Life Boat</th>\n",
              "      <th>Survived</th>\n",
              "    </tr>\n",
              "  </thead>\n",
              "  <tbody>\n",
              "    <tr>\n",
              "      <th>0</th>\n",
              "      <td>Allen, Miss. Elisabeth Walton</td>\n",
              "      <td>First</td>\n",
              "      <td>Female</td>\n",
              "      <td>29.0000</td>\n",
              "      <td>0</td>\n",
              "      <td>0</td>\n",
              "      <td>211.3375</td>\n",
              "      <td>Southampton</td>\n",
              "      <td>2</td>\n",
              "      <td>Yes</td>\n",
              "    </tr>\n",
              "    <tr>\n",
              "      <th>1</th>\n",
              "      <td>Allison, Master. Hudson Trevor</td>\n",
              "      <td>First</td>\n",
              "      <td>Male</td>\n",
              "      <td>0.9167</td>\n",
              "      <td>1</td>\n",
              "      <td>2</td>\n",
              "      <td>151.5500</td>\n",
              "      <td>Southampton</td>\n",
              "      <td>11</td>\n",
              "      <td>Yes</td>\n",
              "    </tr>\n",
              "    <tr>\n",
              "      <th>2</th>\n",
              "      <td>Allison, Miss. Helen Loraine</td>\n",
              "      <td>First</td>\n",
              "      <td>Female</td>\n",
              "      <td>2.0000</td>\n",
              "      <td>1</td>\n",
              "      <td>2</td>\n",
              "      <td>151.5500</td>\n",
              "      <td>Southampton</td>\n",
              "      <td>NaN</td>\n",
              "      <td>No</td>\n",
              "    </tr>\n",
              "    <tr>\n",
              "      <th>3</th>\n",
              "      <td>Allison, Mr. Hudson Joshua Creighton</td>\n",
              "      <td>First</td>\n",
              "      <td>Male</td>\n",
              "      <td>30.0000</td>\n",
              "      <td>1</td>\n",
              "      <td>2</td>\n",
              "      <td>151.5500</td>\n",
              "      <td>Southampton</td>\n",
              "      <td>NaN</td>\n",
              "      <td>No</td>\n",
              "    </tr>\n",
              "    <tr>\n",
              "      <th>4</th>\n",
              "      <td>Allison, Mrs. Hudson J C (Bessie Waldo Daniels)</td>\n",
              "      <td>First</td>\n",
              "      <td>Female</td>\n",
              "      <td>25.0000</td>\n",
              "      <td>1</td>\n",
              "      <td>2</td>\n",
              "      <td>151.5500</td>\n",
              "      <td>Southampton</td>\n",
              "      <td>NaN</td>\n",
              "      <td>No</td>\n",
              "    </tr>\n",
              "  </tbody>\n",
              "</table>\n",
              "</div>"
            ],
            "text/plain": [
              "                                              Name  ... Survived\n",
              "0                    Allen, Miss. Elisabeth Walton  ...      Yes\n",
              "1                   Allison, Master. Hudson Trevor  ...      Yes\n",
              "2                     Allison, Miss. Helen Loraine  ...       No\n",
              "3             Allison, Mr. Hudson Joshua Creighton  ...       No\n",
              "4  Allison, Mrs. Hudson J C (Bessie Waldo Daniels)  ...       No\n",
              "\n",
              "[5 rows x 10 columns]"
            ]
          },
          "metadata": {
            "tags": []
          },
          "execution_count": 3
        }
      ]
    },
    {
      "cell_type": "markdown",
      "metadata": {
        "id": "j7PJtAEKv-ZS"
      },
      "source": [
        "Por un tema de orden en el dataset, cambiaremos los nombres de las columnas para que puedan ser mas legibles."
      ]
    },
    {
      "cell_type": "code",
      "metadata": {
        "colab": {
          "base_uri": "https://localhost:8080/",
          "height": 204
        },
        "id": "3wL9ZnQ3wDTd",
        "outputId": "c36a3bb7-e87f-4081-b139-29fd833b8fca"
      },
      "source": [
        "new_names = {'Name':'name','Passenger Class':'pass_class','Sex':'sex','Age':'age','No of Siblings or Spouses on Board':'no_sib_spo_ob','No of Parents or Children on Board':'no_par_chld_ob','Passenger Fare':'pass_fare','Port of Embarkation':'port_emb','Life Boat':'life_boat','Survived':'survived'}\n",
        "\n",
        "## Reemplazamos los nombres de las columnas con la nueva definción de nuestro diccionario.\n",
        "\n",
        "titanic_org = titanic_org.rename(columns=new_names)\n",
        "titanic_org.head()"
      ],
      "execution_count": 4,
      "outputs": [
        {
          "output_type": "execute_result",
          "data": {
            "text/html": [
              "<div>\n",
              "<style scoped>\n",
              "    .dataframe tbody tr th:only-of-type {\n",
              "        vertical-align: middle;\n",
              "    }\n",
              "\n",
              "    .dataframe tbody tr th {\n",
              "        vertical-align: top;\n",
              "    }\n",
              "\n",
              "    .dataframe thead th {\n",
              "        text-align: right;\n",
              "    }\n",
              "</style>\n",
              "<table border=\"1\" class=\"dataframe\">\n",
              "  <thead>\n",
              "    <tr style=\"text-align: right;\">\n",
              "      <th></th>\n",
              "      <th>name</th>\n",
              "      <th>pass_class</th>\n",
              "      <th>sex</th>\n",
              "      <th>age</th>\n",
              "      <th>no_sib_spo_ob</th>\n",
              "      <th>no_par_chld_ob</th>\n",
              "      <th>pass_fare</th>\n",
              "      <th>port_emb</th>\n",
              "      <th>life_boat</th>\n",
              "      <th>survived</th>\n",
              "    </tr>\n",
              "  </thead>\n",
              "  <tbody>\n",
              "    <tr>\n",
              "      <th>0</th>\n",
              "      <td>Allen, Miss. Elisabeth Walton</td>\n",
              "      <td>First</td>\n",
              "      <td>Female</td>\n",
              "      <td>29.0000</td>\n",
              "      <td>0</td>\n",
              "      <td>0</td>\n",
              "      <td>211.3375</td>\n",
              "      <td>Southampton</td>\n",
              "      <td>2</td>\n",
              "      <td>Yes</td>\n",
              "    </tr>\n",
              "    <tr>\n",
              "      <th>1</th>\n",
              "      <td>Allison, Master. Hudson Trevor</td>\n",
              "      <td>First</td>\n",
              "      <td>Male</td>\n",
              "      <td>0.9167</td>\n",
              "      <td>1</td>\n",
              "      <td>2</td>\n",
              "      <td>151.5500</td>\n",
              "      <td>Southampton</td>\n",
              "      <td>11</td>\n",
              "      <td>Yes</td>\n",
              "    </tr>\n",
              "    <tr>\n",
              "      <th>2</th>\n",
              "      <td>Allison, Miss. Helen Loraine</td>\n",
              "      <td>First</td>\n",
              "      <td>Female</td>\n",
              "      <td>2.0000</td>\n",
              "      <td>1</td>\n",
              "      <td>2</td>\n",
              "      <td>151.5500</td>\n",
              "      <td>Southampton</td>\n",
              "      <td>NaN</td>\n",
              "      <td>No</td>\n",
              "    </tr>\n",
              "    <tr>\n",
              "      <th>3</th>\n",
              "      <td>Allison, Mr. Hudson Joshua Creighton</td>\n",
              "      <td>First</td>\n",
              "      <td>Male</td>\n",
              "      <td>30.0000</td>\n",
              "      <td>1</td>\n",
              "      <td>2</td>\n",
              "      <td>151.5500</td>\n",
              "      <td>Southampton</td>\n",
              "      <td>NaN</td>\n",
              "      <td>No</td>\n",
              "    </tr>\n",
              "    <tr>\n",
              "      <th>4</th>\n",
              "      <td>Allison, Mrs. Hudson J C (Bessie Waldo Daniels)</td>\n",
              "      <td>First</td>\n",
              "      <td>Female</td>\n",
              "      <td>25.0000</td>\n",
              "      <td>1</td>\n",
              "      <td>2</td>\n",
              "      <td>151.5500</td>\n",
              "      <td>Southampton</td>\n",
              "      <td>NaN</td>\n",
              "      <td>No</td>\n",
              "    </tr>\n",
              "  </tbody>\n",
              "</table>\n",
              "</div>"
            ],
            "text/plain": [
              "                                              name  ... survived\n",
              "0                    Allen, Miss. Elisabeth Walton  ...      Yes\n",
              "1                   Allison, Master. Hudson Trevor  ...      Yes\n",
              "2                     Allison, Miss. Helen Loraine  ...       No\n",
              "3             Allison, Mr. Hudson Joshua Creighton  ...       No\n",
              "4  Allison, Mrs. Hudson J C (Bessie Waldo Daniels)  ...       No\n",
              "\n",
              "[5 rows x 10 columns]"
            ]
          },
          "metadata": {
            "tags": []
          },
          "execution_count": 4
        }
      ]
    },
    {
      "cell_type": "markdown",
      "metadata": {
        "id": "LVk_pfhzwltx"
      },
      "source": [
        "Guardaremos una copia de este dataset con la que haremos todo el desarrollo de nuestro modelo de clustering."
      ]
    },
    {
      "cell_type": "code",
      "metadata": {
        "colab": {
          "base_uri": "https://localhost:8080/",
          "height": 204
        },
        "id": "XqXv1X4wyZXL",
        "outputId": "4e22cd63-8453-4a85-fd9e-d7969809fc93"
      },
      "source": [
        "## Guardamos titanic_orig en un nuevo dataframe titanic_dev\n",
        "\n",
        "titanic_dev = titanic_org\n",
        "titanic_dev.head()"
      ],
      "execution_count": 5,
      "outputs": [
        {
          "output_type": "execute_result",
          "data": {
            "text/html": [
              "<div>\n",
              "<style scoped>\n",
              "    .dataframe tbody tr th:only-of-type {\n",
              "        vertical-align: middle;\n",
              "    }\n",
              "\n",
              "    .dataframe tbody tr th {\n",
              "        vertical-align: top;\n",
              "    }\n",
              "\n",
              "    .dataframe thead th {\n",
              "        text-align: right;\n",
              "    }\n",
              "</style>\n",
              "<table border=\"1\" class=\"dataframe\">\n",
              "  <thead>\n",
              "    <tr style=\"text-align: right;\">\n",
              "      <th></th>\n",
              "      <th>name</th>\n",
              "      <th>pass_class</th>\n",
              "      <th>sex</th>\n",
              "      <th>age</th>\n",
              "      <th>no_sib_spo_ob</th>\n",
              "      <th>no_par_chld_ob</th>\n",
              "      <th>pass_fare</th>\n",
              "      <th>port_emb</th>\n",
              "      <th>life_boat</th>\n",
              "      <th>survived</th>\n",
              "    </tr>\n",
              "  </thead>\n",
              "  <tbody>\n",
              "    <tr>\n",
              "      <th>0</th>\n",
              "      <td>Allen, Miss. Elisabeth Walton</td>\n",
              "      <td>First</td>\n",
              "      <td>Female</td>\n",
              "      <td>29.0000</td>\n",
              "      <td>0</td>\n",
              "      <td>0</td>\n",
              "      <td>211.3375</td>\n",
              "      <td>Southampton</td>\n",
              "      <td>2</td>\n",
              "      <td>Yes</td>\n",
              "    </tr>\n",
              "    <tr>\n",
              "      <th>1</th>\n",
              "      <td>Allison, Master. Hudson Trevor</td>\n",
              "      <td>First</td>\n",
              "      <td>Male</td>\n",
              "      <td>0.9167</td>\n",
              "      <td>1</td>\n",
              "      <td>2</td>\n",
              "      <td>151.5500</td>\n",
              "      <td>Southampton</td>\n",
              "      <td>11</td>\n",
              "      <td>Yes</td>\n",
              "    </tr>\n",
              "    <tr>\n",
              "      <th>2</th>\n",
              "      <td>Allison, Miss. Helen Loraine</td>\n",
              "      <td>First</td>\n",
              "      <td>Female</td>\n",
              "      <td>2.0000</td>\n",
              "      <td>1</td>\n",
              "      <td>2</td>\n",
              "      <td>151.5500</td>\n",
              "      <td>Southampton</td>\n",
              "      <td>NaN</td>\n",
              "      <td>No</td>\n",
              "    </tr>\n",
              "    <tr>\n",
              "      <th>3</th>\n",
              "      <td>Allison, Mr. Hudson Joshua Creighton</td>\n",
              "      <td>First</td>\n",
              "      <td>Male</td>\n",
              "      <td>30.0000</td>\n",
              "      <td>1</td>\n",
              "      <td>2</td>\n",
              "      <td>151.5500</td>\n",
              "      <td>Southampton</td>\n",
              "      <td>NaN</td>\n",
              "      <td>No</td>\n",
              "    </tr>\n",
              "    <tr>\n",
              "      <th>4</th>\n",
              "      <td>Allison, Mrs. Hudson J C (Bessie Waldo Daniels)</td>\n",
              "      <td>First</td>\n",
              "      <td>Female</td>\n",
              "      <td>25.0000</td>\n",
              "      <td>1</td>\n",
              "      <td>2</td>\n",
              "      <td>151.5500</td>\n",
              "      <td>Southampton</td>\n",
              "      <td>NaN</td>\n",
              "      <td>No</td>\n",
              "    </tr>\n",
              "  </tbody>\n",
              "</table>\n",
              "</div>"
            ],
            "text/plain": [
              "                                              name  ... survived\n",
              "0                    Allen, Miss. Elisabeth Walton  ...      Yes\n",
              "1                   Allison, Master. Hudson Trevor  ...      Yes\n",
              "2                     Allison, Miss. Helen Loraine  ...       No\n",
              "3             Allison, Mr. Hudson Joshua Creighton  ...       No\n",
              "4  Allison, Mrs. Hudson J C (Bessie Waldo Daniels)  ...       No\n",
              "\n",
              "[5 rows x 10 columns]"
            ]
          },
          "metadata": {
            "tags": []
          },
          "execution_count": 5
        }
      ]
    },
    {
      "cell_type": "markdown",
      "metadata": {
        "id": "TJMDR4lszGgG"
      },
      "source": [
        "Antes de continuar, haremos una descripción de nuestro dataset para ver con que información contamos para desarrollar nuestro modelo de clustering."
      ]
    },
    {
      "cell_type": "code",
      "metadata": {
        "colab": {
          "base_uri": "https://localhost:8080/",
          "height": 390
        },
        "id": "71OoEWnhzIeL",
        "outputId": "03163ce2-5b9b-48b0-8871-4618a65f2fbd"
      },
      "source": [
        "titanic_org.describe(include='all')"
      ],
      "execution_count": 6,
      "outputs": [
        {
          "output_type": "execute_result",
          "data": {
            "text/html": [
              "<div>\n",
              "<style scoped>\n",
              "    .dataframe tbody tr th:only-of-type {\n",
              "        vertical-align: middle;\n",
              "    }\n",
              "\n",
              "    .dataframe tbody tr th {\n",
              "        vertical-align: top;\n",
              "    }\n",
              "\n",
              "    .dataframe thead th {\n",
              "        text-align: right;\n",
              "    }\n",
              "</style>\n",
              "<table border=\"1\" class=\"dataframe\">\n",
              "  <thead>\n",
              "    <tr style=\"text-align: right;\">\n",
              "      <th></th>\n",
              "      <th>name</th>\n",
              "      <th>pass_class</th>\n",
              "      <th>sex</th>\n",
              "      <th>age</th>\n",
              "      <th>no_sib_spo_ob</th>\n",
              "      <th>no_par_chld_ob</th>\n",
              "      <th>pass_fare</th>\n",
              "      <th>port_emb</th>\n",
              "      <th>life_boat</th>\n",
              "      <th>survived</th>\n",
              "    </tr>\n",
              "  </thead>\n",
              "  <tbody>\n",
              "    <tr>\n",
              "      <th>count</th>\n",
              "      <td>1307</td>\n",
              "      <td>1307</td>\n",
              "      <td>1307</td>\n",
              "      <td>1044.000000</td>\n",
              "      <td>1307.000000</td>\n",
              "      <td>1307.000000</td>\n",
              "      <td>1306.000000</td>\n",
              "      <td>1305</td>\n",
              "      <td>486</td>\n",
              "      <td>1307</td>\n",
              "    </tr>\n",
              "    <tr>\n",
              "      <th>unique</th>\n",
              "      <td>1307</td>\n",
              "      <td>3</td>\n",
              "      <td>2</td>\n",
              "      <td>NaN</td>\n",
              "      <td>NaN</td>\n",
              "      <td>NaN</td>\n",
              "      <td>NaN</td>\n",
              "      <td>3</td>\n",
              "      <td>27</td>\n",
              "      <td>2</td>\n",
              "    </tr>\n",
              "    <tr>\n",
              "      <th>top</th>\n",
              "      <td>Artagaveytia, Mr. Ramon</td>\n",
              "      <td>Third</td>\n",
              "      <td>Male</td>\n",
              "      <td>NaN</td>\n",
              "      <td>NaN</td>\n",
              "      <td>NaN</td>\n",
              "      <td>NaN</td>\n",
              "      <td>Southampton</td>\n",
              "      <td>13</td>\n",
              "      <td>No</td>\n",
              "    </tr>\n",
              "    <tr>\n",
              "      <th>freq</th>\n",
              "      <td>1</td>\n",
              "      <td>707</td>\n",
              "      <td>842</td>\n",
              "      <td>NaN</td>\n",
              "      <td>NaN</td>\n",
              "      <td>NaN</td>\n",
              "      <td>NaN</td>\n",
              "      <td>913</td>\n",
              "      <td>39</td>\n",
              "      <td>807</td>\n",
              "    </tr>\n",
              "    <tr>\n",
              "      <th>mean</th>\n",
              "      <td>NaN</td>\n",
              "      <td>NaN</td>\n",
              "      <td>NaN</td>\n",
              "      <td>29.867497</td>\n",
              "      <td>0.499617</td>\n",
              "      <td>0.385616</td>\n",
              "      <td>33.334462</td>\n",
              "      <td>NaN</td>\n",
              "      <td>NaN</td>\n",
              "      <td>NaN</td>\n",
              "    </tr>\n",
              "    <tr>\n",
              "      <th>std</th>\n",
              "      <td>NaN</td>\n",
              "      <td>NaN</td>\n",
              "      <td>NaN</td>\n",
              "      <td>14.420680</td>\n",
              "      <td>1.042273</td>\n",
              "      <td>0.866092</td>\n",
              "      <td>51.788712</td>\n",
              "      <td>NaN</td>\n",
              "      <td>NaN</td>\n",
              "      <td>NaN</td>\n",
              "    </tr>\n",
              "    <tr>\n",
              "      <th>min</th>\n",
              "      <td>NaN</td>\n",
              "      <td>NaN</td>\n",
              "      <td>NaN</td>\n",
              "      <td>0.166700</td>\n",
              "      <td>0.000000</td>\n",
              "      <td>0.000000</td>\n",
              "      <td>0.000000</td>\n",
              "      <td>NaN</td>\n",
              "      <td>NaN</td>\n",
              "      <td>NaN</td>\n",
              "    </tr>\n",
              "    <tr>\n",
              "      <th>25%</th>\n",
              "      <td>NaN</td>\n",
              "      <td>NaN</td>\n",
              "      <td>NaN</td>\n",
              "      <td>21.000000</td>\n",
              "      <td>0.000000</td>\n",
              "      <td>0.000000</td>\n",
              "      <td>7.895800</td>\n",
              "      <td>NaN</td>\n",
              "      <td>NaN</td>\n",
              "      <td>NaN</td>\n",
              "    </tr>\n",
              "    <tr>\n",
              "      <th>50%</th>\n",
              "      <td>NaN</td>\n",
              "      <td>NaN</td>\n",
              "      <td>NaN</td>\n",
              "      <td>28.000000</td>\n",
              "      <td>0.000000</td>\n",
              "      <td>0.000000</td>\n",
              "      <td>14.454200</td>\n",
              "      <td>NaN</td>\n",
              "      <td>NaN</td>\n",
              "      <td>NaN</td>\n",
              "    </tr>\n",
              "    <tr>\n",
              "      <th>75%</th>\n",
              "      <td>NaN</td>\n",
              "      <td>NaN</td>\n",
              "      <td>NaN</td>\n",
              "      <td>39.000000</td>\n",
              "      <td>1.000000</td>\n",
              "      <td>0.000000</td>\n",
              "      <td>31.275000</td>\n",
              "      <td>NaN</td>\n",
              "      <td>NaN</td>\n",
              "      <td>NaN</td>\n",
              "    </tr>\n",
              "    <tr>\n",
              "      <th>max</th>\n",
              "      <td>NaN</td>\n",
              "      <td>NaN</td>\n",
              "      <td>NaN</td>\n",
              "      <td>80.000000</td>\n",
              "      <td>8.000000</td>\n",
              "      <td>9.000000</td>\n",
              "      <td>512.329200</td>\n",
              "      <td>NaN</td>\n",
              "      <td>NaN</td>\n",
              "      <td>NaN</td>\n",
              "    </tr>\n",
              "  </tbody>\n",
              "</table>\n",
              "</div>"
            ],
            "text/plain": [
              "                           name pass_class  ... life_boat  survived\n",
              "count                      1307       1307  ...       486      1307\n",
              "unique                     1307          3  ...        27         2\n",
              "top     Artagaveytia, Mr. Ramon      Third  ...        13        No\n",
              "freq                          1        707  ...        39       807\n",
              "mean                        NaN        NaN  ...       NaN       NaN\n",
              "std                         NaN        NaN  ...       NaN       NaN\n",
              "min                         NaN        NaN  ...       NaN       NaN\n",
              "25%                         NaN        NaN  ...       NaN       NaN\n",
              "50%                         NaN        NaN  ...       NaN       NaN\n",
              "75%                         NaN        NaN  ...       NaN       NaN\n",
              "max                         NaN        NaN  ...       NaN       NaN\n",
              "\n",
              "[11 rows x 10 columns]"
            ]
          },
          "metadata": {
            "tags": []
          },
          "execution_count": 6
        }
      ]
    },
    {
      "cell_type": "markdown",
      "metadata": {
        "id": "Snl42qFuzXK3"
      },
      "source": [
        "Podemos apreciar lo siguiente del dataset actual:\n",
        "\n",
        "1. **name:** es una variable *no numérica* identificadora de cada registro, no contiene nulos. \n",
        "2. **pass_class:** es una variable *categórica ordinal* que identifica la clase (ticket) del pasajero, no contiene valores nulos. \n",
        "3. **sex:** es una variable *categórica nominal binaria* que identifica el sexo, no contiene valores nulos. \n",
        "4. **age:** es una variable *numérica* que indica la edad, solo contiene 1.044/1.307 registros. \n",
        "5. **no_sib_spo_ob:** es una variable *numérica* que indica la cantidad de hermanos o conyuges a bordo, no contiene valores nulos. \n",
        "6. **no_par_chld_ob:** s una variable *numérica* que indica la cantidad de padres o hijos a bordo, no contiene valores nulos.\n",
        "7. **pass_fare:** es una variable *numérica* que indica la tarifa pagada (precio ticket), contiene solo 1 nulo. \n",
        "8. **port_emb:** es una variable *categórica nominal* que identifica el puerto de embarque del pasajero, contiene 2 valores nulos. \n",
        "9. **life_boat:** es una variable *categórica nominal* que identifica el bote salvavidas donde estuvo el pasajero, solo contiene 486/1.307 registros.\n",
        "10. **survived:** es una variable *categórica nominal binaria* que identifica si sobrevivió el pasajero o no, no contiene valores nulos. "
      ]
    },
    {
      "cell_type": "markdown",
      "metadata": {
        "id": "_FYSZLKb7jdc"
      },
      "source": [
        "## 2. Preprocesamiento del dataset:"
      ]
    },
    {
      "cell_type": "markdown",
      "metadata": {
        "id": "SvOK0dxdzhDv"
      },
      "source": [
        "### 2.1 Factorizaciones de variables no numéricas.\n",
        "\n",
        "El primer cambio que realizaremos será crear una nueva variable para **life_boat**, ya que más que saber en que numero de bote salvavidas estuvo, nos sirve saber mas bien si el pasajero estuvo o no en un bote salvavidas, para esto crearemos la variable **bool_life_boat**. Ademas factorizaremos las variables **sex**, **survived**, **pass_class** y **port_emb**."
      ]
    },
    {
      "cell_type": "code",
      "metadata": {
        "id": "2UBX65w2zyzW"
      },
      "source": [
        "## Creamos la variable bool_life_boat\n",
        "\n",
        "titanic_dev['bool_life_boat'] = np.select([titanic_dev['life_boat'].isnull()==True],[0],default=1)\n",
        "\n",
        "## Factorizaremos las variables binarias y ordinales\n",
        "\n",
        "titanic_dev['sex'] = pd.factorize(titanic_dev['sex'])[0]\n",
        "titanic_dev['survived'] = pd.factorize(titanic_dev['survived'])[0]\n",
        "titanic_dev['pass_class'] = pd.factorize(titanic_dev['pass_class'])[0]"
      ],
      "execution_count": 7,
      "outputs": []
    },
    {
      "cell_type": "code",
      "metadata": {
        "colab": {
          "base_uri": "https://localhost:8080/"
        },
        "id": "EEGr5GP7z7M7",
        "outputId": "55af09c5-010f-4098-c80d-ea1b5cae7c35"
      },
      "source": [
        "## Factorizaremos las variables nominales a través de variables dummies\n",
        "\n",
        "titanic_dev['port_emb'] = titanic_dev['port_emb'].fillna('Other')\n",
        "titanic_dev['port_emb'].unique()"
      ],
      "execution_count": 8,
      "outputs": [
        {
          "output_type": "execute_result",
          "data": {
            "text/plain": [
              "array(['Southampton', 'Cherbourg', 'Other', 'Queenstown'], dtype=object)"
            ]
          },
          "metadata": {
            "tags": []
          },
          "execution_count": 8
        }
      ]
    },
    {
      "cell_type": "code",
      "metadata": {
        "colab": {
          "base_uri": "https://localhost:8080/",
          "height": 238
        },
        "id": "j6GvES6hz_L4",
        "outputId": "05f141eb-d837-42eb-d0dc-add3af8b54f7"
      },
      "source": [
        "from sklearn.preprocessing import LabelBinarizer\n",
        "\n",
        "lb = LabelBinarizer()\n",
        "lb_results = lb.fit_transform(titanic_dev['port_emb'].astype(str))\n",
        "lb_results_df = pd.DataFrame(lb_results, columns=lb.classes_)\n",
        "\n",
        "titanic_dev = pd.concat([titanic_dev, lb_results_df], axis=1)\n",
        "titanic_dev = titanic_dev.drop('port_emb',axis='columns')\n",
        "titanic_dev.head()"
      ],
      "execution_count": 9,
      "outputs": [
        {
          "output_type": "execute_result",
          "data": {
            "text/html": [
              "<div>\n",
              "<style scoped>\n",
              "    .dataframe tbody tr th:only-of-type {\n",
              "        vertical-align: middle;\n",
              "    }\n",
              "\n",
              "    .dataframe tbody tr th {\n",
              "        vertical-align: top;\n",
              "    }\n",
              "\n",
              "    .dataframe thead th {\n",
              "        text-align: right;\n",
              "    }\n",
              "</style>\n",
              "<table border=\"1\" class=\"dataframe\">\n",
              "  <thead>\n",
              "    <tr style=\"text-align: right;\">\n",
              "      <th></th>\n",
              "      <th>name</th>\n",
              "      <th>pass_class</th>\n",
              "      <th>sex</th>\n",
              "      <th>age</th>\n",
              "      <th>no_sib_spo_ob</th>\n",
              "      <th>no_par_chld_ob</th>\n",
              "      <th>pass_fare</th>\n",
              "      <th>life_boat</th>\n",
              "      <th>survived</th>\n",
              "      <th>bool_life_boat</th>\n",
              "      <th>Cherbourg</th>\n",
              "      <th>Other</th>\n",
              "      <th>Queenstown</th>\n",
              "      <th>Southampton</th>\n",
              "    </tr>\n",
              "  </thead>\n",
              "  <tbody>\n",
              "    <tr>\n",
              "      <th>0</th>\n",
              "      <td>Allen, Miss. Elisabeth Walton</td>\n",
              "      <td>0</td>\n",
              "      <td>0</td>\n",
              "      <td>29.0000</td>\n",
              "      <td>0</td>\n",
              "      <td>0</td>\n",
              "      <td>211.3375</td>\n",
              "      <td>2</td>\n",
              "      <td>0</td>\n",
              "      <td>1</td>\n",
              "      <td>0</td>\n",
              "      <td>0</td>\n",
              "      <td>0</td>\n",
              "      <td>1</td>\n",
              "    </tr>\n",
              "    <tr>\n",
              "      <th>1</th>\n",
              "      <td>Allison, Master. Hudson Trevor</td>\n",
              "      <td>0</td>\n",
              "      <td>1</td>\n",
              "      <td>0.9167</td>\n",
              "      <td>1</td>\n",
              "      <td>2</td>\n",
              "      <td>151.5500</td>\n",
              "      <td>11</td>\n",
              "      <td>0</td>\n",
              "      <td>1</td>\n",
              "      <td>0</td>\n",
              "      <td>0</td>\n",
              "      <td>0</td>\n",
              "      <td>1</td>\n",
              "    </tr>\n",
              "    <tr>\n",
              "      <th>2</th>\n",
              "      <td>Allison, Miss. Helen Loraine</td>\n",
              "      <td>0</td>\n",
              "      <td>0</td>\n",
              "      <td>2.0000</td>\n",
              "      <td>1</td>\n",
              "      <td>2</td>\n",
              "      <td>151.5500</td>\n",
              "      <td>NaN</td>\n",
              "      <td>1</td>\n",
              "      <td>0</td>\n",
              "      <td>0</td>\n",
              "      <td>0</td>\n",
              "      <td>0</td>\n",
              "      <td>1</td>\n",
              "    </tr>\n",
              "    <tr>\n",
              "      <th>3</th>\n",
              "      <td>Allison, Mr. Hudson Joshua Creighton</td>\n",
              "      <td>0</td>\n",
              "      <td>1</td>\n",
              "      <td>30.0000</td>\n",
              "      <td>1</td>\n",
              "      <td>2</td>\n",
              "      <td>151.5500</td>\n",
              "      <td>NaN</td>\n",
              "      <td>1</td>\n",
              "      <td>0</td>\n",
              "      <td>0</td>\n",
              "      <td>0</td>\n",
              "      <td>0</td>\n",
              "      <td>1</td>\n",
              "    </tr>\n",
              "    <tr>\n",
              "      <th>4</th>\n",
              "      <td>Allison, Mrs. Hudson J C (Bessie Waldo Daniels)</td>\n",
              "      <td>0</td>\n",
              "      <td>0</td>\n",
              "      <td>25.0000</td>\n",
              "      <td>1</td>\n",
              "      <td>2</td>\n",
              "      <td>151.5500</td>\n",
              "      <td>NaN</td>\n",
              "      <td>1</td>\n",
              "      <td>0</td>\n",
              "      <td>0</td>\n",
              "      <td>0</td>\n",
              "      <td>0</td>\n",
              "      <td>1</td>\n",
              "    </tr>\n",
              "  </tbody>\n",
              "</table>\n",
              "</div>"
            ],
            "text/plain": [
              "                                              name  ...  Southampton\n",
              "0                    Allen, Miss. Elisabeth Walton  ...            1\n",
              "1                   Allison, Master. Hudson Trevor  ...            1\n",
              "2                     Allison, Miss. Helen Loraine  ...            1\n",
              "3             Allison, Mr. Hudson Joshua Creighton  ...            1\n",
              "4  Allison, Mrs. Hudson J C (Bessie Waldo Daniels)  ...            1\n",
              "\n",
              "[5 rows x 14 columns]"
            ]
          },
          "metadata": {
            "tags": []
          },
          "execution_count": 9
        }
      ]
    },
    {
      "cell_type": "markdown",
      "metadata": {
        "id": "eWkVwV1R0Fip"
      },
      "source": [
        "Dado que ya no necesitamos la variable life_boat, esta la eliminaremos del dataset."
      ]
    },
    {
      "cell_type": "code",
      "metadata": {
        "colab": {
          "base_uri": "https://localhost:8080/",
          "height": 204
        },
        "id": "tv_-hvTe0JvA",
        "outputId": "f814af98-2d9f-4108-c7e6-7fd10dc8c519"
      },
      "source": [
        "titanic_dev = titanic_dev.drop('life_boat',axis='columns')\n",
        "titanic_dev.head()"
      ],
      "execution_count": 10,
      "outputs": [
        {
          "output_type": "execute_result",
          "data": {
            "text/html": [
              "<div>\n",
              "<style scoped>\n",
              "    .dataframe tbody tr th:only-of-type {\n",
              "        vertical-align: middle;\n",
              "    }\n",
              "\n",
              "    .dataframe tbody tr th {\n",
              "        vertical-align: top;\n",
              "    }\n",
              "\n",
              "    .dataframe thead th {\n",
              "        text-align: right;\n",
              "    }\n",
              "</style>\n",
              "<table border=\"1\" class=\"dataframe\">\n",
              "  <thead>\n",
              "    <tr style=\"text-align: right;\">\n",
              "      <th></th>\n",
              "      <th>name</th>\n",
              "      <th>pass_class</th>\n",
              "      <th>sex</th>\n",
              "      <th>age</th>\n",
              "      <th>no_sib_spo_ob</th>\n",
              "      <th>no_par_chld_ob</th>\n",
              "      <th>pass_fare</th>\n",
              "      <th>survived</th>\n",
              "      <th>bool_life_boat</th>\n",
              "      <th>Cherbourg</th>\n",
              "      <th>Other</th>\n",
              "      <th>Queenstown</th>\n",
              "      <th>Southampton</th>\n",
              "    </tr>\n",
              "  </thead>\n",
              "  <tbody>\n",
              "    <tr>\n",
              "      <th>0</th>\n",
              "      <td>Allen, Miss. Elisabeth Walton</td>\n",
              "      <td>0</td>\n",
              "      <td>0</td>\n",
              "      <td>29.0000</td>\n",
              "      <td>0</td>\n",
              "      <td>0</td>\n",
              "      <td>211.3375</td>\n",
              "      <td>0</td>\n",
              "      <td>1</td>\n",
              "      <td>0</td>\n",
              "      <td>0</td>\n",
              "      <td>0</td>\n",
              "      <td>1</td>\n",
              "    </tr>\n",
              "    <tr>\n",
              "      <th>1</th>\n",
              "      <td>Allison, Master. Hudson Trevor</td>\n",
              "      <td>0</td>\n",
              "      <td>1</td>\n",
              "      <td>0.9167</td>\n",
              "      <td>1</td>\n",
              "      <td>2</td>\n",
              "      <td>151.5500</td>\n",
              "      <td>0</td>\n",
              "      <td>1</td>\n",
              "      <td>0</td>\n",
              "      <td>0</td>\n",
              "      <td>0</td>\n",
              "      <td>1</td>\n",
              "    </tr>\n",
              "    <tr>\n",
              "      <th>2</th>\n",
              "      <td>Allison, Miss. Helen Loraine</td>\n",
              "      <td>0</td>\n",
              "      <td>0</td>\n",
              "      <td>2.0000</td>\n",
              "      <td>1</td>\n",
              "      <td>2</td>\n",
              "      <td>151.5500</td>\n",
              "      <td>1</td>\n",
              "      <td>0</td>\n",
              "      <td>0</td>\n",
              "      <td>0</td>\n",
              "      <td>0</td>\n",
              "      <td>1</td>\n",
              "    </tr>\n",
              "    <tr>\n",
              "      <th>3</th>\n",
              "      <td>Allison, Mr. Hudson Joshua Creighton</td>\n",
              "      <td>0</td>\n",
              "      <td>1</td>\n",
              "      <td>30.0000</td>\n",
              "      <td>1</td>\n",
              "      <td>2</td>\n",
              "      <td>151.5500</td>\n",
              "      <td>1</td>\n",
              "      <td>0</td>\n",
              "      <td>0</td>\n",
              "      <td>0</td>\n",
              "      <td>0</td>\n",
              "      <td>1</td>\n",
              "    </tr>\n",
              "    <tr>\n",
              "      <th>4</th>\n",
              "      <td>Allison, Mrs. Hudson J C (Bessie Waldo Daniels)</td>\n",
              "      <td>0</td>\n",
              "      <td>0</td>\n",
              "      <td>25.0000</td>\n",
              "      <td>1</td>\n",
              "      <td>2</td>\n",
              "      <td>151.5500</td>\n",
              "      <td>1</td>\n",
              "      <td>0</td>\n",
              "      <td>0</td>\n",
              "      <td>0</td>\n",
              "      <td>0</td>\n",
              "      <td>1</td>\n",
              "    </tr>\n",
              "  </tbody>\n",
              "</table>\n",
              "</div>"
            ],
            "text/plain": [
              "                                              name  ...  Southampton\n",
              "0                    Allen, Miss. Elisabeth Walton  ...            1\n",
              "1                   Allison, Master. Hudson Trevor  ...            1\n",
              "2                     Allison, Miss. Helen Loraine  ...            1\n",
              "3             Allison, Mr. Hudson Joshua Creighton  ...            1\n",
              "4  Allison, Mrs. Hudson J C (Bessie Waldo Daniels)  ...            1\n",
              "\n",
              "[5 rows x 13 columns]"
            ]
          },
          "metadata": {
            "tags": []
          },
          "execution_count": 10
        }
      ]
    },
    {
      "cell_type": "markdown",
      "metadata": {
        "id": "bh-5wUbF0Y9x"
      },
      "source": [
        "Por otro lado, dejaremos la variable **name** como index del dataset para identificar al pasajero."
      ]
    },
    {
      "cell_type": "code",
      "metadata": {
        "colab": {
          "base_uri": "https://localhost:8080/",
          "height": 235
        },
        "id": "eGeMEbqH0dSx",
        "outputId": "3b9be714-dcde-427e-f943-a9b528a35601"
      },
      "source": [
        "titanic_dev = titanic_dev.set_index('name')\n",
        "titanic_dev.head()"
      ],
      "execution_count": 11,
      "outputs": [
        {
          "output_type": "execute_result",
          "data": {
            "text/html": [
              "<div>\n",
              "<style scoped>\n",
              "    .dataframe tbody tr th:only-of-type {\n",
              "        vertical-align: middle;\n",
              "    }\n",
              "\n",
              "    .dataframe tbody tr th {\n",
              "        vertical-align: top;\n",
              "    }\n",
              "\n",
              "    .dataframe thead th {\n",
              "        text-align: right;\n",
              "    }\n",
              "</style>\n",
              "<table border=\"1\" class=\"dataframe\">\n",
              "  <thead>\n",
              "    <tr style=\"text-align: right;\">\n",
              "      <th></th>\n",
              "      <th>pass_class</th>\n",
              "      <th>sex</th>\n",
              "      <th>age</th>\n",
              "      <th>no_sib_spo_ob</th>\n",
              "      <th>no_par_chld_ob</th>\n",
              "      <th>pass_fare</th>\n",
              "      <th>survived</th>\n",
              "      <th>bool_life_boat</th>\n",
              "      <th>Cherbourg</th>\n",
              "      <th>Other</th>\n",
              "      <th>Queenstown</th>\n",
              "      <th>Southampton</th>\n",
              "    </tr>\n",
              "    <tr>\n",
              "      <th>name</th>\n",
              "      <th></th>\n",
              "      <th></th>\n",
              "      <th></th>\n",
              "      <th></th>\n",
              "      <th></th>\n",
              "      <th></th>\n",
              "      <th></th>\n",
              "      <th></th>\n",
              "      <th></th>\n",
              "      <th></th>\n",
              "      <th></th>\n",
              "      <th></th>\n",
              "    </tr>\n",
              "  </thead>\n",
              "  <tbody>\n",
              "    <tr>\n",
              "      <th>Allen, Miss. Elisabeth Walton</th>\n",
              "      <td>0</td>\n",
              "      <td>0</td>\n",
              "      <td>29.0000</td>\n",
              "      <td>0</td>\n",
              "      <td>0</td>\n",
              "      <td>211.3375</td>\n",
              "      <td>0</td>\n",
              "      <td>1</td>\n",
              "      <td>0</td>\n",
              "      <td>0</td>\n",
              "      <td>0</td>\n",
              "      <td>1</td>\n",
              "    </tr>\n",
              "    <tr>\n",
              "      <th>Allison, Master. Hudson Trevor</th>\n",
              "      <td>0</td>\n",
              "      <td>1</td>\n",
              "      <td>0.9167</td>\n",
              "      <td>1</td>\n",
              "      <td>2</td>\n",
              "      <td>151.5500</td>\n",
              "      <td>0</td>\n",
              "      <td>1</td>\n",
              "      <td>0</td>\n",
              "      <td>0</td>\n",
              "      <td>0</td>\n",
              "      <td>1</td>\n",
              "    </tr>\n",
              "    <tr>\n",
              "      <th>Allison, Miss. Helen Loraine</th>\n",
              "      <td>0</td>\n",
              "      <td>0</td>\n",
              "      <td>2.0000</td>\n",
              "      <td>1</td>\n",
              "      <td>2</td>\n",
              "      <td>151.5500</td>\n",
              "      <td>1</td>\n",
              "      <td>0</td>\n",
              "      <td>0</td>\n",
              "      <td>0</td>\n",
              "      <td>0</td>\n",
              "      <td>1</td>\n",
              "    </tr>\n",
              "    <tr>\n",
              "      <th>Allison, Mr. Hudson Joshua Creighton</th>\n",
              "      <td>0</td>\n",
              "      <td>1</td>\n",
              "      <td>30.0000</td>\n",
              "      <td>1</td>\n",
              "      <td>2</td>\n",
              "      <td>151.5500</td>\n",
              "      <td>1</td>\n",
              "      <td>0</td>\n",
              "      <td>0</td>\n",
              "      <td>0</td>\n",
              "      <td>0</td>\n",
              "      <td>1</td>\n",
              "    </tr>\n",
              "    <tr>\n",
              "      <th>Allison, Mrs. Hudson J C (Bessie Waldo Daniels)</th>\n",
              "      <td>0</td>\n",
              "      <td>0</td>\n",
              "      <td>25.0000</td>\n",
              "      <td>1</td>\n",
              "      <td>2</td>\n",
              "      <td>151.5500</td>\n",
              "      <td>1</td>\n",
              "      <td>0</td>\n",
              "      <td>0</td>\n",
              "      <td>0</td>\n",
              "      <td>0</td>\n",
              "      <td>1</td>\n",
              "    </tr>\n",
              "  </tbody>\n",
              "</table>\n",
              "</div>"
            ],
            "text/plain": [
              "                                                 pass_class  ...  Southampton\n",
              "name                                                         ...             \n",
              "Allen, Miss. Elisabeth Walton                             0  ...            1\n",
              "Allison, Master. Hudson Trevor                            0  ...            1\n",
              "Allison, Miss. Helen Loraine                              0  ...            1\n",
              "Allison, Mr. Hudson Joshua Creighton                      0  ...            1\n",
              "Allison, Mrs. Hudson J C (Bessie Waldo Daniels)           0  ...            1\n",
              "\n",
              "[5 rows x 12 columns]"
            ]
          },
          "metadata": {
            "tags": []
          },
          "execution_count": 11
        }
      ]
    },
    {
      "cell_type": "markdown",
      "metadata": {
        "id": "mI8LFgpV0hqq"
      },
      "source": [
        "Revisaremos que nuestro dataset sea completamente con variables numéricas."
      ]
    },
    {
      "cell_type": "code",
      "metadata": {
        "colab": {
          "base_uri": "https://localhost:8080/"
        },
        "id": "5rqs-KhN0lRx",
        "outputId": "44bb418e-b151-4b7f-f107-e74559619039"
      },
      "source": [
        "titanic_dev.info()"
      ],
      "execution_count": 12,
      "outputs": [
        {
          "output_type": "stream",
          "text": [
            "<class 'pandas.core.frame.DataFrame'>\n",
            "Index: 1307 entries, Allen, Miss. Elisabeth Walton to Zimmerman, Mr. Leo\n",
            "Data columns (total 12 columns):\n",
            " #   Column          Non-Null Count  Dtype  \n",
            "---  ------          --------------  -----  \n",
            " 0   pass_class      1307 non-null   int64  \n",
            " 1   sex             1307 non-null   int64  \n",
            " 2   age             1044 non-null   float64\n",
            " 3   no_sib_spo_ob   1307 non-null   int64  \n",
            " 4   no_par_chld_ob  1307 non-null   int64  \n",
            " 5   pass_fare       1306 non-null   float64\n",
            " 6   survived        1307 non-null   int64  \n",
            " 7   bool_life_boat  1307 non-null   int64  \n",
            " 8   Cherbourg       1307 non-null   int64  \n",
            " 9   Other           1307 non-null   int64  \n",
            " 10  Queenstown      1307 non-null   int64  \n",
            " 11  Southampton     1307 non-null   int64  \n",
            "dtypes: float64(2), int64(10)\n",
            "memory usage: 132.7+ KB\n"
          ],
          "name": "stdout"
        }
      ]
    },
    {
      "cell_type": "markdown",
      "metadata": {
        "id": "N2Kfpr5r0qh4"
      },
      "source": [
        "### 2.2 Nomalización del dataset a través de la función MinMax\n",
        "\n",
        "Ahora que estamos seguros de que nuestro dataset es completamente numerico, aplicaremos una función que normalizará nuestros datos, ya que como podremos apreciar a continuación, las medias de las variables son muy dispersas. Para lo anterior, usaremos la función **MinMax** para normalizar el dataset."
      ]
    },
    {
      "cell_type": "code",
      "metadata": {
        "colab": {
          "base_uri": "https://localhost:8080/",
          "height": 297
        },
        "id": "Yp1izS610vGT",
        "outputId": "eaf0ed05-6dfd-4632-ef27-cdad528adcd8"
      },
      "source": [
        "# Revisamos el summary de nuestro dataset actual para revisar las medias de las variables\n",
        "\n",
        "titanic_dev.describe()"
      ],
      "execution_count": 13,
      "outputs": [
        {
          "output_type": "execute_result",
          "data": {
            "text/html": [
              "<div>\n",
              "<style scoped>\n",
              "    .dataframe tbody tr th:only-of-type {\n",
              "        vertical-align: middle;\n",
              "    }\n",
              "\n",
              "    .dataframe tbody tr th {\n",
              "        vertical-align: top;\n",
              "    }\n",
              "\n",
              "    .dataframe thead th {\n",
              "        text-align: right;\n",
              "    }\n",
              "</style>\n",
              "<table border=\"1\" class=\"dataframe\">\n",
              "  <thead>\n",
              "    <tr style=\"text-align: right;\">\n",
              "      <th></th>\n",
              "      <th>pass_class</th>\n",
              "      <th>sex</th>\n",
              "      <th>age</th>\n",
              "      <th>no_sib_spo_ob</th>\n",
              "      <th>no_par_chld_ob</th>\n",
              "      <th>pass_fare</th>\n",
              "      <th>survived</th>\n",
              "      <th>bool_life_boat</th>\n",
              "      <th>Cherbourg</th>\n",
              "      <th>Other</th>\n",
              "      <th>Queenstown</th>\n",
              "      <th>Southampton</th>\n",
              "    </tr>\n",
              "  </thead>\n",
              "  <tbody>\n",
              "    <tr>\n",
              "      <th>count</th>\n",
              "      <td>1307.000000</td>\n",
              "      <td>1307.000000</td>\n",
              "      <td>1044.000000</td>\n",
              "      <td>1307.000000</td>\n",
              "      <td>1307.000000</td>\n",
              "      <td>1306.000000</td>\n",
              "      <td>1307.000000</td>\n",
              "      <td>1307.000000</td>\n",
              "      <td>1307.000000</td>\n",
              "      <td>1307.000000</td>\n",
              "      <td>1307.000000</td>\n",
              "      <td>1307.000000</td>\n",
              "    </tr>\n",
              "    <tr>\n",
              "      <th>mean</th>\n",
              "      <td>1.293803</td>\n",
              "      <td>0.644223</td>\n",
              "      <td>29.867497</td>\n",
              "      <td>0.499617</td>\n",
              "      <td>0.385616</td>\n",
              "      <td>33.334462</td>\n",
              "      <td>0.617445</td>\n",
              "      <td>0.371844</td>\n",
              "      <td>0.206580</td>\n",
              "      <td>0.001530</td>\n",
              "      <td>0.093344</td>\n",
              "      <td>0.698546</td>\n",
              "    </tr>\n",
              "    <tr>\n",
              "      <th>std</th>\n",
              "      <td>0.838022</td>\n",
              "      <td>0.478931</td>\n",
              "      <td>14.420680</td>\n",
              "      <td>1.042273</td>\n",
              "      <td>0.866092</td>\n",
              "      <td>51.788712</td>\n",
              "      <td>0.486197</td>\n",
              "      <td>0.483482</td>\n",
              "      <td>0.405006</td>\n",
              "      <td>0.039103</td>\n",
              "      <td>0.291025</td>\n",
              "      <td>0.459065</td>\n",
              "    </tr>\n",
              "    <tr>\n",
              "      <th>min</th>\n",
              "      <td>0.000000</td>\n",
              "      <td>0.000000</td>\n",
              "      <td>0.166700</td>\n",
              "      <td>0.000000</td>\n",
              "      <td>0.000000</td>\n",
              "      <td>0.000000</td>\n",
              "      <td>0.000000</td>\n",
              "      <td>0.000000</td>\n",
              "      <td>0.000000</td>\n",
              "      <td>0.000000</td>\n",
              "      <td>0.000000</td>\n",
              "      <td>0.000000</td>\n",
              "    </tr>\n",
              "    <tr>\n",
              "      <th>25%</th>\n",
              "      <td>1.000000</td>\n",
              "      <td>0.000000</td>\n",
              "      <td>21.000000</td>\n",
              "      <td>0.000000</td>\n",
              "      <td>0.000000</td>\n",
              "      <td>7.895800</td>\n",
              "      <td>0.000000</td>\n",
              "      <td>0.000000</td>\n",
              "      <td>0.000000</td>\n",
              "      <td>0.000000</td>\n",
              "      <td>0.000000</td>\n",
              "      <td>0.000000</td>\n",
              "    </tr>\n",
              "    <tr>\n",
              "      <th>50%</th>\n",
              "      <td>2.000000</td>\n",
              "      <td>1.000000</td>\n",
              "      <td>28.000000</td>\n",
              "      <td>0.000000</td>\n",
              "      <td>0.000000</td>\n",
              "      <td>14.454200</td>\n",
              "      <td>1.000000</td>\n",
              "      <td>0.000000</td>\n",
              "      <td>0.000000</td>\n",
              "      <td>0.000000</td>\n",
              "      <td>0.000000</td>\n",
              "      <td>1.000000</td>\n",
              "    </tr>\n",
              "    <tr>\n",
              "      <th>75%</th>\n",
              "      <td>2.000000</td>\n",
              "      <td>1.000000</td>\n",
              "      <td>39.000000</td>\n",
              "      <td>1.000000</td>\n",
              "      <td>0.000000</td>\n",
              "      <td>31.275000</td>\n",
              "      <td>1.000000</td>\n",
              "      <td>1.000000</td>\n",
              "      <td>0.000000</td>\n",
              "      <td>0.000000</td>\n",
              "      <td>0.000000</td>\n",
              "      <td>1.000000</td>\n",
              "    </tr>\n",
              "    <tr>\n",
              "      <th>max</th>\n",
              "      <td>2.000000</td>\n",
              "      <td>1.000000</td>\n",
              "      <td>80.000000</td>\n",
              "      <td>8.000000</td>\n",
              "      <td>9.000000</td>\n",
              "      <td>512.329200</td>\n",
              "      <td>1.000000</td>\n",
              "      <td>1.000000</td>\n",
              "      <td>1.000000</td>\n",
              "      <td>1.000000</td>\n",
              "      <td>1.000000</td>\n",
              "      <td>1.000000</td>\n",
              "    </tr>\n",
              "  </tbody>\n",
              "</table>\n",
              "</div>"
            ],
            "text/plain": [
              "        pass_class          sex  ...   Queenstown  Southampton\n",
              "count  1307.000000  1307.000000  ...  1307.000000  1307.000000\n",
              "mean      1.293803     0.644223  ...     0.093344     0.698546\n",
              "std       0.838022     0.478931  ...     0.291025     0.459065\n",
              "min       0.000000     0.000000  ...     0.000000     0.000000\n",
              "25%       1.000000     0.000000  ...     0.000000     0.000000\n",
              "50%       2.000000     1.000000  ...     0.000000     1.000000\n",
              "75%       2.000000     1.000000  ...     0.000000     1.000000\n",
              "max       2.000000     1.000000  ...     1.000000     1.000000\n",
              "\n",
              "[8 rows x 12 columns]"
            ]
          },
          "metadata": {
            "tags": []
          },
          "execution_count": 13
        }
      ]
    },
    {
      "cell_type": "code",
      "metadata": {
        "colab": {
          "base_uri": "https://localhost:8080/",
          "height": 252
        },
        "id": "K7nAzfKt01aJ",
        "outputId": "3a61a9cf-0247-4e33-8986-29fceae53493"
      },
      "source": [
        "# Aplicaremos la normalización con el metodo MinMax\n",
        "\n",
        "from sklearn.preprocessing import MinMaxScaler\n",
        "scaler = MinMaxScaler()\n",
        "scaler.fit(titanic_dev)\n",
        "titanic_dev_norm = scaler.transform(titanic_dev)\n",
        "\n",
        "# Pasamos nuestra matriz a dataframe\n",
        "\n",
        "titanic_dev_norm  = pd.DataFrame(titanic_dev_norm)\n",
        "titanic_dev_norm.columns = titanic_dev.columns\n",
        "titanic_dev_norm.index = titanic_dev.index\n",
        "titanic_dev_norm.head()"
      ],
      "execution_count": 14,
      "outputs": [
        {
          "output_type": "execute_result",
          "data": {
            "text/html": [
              "<div>\n",
              "<style scoped>\n",
              "    .dataframe tbody tr th:only-of-type {\n",
              "        vertical-align: middle;\n",
              "    }\n",
              "\n",
              "    .dataframe tbody tr th {\n",
              "        vertical-align: top;\n",
              "    }\n",
              "\n",
              "    .dataframe thead th {\n",
              "        text-align: right;\n",
              "    }\n",
              "</style>\n",
              "<table border=\"1\" class=\"dataframe\">\n",
              "  <thead>\n",
              "    <tr style=\"text-align: right;\">\n",
              "      <th></th>\n",
              "      <th>pass_class</th>\n",
              "      <th>sex</th>\n",
              "      <th>age</th>\n",
              "      <th>no_sib_spo_ob</th>\n",
              "      <th>no_par_chld_ob</th>\n",
              "      <th>pass_fare</th>\n",
              "      <th>survived</th>\n",
              "      <th>bool_life_boat</th>\n",
              "      <th>Cherbourg</th>\n",
              "      <th>Other</th>\n",
              "      <th>Queenstown</th>\n",
              "      <th>Southampton</th>\n",
              "    </tr>\n",
              "    <tr>\n",
              "      <th>name</th>\n",
              "      <th></th>\n",
              "      <th></th>\n",
              "      <th></th>\n",
              "      <th></th>\n",
              "      <th></th>\n",
              "      <th></th>\n",
              "      <th></th>\n",
              "      <th></th>\n",
              "      <th></th>\n",
              "      <th></th>\n",
              "      <th></th>\n",
              "      <th></th>\n",
              "    </tr>\n",
              "  </thead>\n",
              "  <tbody>\n",
              "    <tr>\n",
              "      <th>Allen, Miss. Elisabeth Walton</th>\n",
              "      <td>0.0</td>\n",
              "      <td>0.0</td>\n",
              "      <td>0.361169</td>\n",
              "      <td>0.000</td>\n",
              "      <td>0.000000</td>\n",
              "      <td>0.412503</td>\n",
              "      <td>0.0</td>\n",
              "      <td>1.0</td>\n",
              "      <td>0.0</td>\n",
              "      <td>0.0</td>\n",
              "      <td>0.0</td>\n",
              "      <td>1.0</td>\n",
              "    </tr>\n",
              "    <tr>\n",
              "      <th>Allison, Master. Hudson Trevor</th>\n",
              "      <td>0.0</td>\n",
              "      <td>1.0</td>\n",
              "      <td>0.009395</td>\n",
              "      <td>0.125</td>\n",
              "      <td>0.222222</td>\n",
              "      <td>0.295806</td>\n",
              "      <td>0.0</td>\n",
              "      <td>1.0</td>\n",
              "      <td>0.0</td>\n",
              "      <td>0.0</td>\n",
              "      <td>0.0</td>\n",
              "      <td>1.0</td>\n",
              "    </tr>\n",
              "    <tr>\n",
              "      <th>Allison, Miss. Helen Loraine</th>\n",
              "      <td>0.0</td>\n",
              "      <td>0.0</td>\n",
              "      <td>0.022964</td>\n",
              "      <td>0.125</td>\n",
              "      <td>0.222222</td>\n",
              "      <td>0.295806</td>\n",
              "      <td>1.0</td>\n",
              "      <td>0.0</td>\n",
              "      <td>0.0</td>\n",
              "      <td>0.0</td>\n",
              "      <td>0.0</td>\n",
              "      <td>1.0</td>\n",
              "    </tr>\n",
              "    <tr>\n",
              "      <th>Allison, Mr. Hudson Joshua Creighton</th>\n",
              "      <td>0.0</td>\n",
              "      <td>1.0</td>\n",
              "      <td>0.373695</td>\n",
              "      <td>0.125</td>\n",
              "      <td>0.222222</td>\n",
              "      <td>0.295806</td>\n",
              "      <td>1.0</td>\n",
              "      <td>0.0</td>\n",
              "      <td>0.0</td>\n",
              "      <td>0.0</td>\n",
              "      <td>0.0</td>\n",
              "      <td>1.0</td>\n",
              "    </tr>\n",
              "    <tr>\n",
              "      <th>Allison, Mrs. Hudson J C (Bessie Waldo Daniels)</th>\n",
              "      <td>0.0</td>\n",
              "      <td>0.0</td>\n",
              "      <td>0.311064</td>\n",
              "      <td>0.125</td>\n",
              "      <td>0.222222</td>\n",
              "      <td>0.295806</td>\n",
              "      <td>1.0</td>\n",
              "      <td>0.0</td>\n",
              "      <td>0.0</td>\n",
              "      <td>0.0</td>\n",
              "      <td>0.0</td>\n",
              "      <td>1.0</td>\n",
              "    </tr>\n",
              "  </tbody>\n",
              "</table>\n",
              "</div>"
            ],
            "text/plain": [
              "                                                 pass_class  ...  Southampton\n",
              "name                                                         ...             \n",
              "Allen, Miss. Elisabeth Walton                           0.0  ...          1.0\n",
              "Allison, Master. Hudson Trevor                          0.0  ...          1.0\n",
              "Allison, Miss. Helen Loraine                            0.0  ...          1.0\n",
              "Allison, Mr. Hudson Joshua Creighton                    0.0  ...          1.0\n",
              "Allison, Mrs. Hudson J C (Bessie Waldo Daniels)         0.0  ...          1.0\n",
              "\n",
              "[5 rows x 12 columns]"
            ]
          },
          "metadata": {
            "tags": []
          },
          "execution_count": 14
        }
      ]
    },
    {
      "cell_type": "code",
      "metadata": {
        "colab": {
          "base_uri": "https://localhost:8080/",
          "height": 297
        },
        "id": "_TK1rzMh1CnR",
        "outputId": "3d913caf-7cb4-4abb-a3cb-78fdf9fb7ee5"
      },
      "source": [
        "# Revisaremos como esta nuestro dataset normalizado\n",
        "\n",
        "titanic_dev_norm.describe()"
      ],
      "execution_count": 15,
      "outputs": [
        {
          "output_type": "execute_result",
          "data": {
            "text/html": [
              "<div>\n",
              "<style scoped>\n",
              "    .dataframe tbody tr th:only-of-type {\n",
              "        vertical-align: middle;\n",
              "    }\n",
              "\n",
              "    .dataframe tbody tr th {\n",
              "        vertical-align: top;\n",
              "    }\n",
              "\n",
              "    .dataframe thead th {\n",
              "        text-align: right;\n",
              "    }\n",
              "</style>\n",
              "<table border=\"1\" class=\"dataframe\">\n",
              "  <thead>\n",
              "    <tr style=\"text-align: right;\">\n",
              "      <th></th>\n",
              "      <th>pass_class</th>\n",
              "      <th>sex</th>\n",
              "      <th>age</th>\n",
              "      <th>no_sib_spo_ob</th>\n",
              "      <th>no_par_chld_ob</th>\n",
              "      <th>pass_fare</th>\n",
              "      <th>survived</th>\n",
              "      <th>bool_life_boat</th>\n",
              "      <th>Cherbourg</th>\n",
              "      <th>Other</th>\n",
              "      <th>Queenstown</th>\n",
              "      <th>Southampton</th>\n",
              "    </tr>\n",
              "  </thead>\n",
              "  <tbody>\n",
              "    <tr>\n",
              "      <th>count</th>\n",
              "      <td>1307.000000</td>\n",
              "      <td>1307.000000</td>\n",
              "      <td>1044.000000</td>\n",
              "      <td>1307.000000</td>\n",
              "      <td>1307.000000</td>\n",
              "      <td>1306.000000</td>\n",
              "      <td>1307.000000</td>\n",
              "      <td>1307.000000</td>\n",
              "      <td>1307.000000</td>\n",
              "      <td>1307.000000</td>\n",
              "      <td>1307.000000</td>\n",
              "      <td>1307.000000</td>\n",
              "    </tr>\n",
              "    <tr>\n",
              "      <th>mean</th>\n",
              "      <td>0.646901</td>\n",
              "      <td>0.644223</td>\n",
              "      <td>0.372035</td>\n",
              "      <td>0.062452</td>\n",
              "      <td>0.042846</td>\n",
              "      <td>0.065065</td>\n",
              "      <td>0.617445</td>\n",
              "      <td>0.371844</td>\n",
              "      <td>0.206580</td>\n",
              "      <td>0.001530</td>\n",
              "      <td>0.093344</td>\n",
              "      <td>0.698546</td>\n",
              "    </tr>\n",
              "    <tr>\n",
              "      <th>std</th>\n",
              "      <td>0.419011</td>\n",
              "      <td>0.478931</td>\n",
              "      <td>0.180635</td>\n",
              "      <td>0.130284</td>\n",
              "      <td>0.096232</td>\n",
              "      <td>0.101085</td>\n",
              "      <td>0.486197</td>\n",
              "      <td>0.483482</td>\n",
              "      <td>0.405006</td>\n",
              "      <td>0.039103</td>\n",
              "      <td>0.291025</td>\n",
              "      <td>0.459065</td>\n",
              "    </tr>\n",
              "    <tr>\n",
              "      <th>min</th>\n",
              "      <td>0.000000</td>\n",
              "      <td>0.000000</td>\n",
              "      <td>0.000000</td>\n",
              "      <td>0.000000</td>\n",
              "      <td>0.000000</td>\n",
              "      <td>0.000000</td>\n",
              "      <td>0.000000</td>\n",
              "      <td>0.000000</td>\n",
              "      <td>0.000000</td>\n",
              "      <td>0.000000</td>\n",
              "      <td>0.000000</td>\n",
              "      <td>0.000000</td>\n",
              "    </tr>\n",
              "    <tr>\n",
              "      <th>25%</th>\n",
              "      <td>0.500000</td>\n",
              "      <td>0.000000</td>\n",
              "      <td>0.260960</td>\n",
              "      <td>0.000000</td>\n",
              "      <td>0.000000</td>\n",
              "      <td>0.015412</td>\n",
              "      <td>0.000000</td>\n",
              "      <td>0.000000</td>\n",
              "      <td>0.000000</td>\n",
              "      <td>0.000000</td>\n",
              "      <td>0.000000</td>\n",
              "      <td>0.000000</td>\n",
              "    </tr>\n",
              "    <tr>\n",
              "      <th>50%</th>\n",
              "      <td>1.000000</td>\n",
              "      <td>1.000000</td>\n",
              "      <td>0.348643</td>\n",
              "      <td>0.000000</td>\n",
              "      <td>0.000000</td>\n",
              "      <td>0.028213</td>\n",
              "      <td>1.000000</td>\n",
              "      <td>0.000000</td>\n",
              "      <td>0.000000</td>\n",
              "      <td>0.000000</td>\n",
              "      <td>0.000000</td>\n",
              "      <td>1.000000</td>\n",
              "    </tr>\n",
              "    <tr>\n",
              "      <th>75%</th>\n",
              "      <td>1.000000</td>\n",
              "      <td>1.000000</td>\n",
              "      <td>0.486430</td>\n",
              "      <td>0.125000</td>\n",
              "      <td>0.000000</td>\n",
              "      <td>0.061045</td>\n",
              "      <td>1.000000</td>\n",
              "      <td>1.000000</td>\n",
              "      <td>0.000000</td>\n",
              "      <td>0.000000</td>\n",
              "      <td>0.000000</td>\n",
              "      <td>1.000000</td>\n",
              "    </tr>\n",
              "    <tr>\n",
              "      <th>max</th>\n",
              "      <td>1.000000</td>\n",
              "      <td>1.000000</td>\n",
              "      <td>1.000000</td>\n",
              "      <td>1.000000</td>\n",
              "      <td>1.000000</td>\n",
              "      <td>1.000000</td>\n",
              "      <td>1.000000</td>\n",
              "      <td>1.000000</td>\n",
              "      <td>1.000000</td>\n",
              "      <td>1.000000</td>\n",
              "      <td>1.000000</td>\n",
              "      <td>1.000000</td>\n",
              "    </tr>\n",
              "  </tbody>\n",
              "</table>\n",
              "</div>"
            ],
            "text/plain": [
              "        pass_class          sex  ...   Queenstown  Southampton\n",
              "count  1307.000000  1307.000000  ...  1307.000000  1307.000000\n",
              "mean      0.646901     0.644223  ...     0.093344     0.698546\n",
              "std       0.419011     0.478931  ...     0.291025     0.459065\n",
              "min       0.000000     0.000000  ...     0.000000     0.000000\n",
              "25%       0.500000     0.000000  ...     0.000000     0.000000\n",
              "50%       1.000000     1.000000  ...     0.000000     1.000000\n",
              "75%       1.000000     1.000000  ...     0.000000     1.000000\n",
              "max       1.000000     1.000000  ...     1.000000     1.000000\n",
              "\n",
              "[8 rows x 12 columns]"
            ]
          },
          "metadata": {
            "tags": []
          },
          "execution_count": 15
        }
      ]
    },
    {
      "cell_type": "markdown",
      "metadata": {
        "id": "opDPzgRH1JtF"
      },
      "source": [
        "### 2.3 Imputación de valores missing a través de k-NN\n",
        "\n",
        "Dado que no queremos perder información para desarrollar nuestro modelo, lo que haremos será hacer un imputación de datos a través del modelo KNN (k-Nearest Neighbor Imputation). Y lo que hará este modelo será reemplazar los valores nulos con el promedio de sus vecinos cercanos en el dataset."
      ]
    },
    {
      "cell_type": "code",
      "metadata": {
        "colab": {
          "base_uri": "https://localhost:8080/"
        },
        "id": "wzw8TsuT1RvE",
        "outputId": "b5115ac6-5d48-41c1-974e-15e23c10da84"
      },
      "source": [
        "# Imprimir missing values actuales\n",
        "\n",
        "val_titanic_norm = titanic_dev_norm.values\n",
        "print('Missing: %d' % sum(np.isnan(val_titanic_norm).flatten()))"
      ],
      "execution_count": 16,
      "outputs": [
        {
          "output_type": "stream",
          "text": [
            "Missing: 264\n"
          ],
          "name": "stdout"
        }
      ]
    },
    {
      "cell_type": "code",
      "metadata": {
        "colab": {
          "base_uri": "https://localhost:8080/"
        },
        "id": "UfsQurlC1Yav",
        "outputId": "55db48fa-d427-42fa-c63f-7aa2559f84cf"
      },
      "source": [
        "from sklearn.impute import KNNImputer\n",
        "\n",
        "# Define imputador\n",
        "imputer = KNNImputer()\n",
        "\n",
        "# Ajusta en el dataset\n",
        "imputer.fit(val_titanic_norm)\n",
        "\n",
        "# Transforma el dataset\n",
        "val_titanic_norm_tr = imputer.transform(val_titanic_norm)\n",
        "\n",
        "# Imprimir missing values nuevos\n",
        "print('Missing: %d' % sum(np.isnan(val_titanic_norm_tr).flatten()))"
      ],
      "execution_count": 17,
      "outputs": [
        {
          "output_type": "stream",
          "text": [
            "Missing: 0\n"
          ],
          "name": "stdout"
        }
      ]
    },
    {
      "cell_type": "markdown",
      "metadata": {
        "id": "jRw9WS9r1dej"
      },
      "source": [
        "Ahora que tenemos nuestro dataset imputado, reemplazaremos el dataset con valores missing por este nuevo dataset."
      ]
    },
    {
      "cell_type": "code",
      "metadata": {
        "colab": {
          "base_uri": "https://localhost:8080/",
          "height": 297
        },
        "id": "22Bgaa5g1h2z",
        "outputId": "b338a954-1845-4e3f-8e1a-9ad84d62ba71"
      },
      "source": [
        "# Reemplazamos el dataset con missing values por el imputado por KNN.\n",
        "\n",
        "titanic_dev_norm = pd.DataFrame(val_titanic_norm_tr)\n",
        "titanic_dev_norm.columns = titanic_dev.columns\n",
        "titanic_dev_norm.index = titanic_dev.index\n",
        "titanic_dev_norm.head()\n",
        "\n",
        "# Revisamos la existencia de missing values en nuestro dataset.\n",
        "\n",
        "titanic_dev_norm.describe()"
      ],
      "execution_count": 18,
      "outputs": [
        {
          "output_type": "execute_result",
          "data": {
            "text/html": [
              "<div>\n",
              "<style scoped>\n",
              "    .dataframe tbody tr th:only-of-type {\n",
              "        vertical-align: middle;\n",
              "    }\n",
              "\n",
              "    .dataframe tbody tr th {\n",
              "        vertical-align: top;\n",
              "    }\n",
              "\n",
              "    .dataframe thead th {\n",
              "        text-align: right;\n",
              "    }\n",
              "</style>\n",
              "<table border=\"1\" class=\"dataframe\">\n",
              "  <thead>\n",
              "    <tr style=\"text-align: right;\">\n",
              "      <th></th>\n",
              "      <th>pass_class</th>\n",
              "      <th>sex</th>\n",
              "      <th>age</th>\n",
              "      <th>no_sib_spo_ob</th>\n",
              "      <th>no_par_chld_ob</th>\n",
              "      <th>pass_fare</th>\n",
              "      <th>survived</th>\n",
              "      <th>bool_life_boat</th>\n",
              "      <th>Cherbourg</th>\n",
              "      <th>Other</th>\n",
              "      <th>Queenstown</th>\n",
              "      <th>Southampton</th>\n",
              "    </tr>\n",
              "  </thead>\n",
              "  <tbody>\n",
              "    <tr>\n",
              "      <th>count</th>\n",
              "      <td>1307.000000</td>\n",
              "      <td>1307.000000</td>\n",
              "      <td>1307.000000</td>\n",
              "      <td>1307.000000</td>\n",
              "      <td>1307.000000</td>\n",
              "      <td>1307.000000</td>\n",
              "      <td>1307.000000</td>\n",
              "      <td>1307.000000</td>\n",
              "      <td>1307.000000</td>\n",
              "      <td>1307.000000</td>\n",
              "      <td>1307.000000</td>\n",
              "      <td>1307.000000</td>\n",
              "    </tr>\n",
              "    <tr>\n",
              "      <th>mean</th>\n",
              "      <td>0.646901</td>\n",
              "      <td>0.644223</td>\n",
              "      <td>0.373983</td>\n",
              "      <td>0.062452</td>\n",
              "      <td>0.042846</td>\n",
              "      <td>0.065032</td>\n",
              "      <td>0.617445</td>\n",
              "      <td>0.371844</td>\n",
              "      <td>0.206580</td>\n",
              "      <td>0.001530</td>\n",
              "      <td>0.093344</td>\n",
              "      <td>0.698546</td>\n",
              "    </tr>\n",
              "    <tr>\n",
              "      <th>std</th>\n",
              "      <td>0.419011</td>\n",
              "      <td>0.478931</td>\n",
              "      <td>0.171985</td>\n",
              "      <td>0.130284</td>\n",
              "      <td>0.096232</td>\n",
              "      <td>0.101053</td>\n",
              "      <td>0.486197</td>\n",
              "      <td>0.483482</td>\n",
              "      <td>0.405006</td>\n",
              "      <td>0.039103</td>\n",
              "      <td>0.291025</td>\n",
              "      <td>0.459065</td>\n",
              "    </tr>\n",
              "    <tr>\n",
              "      <th>min</th>\n",
              "      <td>0.000000</td>\n",
              "      <td>0.000000</td>\n",
              "      <td>0.000000</td>\n",
              "      <td>0.000000</td>\n",
              "      <td>0.000000</td>\n",
              "      <td>0.000000</td>\n",
              "      <td>0.000000</td>\n",
              "      <td>0.000000</td>\n",
              "      <td>0.000000</td>\n",
              "      <td>0.000000</td>\n",
              "      <td>0.000000</td>\n",
              "      <td>0.000000</td>\n",
              "    </tr>\n",
              "    <tr>\n",
              "      <th>25%</th>\n",
              "      <td>0.500000</td>\n",
              "      <td>0.000000</td>\n",
              "      <td>0.260960</td>\n",
              "      <td>0.000000</td>\n",
              "      <td>0.000000</td>\n",
              "      <td>0.015412</td>\n",
              "      <td>0.000000</td>\n",
              "      <td>0.000000</td>\n",
              "      <td>0.000000</td>\n",
              "      <td>0.000000</td>\n",
              "      <td>0.000000</td>\n",
              "      <td>0.000000</td>\n",
              "    </tr>\n",
              "    <tr>\n",
              "      <th>50%</th>\n",
              "      <td>1.000000</td>\n",
              "      <td>1.000000</td>\n",
              "      <td>0.356158</td>\n",
              "      <td>0.000000</td>\n",
              "      <td>0.000000</td>\n",
              "      <td>0.028213</td>\n",
              "      <td>1.000000</td>\n",
              "      <td>0.000000</td>\n",
              "      <td>0.000000</td>\n",
              "      <td>0.000000</td>\n",
              "      <td>0.000000</td>\n",
              "      <td>1.000000</td>\n",
              "    </tr>\n",
              "    <tr>\n",
              "      <th>75%</th>\n",
              "      <td>1.000000</td>\n",
              "      <td>1.000000</td>\n",
              "      <td>0.474530</td>\n",
              "      <td>0.125000</td>\n",
              "      <td>0.000000</td>\n",
              "      <td>0.061045</td>\n",
              "      <td>1.000000</td>\n",
              "      <td>1.000000</td>\n",
              "      <td>0.000000</td>\n",
              "      <td>0.000000</td>\n",
              "      <td>0.000000</td>\n",
              "      <td>1.000000</td>\n",
              "    </tr>\n",
              "    <tr>\n",
              "      <th>max</th>\n",
              "      <td>1.000000</td>\n",
              "      <td>1.000000</td>\n",
              "      <td>1.000000</td>\n",
              "      <td>1.000000</td>\n",
              "      <td>1.000000</td>\n",
              "      <td>1.000000</td>\n",
              "      <td>1.000000</td>\n",
              "      <td>1.000000</td>\n",
              "      <td>1.000000</td>\n",
              "      <td>1.000000</td>\n",
              "      <td>1.000000</td>\n",
              "      <td>1.000000</td>\n",
              "    </tr>\n",
              "  </tbody>\n",
              "</table>\n",
              "</div>"
            ],
            "text/plain": [
              "        pass_class          sex  ...   Queenstown  Southampton\n",
              "count  1307.000000  1307.000000  ...  1307.000000  1307.000000\n",
              "mean      0.646901     0.644223  ...     0.093344     0.698546\n",
              "std       0.419011     0.478931  ...     0.291025     0.459065\n",
              "min       0.000000     0.000000  ...     0.000000     0.000000\n",
              "25%       0.500000     0.000000  ...     0.000000     0.000000\n",
              "50%       1.000000     1.000000  ...     0.000000     1.000000\n",
              "75%       1.000000     1.000000  ...     0.000000     1.000000\n",
              "max       1.000000     1.000000  ...     1.000000     1.000000\n",
              "\n",
              "[8 rows x 12 columns]"
            ]
          },
          "metadata": {
            "tags": []
          },
          "execution_count": 18
        }
      ]
    },
    {
      "cell_type": "markdown",
      "metadata": {
        "id": "i-OS-v5i1l0G"
      },
      "source": [
        "Como podemos apreciar, nuestro dataset esta sin valores missing y totalmente normalizado. Con este dataset podemos trabajar ahora nuestro modelo de clusterización."
      ]
    },
    {
      "cell_type": "markdown",
      "metadata": {
        "id": "leOYiirv7sOr"
      },
      "source": [
        "## 3. Implementación K-Means"
      ]
    },
    {
      "cell_type": "markdown",
      "metadata": {
        "id": "BWJUx7hn1r9C"
      },
      "source": [
        "### 3.1. Búsqueda óptima de clusters a través del método del códo.\n",
        "\n",
        "En este punto lo que veremos es el valor k óptimo para definir la cantidad de clusters en nuestro modelo. Para lo anterior, utilizaremos el **método del códo** que nos indica donde se encuenta el punto de inflexión en donde al seguir separando en k clusters, este no aporta mayor suma de las distancias al cuadrado (Inercia) intercluster [WSS].\n",
        "Veremos a través de una gráfica donde se genera este punto de inflexión (códo)."
      ]
    },
    {
      "cell_type": "code",
      "metadata": {
        "id": "PwZbDBnB13xx"
      },
      "source": [
        "# Calcularemos la inercia para una cantidad k = 10 de clústers y compararemos en un gráfico.\n",
        "\n",
        "from sklearn.cluster import KMeans\n",
        "\n",
        "WSS = []\n",
        "\n",
        "for i in range(1,21):\n",
        "    kmeans = KMeans(n_clusters = i, max_iter = 300, random_state = 1)\n",
        "    kmeans.fit(titanic_dev_norm)\n",
        "    WSS.append(kmeans.inertia_)"
      ],
      "execution_count": 19,
      "outputs": []
    },
    {
      "cell_type": "markdown",
      "metadata": {
        "id": "oQO52_q219c8"
      },
      "source": [
        "Revisaremos como se ve el gráfico de inercia versus el número de clusters."
      ]
    },
    {
      "cell_type": "code",
      "metadata": {
        "colab": {
          "base_uri": "https://localhost:8080/",
          "height": 295
        },
        "id": "4Ff1v0zA1_YT",
        "outputId": "49db28e8-9845-4184-add8-6fa934e38b45"
      },
      "source": [
        "plt.plot(range(1,21),WSS,'-bx')\n",
        "plt.title('Método del códo - Inercia vs k-clusters')\n",
        "plt.xlabel('k-clusters')\n",
        "plt.ylabel('Inercia (WSS)')\n",
        "plt.style.use('ggplot')\n",
        "plt.show()"
      ],
      "execution_count": 20,
      "outputs": [
        {
          "output_type": "display_data",
          "data": {
            "image/png": "[encoded data removed]",
            "text/plain": [
              "<Figure size 432x288 with 1 Axes>"
            ]
          },
          "metadata": {
            "tags": [],
            "needs_background": "light"
          }
        }
      ]
    },
    {
      "cell_type": "markdown",
      "metadata": {
        "id": "KjY42tld2gNe"
      },
      "source": [
        "Podemos concluir de este método, que el número k de clústers óptimo para el dataset es de **$k = 2$**."
      ]
    },
    {
      "cell_type": "markdown",
      "metadata": {
        "id": "v9elkl3W2khV"
      },
      "source": [
        "### 3.2 Búsqueda óptima de clusters a través del método de Calinski y Harabasz index.\n",
        "\n",
        "Este método, nos entrega un indice para k-clusters en donde relaciona la dispersión a nivel intercluster (SSW) e intracluster (SSB) de la siguiente manera:\n",
        "\n",
        "$$CH_{index} = \\dfrac{SSB/(k-1)}{SSW/(n-k)},$$\n",
        "\n",
        "donde $n$ es la cantidad de filas del dataset y $k$ la cantidad de clústers medidos. Utilizaremos el package de sckit-learn para definir este indice para cada $k$ partición."
      ]
    },
    {
      "cell_type": "code",
      "metadata": {
        "id": "MBkF67b32pzu"
      },
      "source": [
        "# Calcularemos el index para una cantidad k = 10 de clústers y compararemos en un gráfico.\n",
        "\n",
        "from sklearn.metrics import calinski_harabasz_score\n",
        "\n",
        "CH_index = []\n",
        "\n",
        "for i in range(2,21):\n",
        "    kmeans = KMeans(n_clusters = i, max_iter = 300, random_state = 1).fit(titanic_dev_norm)\n",
        "    labels = kmeans.labels_\n",
        "    CH_index.append(calinski_harabasz_score(titanic_dev_norm, labels))"
      ],
      "execution_count": 21,
      "outputs": []
    },
    {
      "cell_type": "markdown",
      "metadata": {
        "id": "f92cj2bu2vkn"
      },
      "source": [
        "Revisaremos como se ve el gráfico de CH_index versus el número de clusters."
      ]
    },
    {
      "cell_type": "code",
      "metadata": {
        "colab": {
          "base_uri": "https://localhost:8080/",
          "height": 300
        },
        "id": "r1MDTJAs2yni",
        "outputId": "9b516b1a-0674-4789-cc6a-6cbae56e8f1f"
      },
      "source": [
        "plt.plot(range(2,21),CH_index,'-bx')\n",
        "plt.title('Método de Calinski y Harabasz index')\n",
        "plt.xlabel('k-clusters')\n",
        "plt.ylabel('CH_index')\n",
        "plt.style.use('ggplot')\n",
        "plt.show()"
      ],
      "execution_count": 22,
      "outputs": [
        {
          "output_type": "display_data",
          "data": {
            "image/png": "[encoded data removed]",
            "text/plain": [
              "<Figure size 432x288 with 1 Axes>"
            ]
          },
          "metadata": {
            "tags": []
          }
        }
      ]
    },
    {
      "cell_type": "markdown",
      "metadata": {
        "id": "V5IEsAzK232X"
      },
      "source": [
        "Este método nos vuelve a confirmar que el número k de clústers óptimo para el dataset es de **$k = 2$**, dado que tiene el mayor $CH_{index} \\approx 830$. De todas maneras, para salir de dudas utilizaremos la paquetería de **yellowbrick** que nos entrega directamente el valor k óptimo del indice de Calinski Harabasz."
      ]
    },
    {
      "cell_type": "code",
      "metadata": {
        "colab": {
          "base_uri": "https://localhost:8080/",
          "height": 1000
        },
        "id": "4Ro6jdB-29wX",
        "outputId": "f168a429-44f1-4b1e-d3cb-0a9988274b4f"
      },
      "source": [
        "# Calinski Harabasz Score for K means\n",
        "from yellowbrick.cluster import KElbowVisualizer\n",
        "\n",
        "model = KMeans()\n",
        "\n",
        "visualizer = KElbowVisualizer(model, k=(2,30),metric='calinski_harabaz', timings= True)\n",
        "visualizer.fit(titanic_dev_norm)\n",
        "visualizer.poof()"
      ],
      "execution_count": 31,
      "outputs": [
        {
          "output_type": "stream",
          "text": [
            "/usr/local/lib/python3.7/dist-packages/sklearn/utils/deprecation.py:87: FutureWarning: Function calinski_harabaz_score is deprecated; Function 'calinski_harabaz_score' has been renamed to 'calinski_harabasz_score' and will be removed in version 0.23.\n",
            "  warnings.warn(msg, category=FutureWarning)\n",
            "/usr/local/lib/python3.7/dist-packages/sklearn/utils/deprecation.py:87: FutureWarning: Function calinski_harabaz_score is deprecated; Function 'calinski_harabaz_score' has been renamed to 'calinski_harabasz_score' and will be removed in version 0.23.\n",
            "  warnings.warn(msg, category=FutureWarning)\n",
            "/usr/local/lib/python3.7/dist-packages/sklearn/utils/deprecation.py:87: FutureWarning: Function calinski_harabaz_score is deprecated; Function 'calinski_harabaz_score' has been renamed to 'calinski_harabasz_score' and will be removed in version 0.23.\n",
            "  warnings.warn(msg, category=FutureWarning)\n",
            "/usr/local/lib/python3.7/dist-packages/sklearn/utils/deprecation.py:87: FutureWarning: Function calinski_harabaz_score is deprecated; Function 'calinski_harabaz_score' has been renamed to 'calinski_harabasz_score' and will be removed in version 0.23.\n",
            "  warnings.warn(msg, category=FutureWarning)\n",
            "/usr/local/lib/python3.7/dist-packages/sklearn/utils/deprecation.py:87: FutureWarning: Function calinski_harabaz_score is deprecated; Function 'calinski_harabaz_score' has been renamed to 'calinski_harabasz_score' and will be removed in version 0.23.\n",
            "  warnings.warn(msg, category=FutureWarning)\n",
            "/usr/local/lib/python3.7/dist-packages/sklearn/utils/deprecation.py:87: FutureWarning: Function calinski_harabaz_score is deprecated; Function 'calinski_harabaz_score' has been renamed to 'calinski_harabasz_score' and will be removed in version 0.23.\n",
            "  warnings.warn(msg, category=FutureWarning)\n",
            "/usr/local/lib/python3.7/dist-packages/sklearn/utils/deprecation.py:87: FutureWarning: Function calinski_harabaz_score is deprecated; Function 'calinski_harabaz_score' has been renamed to 'calinski_harabasz_score' and will be removed in version 0.23.\n",
            "  warnings.warn(msg, category=FutureWarning)\n",
            "/usr/local/lib/python3.7/dist-packages/sklearn/utils/deprecation.py:87: FutureWarning: Function calinski_harabaz_score is deprecated; Function 'calinski_harabaz_score' has been renamed to 'calinski_harabasz_score' and will be removed in version 0.23.\n",
            "  warnings.warn(msg, category=FutureWarning)\n",
            "/usr/local/lib/python3.7/dist-packages/sklearn/utils/deprecation.py:87: FutureWarning: Function calinski_harabaz_score is deprecated; Function 'calinski_harabaz_score' has been renamed to 'calinski_harabasz_score' and will be removed in version 0.23.\n",
            "  warnings.warn(msg, category=FutureWarning)\n",
            "/usr/local/lib/python3.7/dist-packages/sklearn/utils/deprecation.py:87: FutureWarning: Function calinski_harabaz_score is deprecated; Function 'calinski_harabaz_score' has been renamed to 'calinski_harabasz_score' and will be removed in version 0.23.\n",
            "  warnings.warn(msg, category=FutureWarning)\n",
            "/usr/local/lib/python3.7/dist-packages/sklearn/utils/deprecation.py:87: FutureWarning: Function calinski_harabaz_score is deprecated; Function 'calinski_harabaz_score' has been renamed to 'calinski_harabasz_score' and will be removed in version 0.23.\n",
            "  warnings.warn(msg, category=FutureWarning)\n",
            "/usr/local/lib/python3.7/dist-packages/sklearn/utils/deprecation.py:87: FutureWarning: Function calinski_harabaz_score is deprecated; Function 'calinski_harabaz_score' has been renamed to 'calinski_harabasz_score' and will be removed in version 0.23.\n",
            "  warnings.warn(msg, category=FutureWarning)\n",
            "/usr/local/lib/python3.7/dist-packages/sklearn/utils/deprecation.py:87: FutureWarning: Function calinski_harabaz_score is deprecated; Function 'calinski_harabaz_score' has been renamed to 'calinski_harabasz_score' and will be removed in version 0.23.\n",
            "  warnings.warn(msg, category=FutureWarning)\n",
            "/usr/local/lib/python3.7/dist-packages/sklearn/utils/deprecation.py:87: FutureWarning: Function calinski_harabaz_score is deprecated; Function 'calinski_harabaz_score' has been renamed to 'calinski_harabasz_score' and will be removed in version 0.23.\n",
            "  warnings.warn(msg, category=FutureWarning)\n",
            "/usr/local/lib/python3.7/dist-packages/sklearn/utils/deprecation.py:87: FutureWarning: Function calinski_harabaz_score is deprecated; Function 'calinski_harabaz_score' has been renamed to 'calinski_harabasz_score' and will be removed in version 0.23.\n",
            "  warnings.warn(msg, category=FutureWarning)\n",
            "/usr/local/lib/python3.7/dist-packages/sklearn/utils/deprecation.py:87: FutureWarning: Function calinski_harabaz_score is deprecated; Function 'calinski_harabaz_score' has been renamed to 'calinski_harabasz_score' and will be removed in version 0.23.\n",
            "  warnings.warn(msg, category=FutureWarning)\n",
            "/usr/local/lib/python3.7/dist-packages/sklearn/utils/deprecation.py:87: FutureWarning: Function calinski_harabaz_score is deprecated; Function 'calinski_harabaz_score' has been renamed to 'calinski_harabasz_score' and will be removed in version 0.23.\n",
            "  warnings.warn(msg, category=FutureWarning)\n",
            "/usr/local/lib/python3.7/dist-packages/sklearn/utils/deprecation.py:87: FutureWarning: Function calinski_harabaz_score is deprecated; Function 'calinski_harabaz_score' has been renamed to 'calinski_harabasz_score' and will be removed in version 0.23.\n",
            "  warnings.warn(msg, category=FutureWarning)\n",
            "/usr/local/lib/python3.7/dist-packages/sklearn/utils/deprecation.py:87: FutureWarning: Function calinski_harabaz_score is deprecated; Function 'calinski_harabaz_score' has been renamed to 'calinski_harabasz_score' and will be removed in version 0.23.\n",
            "  warnings.warn(msg, category=FutureWarning)\n",
            "/usr/local/lib/python3.7/dist-packages/sklearn/utils/deprecation.py:87: FutureWarning: Function calinski_harabaz_score is deprecated; Function 'calinski_harabaz_score' has been renamed to 'calinski_harabasz_score' and will be removed in version 0.23.\n",
            "  warnings.warn(msg, category=FutureWarning)\n",
            "/usr/local/lib/python3.7/dist-packages/sklearn/utils/deprecation.py:87: FutureWarning: Function calinski_harabaz_score is deprecated; Function 'calinski_harabaz_score' has been renamed to 'calinski_harabasz_score' and will be removed in version 0.23.\n",
            "  warnings.warn(msg, category=FutureWarning)\n",
            "/usr/local/lib/python3.7/dist-packages/sklearn/utils/deprecation.py:87: FutureWarning: Function calinski_harabaz_score is deprecated; Function 'calinski_harabaz_score' has been renamed to 'calinski_harabasz_score' and will be removed in version 0.23.\n",
            "  warnings.warn(msg, category=FutureWarning)\n",
            "/usr/local/lib/python3.7/dist-packages/sklearn/utils/deprecation.py:87: FutureWarning: Function calinski_harabaz_score is deprecated; Function 'calinski_harabaz_score' has been renamed to 'calinski_harabasz_score' and will be removed in version 0.23.\n",
            "  warnings.warn(msg, category=FutureWarning)\n",
            "/usr/local/lib/python3.7/dist-packages/sklearn/utils/deprecation.py:87: FutureWarning: Function calinski_harabaz_score is deprecated; Function 'calinski_harabaz_score' has been renamed to 'calinski_harabasz_score' and will be removed in version 0.23.\n",
            "  warnings.warn(msg, category=FutureWarning)\n",
            "/usr/local/lib/python3.7/dist-packages/sklearn/utils/deprecation.py:87: FutureWarning: Function calinski_harabaz_score is deprecated; Function 'calinski_harabaz_score' has been renamed to 'calinski_harabasz_score' and will be removed in version 0.23.\n",
            "  warnings.warn(msg, category=FutureWarning)\n",
            "/usr/local/lib/python3.7/dist-packages/sklearn/utils/deprecation.py:87: FutureWarning: Function calinski_harabaz_score is deprecated; Function 'calinski_harabaz_score' has been renamed to 'calinski_harabasz_score' and will be removed in version 0.23.\n",
            "  warnings.warn(msg, category=FutureWarning)\n",
            "/usr/local/lib/python3.7/dist-packages/sklearn/utils/deprecation.py:87: FutureWarning: Function calinski_harabaz_score is deprecated; Function 'calinski_harabaz_score' has been renamed to 'calinski_harabasz_score' and will be removed in version 0.23.\n",
            "  warnings.warn(msg, category=FutureWarning)\n",
            "/usr/local/lib/python3.7/dist-packages/sklearn/utils/deprecation.py:87: FutureWarning: Function calinski_harabaz_score is deprecated; Function 'calinski_harabaz_score' has been renamed to 'calinski_harabasz_score' and will be removed in version 0.23.\n",
            "  warnings.warn(msg, category=FutureWarning)\n"
          ],
          "name": "stderr"
        },
        {
          "output_type": "display_data",
          "data": {
            "image/png": "[encoded data removed]",
            "text/plain": [
              "<Figure size 576x396 with 2 Axes>"
            ]
          },
          "metadata": {
            "tags": []
          }
        }
      ]
    },
    {
      "cell_type": "markdown",
      "metadata": {
        "id": "IvhfeOPJ6Btb"
      },
      "source": [
        "Volvemos a confirmar que para $k = 2$ esta el punto óptimo de clusters para segmentar."
      ]
    },
    {
      "cell_type": "markdown",
      "metadata": {
        "id": "kDrfZHXi6GYH"
      },
      "source": [
        "### 3.3 Análisis de centroides.\n",
        "\n",
        "Ahora, que sabemos el k óptimo para segmentar, realizaremos el modelo KMeans para segmentar con $k = 2$."
      ]
    },
    {
      "cell_type": "code",
      "metadata": {
        "id": "KE2zqiOe6KOQ"
      },
      "source": [
        "titanic_kmeans = KMeans(n_clusters = 2, max_iter = 300, random_state = 1).fit(titanic_dev_norm)"
      ],
      "execution_count": null,
      "outputs": []
    },
    {
      "cell_type": "code",
      "metadata": {
        "id": "o-ba2aHC6O87"
      },
      "source": [
        "tit_centroides = titanic_kmeans.cluster_centers_\n",
        "tit_centroides_df = pd.DataFrame(tit_centroides)\n",
        "tit_centroides_df.columns = titanic_dev_norm.columns\n",
        "tit_centroides_df"
      ],
      "execution_count": null,
      "outputs": []
    },
    {
      "cell_type": "code",
      "metadata": {
        "id": "VVYHWRO06WR-"
      },
      "source": [
        "plt.plot(tit_centroides_df.columns, tit_centroides[0], 'r', linestyle='--', label='Cluster 0')\n",
        "plt.plot(tit_centroides_df.columns, tit_centroides[1], 'b', linestyle=':', label='Cluster 1')\n",
        "plt.legend(loc = 'lower right')\n",
        "plt.title('Valores medios de los atributos por cluster')\n",
        "plt.xlabel('Atributos')\n",
        "plt.xticks(rotation=45, ha='right')\n",
        "plt.ylabel('Valores medios')\n",
        "plt.show()"
      ],
      "execution_count": null,
      "outputs": []
    },
    {
      "cell_type": "markdown",
      "metadata": {
        "id": "p69DoQGS6cBs"
      },
      "source": [
        "De la gráfica de centroides podemos apreciar lo siguiente de los 2 clusters:\n",
        "\n",
        "   1. **Cluster 0:** Esta conformado de personas de *tercera clase*, generalmente *hombres*, de distintas edades, que *no sobrevivieron*, y por lo tanto *no se encontraban en un bote salvavidas*, que en gran parte embarcaron en el puerto de *Southampton*.\n",
        "   2. **Cluster 1:** Esta conformado de personas de *segunda y primera clase*, generalmente *mujeres*, de distintas edades, que *sobrevivieron*, y que gran parte *se encontraban en un bote salvavidas*, que en gran parte embarcaron en los puertos de *Shouthampton y Cherbourg*."
      ]
    },
    {
      "cell_type": "markdown",
      "metadata": {
        "id": "arFf7XJL6mfa"
      },
      "source": [
        "#### 3.3.1 PCA para visualización de los clusters.\n",
        "\n",
        "Dado que estamos segmentando con mas de dos variables el dataset, se hace difícil poder ver visualmente la separación de los clústers desarrollaods, por lo que usaremos una metodología llamada **Análisis de Componentes Principales (PCA)**, para encontrar las 2 componentes principales del dataset para viusalizar gráficamente como se encuentran nuestros clústers."
      ]
    },
    {
      "cell_type": "code",
      "metadata": {
        "id": "suN38F8o6uVG"
      },
      "source": [
        "from sklearn.decomposition import PCA\n",
        "\n",
        "pca = PCA(n_components=2)\n",
        "principalComponents = pca.fit_transform(titanic_dev_norm)\n",
        "principalDf = pd.DataFrame(data = principalComponents\n",
        "             , columns = ['PC1', 'PC2'])"
      ],
      "execution_count": null,
      "outputs": []
    },
    {
      "cell_type": "code",
      "metadata": {
        "id": "clDXeKut61Ex"
      },
      "source": [
        "cluster = 'Cluster ' + pd.DataFrame(titanic_kmeans.labels_).astype(str)\n",
        "cluster.columns = ['cluster']\n",
        "\n",
        "tit_pca = pd.concat([principalDf, cluster], axis = 1)\n",
        "tit_pca.head()"
      ],
      "execution_count": null,
      "outputs": []
    },
    {
      "cell_type": "code",
      "metadata": {
        "id": "VSkB5tur64NB"
      },
      "source": [
        "fig = plt.figure()\n",
        "ax = fig.add_subplot(1,1,1) \n",
        "ax.set_xlabel('Principal Component 1', fontsize = 15)\n",
        "ax.set_ylabel('Principal Component 2', fontsize = 15)\n",
        "ax.set_title('2 component PCA', fontsize = 20)\n",
        "clusters = ['Cluster 0', 'Cluster 1']\n",
        "colors = ['r', 'b']\n",
        "for cluster, color in zip(clusters,colors):\n",
        "    indicesToKeep = tit_pca['cluster'] == cluster\n",
        "    ax.scatter(tit_pca.loc[indicesToKeep, 'PC1']\n",
        "               , tit_pca.loc[indicesToKeep, 'PC2']\n",
        "               , c = color\n",
        "               , s = 50)\n",
        "ax.legend(clusters)"
      ],
      "execution_count": null,
      "outputs": []
    },
    {
      "cell_type": "markdown",
      "metadata": {
        "id": "ZgX1Rg6H69k8"
      },
      "source": [
        "### 3.4 Visualización en 2 dimensiones.\n",
        "\n",
        "Revisaremos tambien como quedan nuestra segmentación para 2 dimensiones."
      ]
    },
    {
      "cell_type": "code",
      "metadata": {
        "id": "i3m7tn537BLz"
      },
      "source": [
        "tit_labels = titanic_kmeans.labels_\n",
        "colours = ['red','blue']\n",
        "asignar = []\n",
        "\n",
        "for i in tit_labels:\n",
        "    asignar.append(colours[i])"
      ],
      "execution_count": null,
      "outputs": []
    },
    {
      "cell_type": "code",
      "metadata": {
        "id": "vR5ktDko7Dww"
      },
      "source": [
        "plt.scatter(titanic_dev_norm['pass_class'],titanic_dev_norm['survived'], c = asignar)\n",
        "plt.title('Relación clase ticket, sobrevivencia y centroides')\n",
        "plt.xlabel('pass_class')\n",
        "plt.ylabel('survived')\n",
        "\n",
        "plt.scatter(tit_centroides[0,0], tit_centroides[0,6], marker = '*', c = 'red', s = 500)\n",
        "plt.scatter(tit_centroides[1,0], tit_centroides[1,6], marker = '*', c = 'blue', s = 500)\n",
        "\n",
        "plt.show()"
      ],
      "execution_count": null,
      "outputs": []
    },
    {
      "cell_type": "markdown",
      "metadata": {
        "id": "LlMbMcnt7Ing"
      },
      "source": [
        "### 3.5 Visualización en 3 dimensiones.\n",
        "\n",
        "Revisaremos tambien como quedan nuestra segmentación para 3 dimensiones."
      ]
    },
    {
      "cell_type": "code",
      "metadata": {
        "id": "K1V93kwH7MBH"
      },
      "source": [
        "from mpl_toolkits.mplot3d import axes3d\n",
        "\n",
        "fig = plt.figure()\n",
        "ax = fig.add_subplot(111,projection = '3d')\n",
        "\n",
        "ax.scatter(titanic_dev_norm['pass_class'],titanic_dev_norm['survived'], titanic_dev_norm['no_par_chld_ob'], c = asignar, marker = 'o')\n",
        "ax.set_xlabel('pass_class')\n",
        "ax.set_ylabel('survived')\n",
        "ax.set_zlabel('no_par_chld_ob')\n",
        "ax.scatter(tit_centroides[0,0], tit_centroides[0,6], tit_centroides[0,4], marker = 'x', c = 'red', s = 500)\n",
        "ax.scatter(tit_centroides[1,0], tit_centroides[1,6], tit_centroides[1,4], marker = 'x', c = 'blue', s = 500)\n"
      ],
      "execution_count": null,
      "outputs": []
    }
  ]
}