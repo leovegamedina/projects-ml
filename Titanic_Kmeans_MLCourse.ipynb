{
  "nbformat": 4,
  "nbformat_minor": 0,
  "metadata": {
    "colab": {
      "name": "Titanic_Kmeans_MLCourse.ipynb",
      "provenance": [],
      "toc_visible": true,
      "authorship_tag": "ABX9TyP/WiraRxL6cbz6OV74V3x6",
      "include_colab_link": true
    },
    "kernelspec": {
      "name": "python3",
      "display_name": "Python 3"
    },
    "language_info": {
      "name": "python"
    }
  },
  "cells": [
    {
      "cell_type": "markdown",
      "metadata": {
        "id": "view-in-github",
        "colab_type": "text"
      },
      "source": [
        "<a href=\"https://colab.research.google.com/github/leovegamedina/projects-ml/blob/main/Titanic_Kmeans_MLCourse.ipynb\" target=\"_parent\"><img src=\"https://colab.research.google.com/assets/colab-badge.svg\" alt=\"Open In Colab\"/></a>"
      ]
    },
    {
      "cell_type": "markdown",
      "metadata": {
        "id": "X5-G5TObvdEx"
      },
      "source": [
        "# Modelo K-Means"
      ]
    },
    {
      "cell_type": "markdown",
      "metadata": {
        "id": "V1ZkwOVlvl0M"
      },
      "source": [
        "## 1. Descripción del dataset.\n"
      ]
    },
    {
      "cell_type": "markdown",
      "metadata": {
        "id": "UJxd_YKN75jz"
      },
      "source": [
        "Como primer paso, haremos las importaciones de los packages a utilizar y además **nos** traeremos el dataset de Titanic que actualmente tenemos en .xlsx a un dataframe utilizando Pandas."
      ]
    },
    {
      "cell_type": "code",
      "metadata": {
        "id": "dYBU0pEX0RVd",
        "colab": {
          "base_uri": "https://localhost:8080/"
        },
        "outputId": "d48f51d1-4173-496f-aef2-7b2ddf1aaa12"
      },
      "source": [
        "from google.colab import drive\n",
        "\n",
        "drive.mount('/content/gdrive')\n",
        "root_path = 'gdrive/My Drive/Projects/Unsupervised MLA/K-Means'"
      ],
      "execution_count": null,
      "outputs": [
        {
          "output_type": "stream",
          "text": [
            "Mounted at /content/gdrive\n"
          ],
          "name": "stdout"
        }
      ]
    },
    {
      "cell_type": "code",
      "metadata": {
        "id": "MsWXS27H2TuI"
      },
      "source": [
        "import pandas as pd\n",
        "import numpy as np\n",
        "import matplotlib.pyplot as plt\n",
        "\n",
        "titanic_org = pd.read_excel(root_path + '/' + 'Titanic.xlsx')"
      ],
      "execution_count": null,
      "outputs": []
    },
    {
      "cell_type": "code",
      "metadata": {
        "colab": {
          "base_uri": "https://localhost:8080/",
          "height": 238
        },
        "id": "Ewmb29HpuiBU",
        "outputId": "57e9d6bc-380b-4f9d-87b1-ed9a7fbb0feb"
      },
      "source": [
        "titanic_org.head()"
      ],
      "execution_count": null,
      "outputs": [
        {
          "output_type": "execute_result",
          "data": {
            "text/html": [
              "<div>\n",
              "<style scoped>\n",
              "    .dataframe tbody tr th:only-of-type {\n",
              "        vertical-align: middle;\n",
              "    }\n",
              "\n",
              "    .dataframe tbody tr th {\n",
              "        vertical-align: top;\n",
              "    }\n",
              "\n",
              "    .dataframe thead th {\n",
              "        text-align: right;\n",
              "    }\n",
              "</style>\n",
              "<table border=\"1\" class=\"dataframe\">\n",
              "  <thead>\n",
              "    <tr style=\"text-align: right;\">\n",
              "      <th></th>\n",
              "      <th>Name</th>\n",
              "      <th>Passenger Class</th>\n",
              "      <th>Sex</th>\n",
              "      <th>Age</th>\n",
              "      <th>No of Siblings or Spouses on Board</th>\n",
              "      <th>No of Parents or Children on Board</th>\n",
              "      <th>Passenger Fare</th>\n",
              "      <th>Port of Embarkation</th>\n",
              "      <th>Life Boat</th>\n",
              "      <th>Survived</th>\n",
              "    </tr>\n",
              "  </thead>\n",
              "  <tbody>\n",
              "    <tr>\n",
              "      <th>0</th>\n",
              "      <td>Allen, Miss. Elisabeth Walton</td>\n",
              "      <td>First</td>\n",
              "      <td>Female</td>\n",
              "      <td>29.0000</td>\n",
              "      <td>0</td>\n",
              "      <td>0</td>\n",
              "      <td>211.3375</td>\n",
              "      <td>Southampton</td>\n",
              "      <td>2</td>\n",
              "      <td>Yes</td>\n",
              "    </tr>\n",
              "    <tr>\n",
              "      <th>1</th>\n",
              "      <td>Allison, Master. Hudson Trevor</td>\n",
              "      <td>First</td>\n",
              "      <td>Male</td>\n",
              "      <td>0.9167</td>\n",
              "      <td>1</td>\n",
              "      <td>2</td>\n",
              "      <td>151.5500</td>\n",
              "      <td>Southampton</td>\n",
              "      <td>11</td>\n",
              "      <td>Yes</td>\n",
              "    </tr>\n",
              "    <tr>\n",
              "      <th>2</th>\n",
              "      <td>Allison, Miss. Helen Loraine</td>\n",
              "      <td>First</td>\n",
              "      <td>Female</td>\n",
              "      <td>2.0000</td>\n",
              "      <td>1</td>\n",
              "      <td>2</td>\n",
              "      <td>151.5500</td>\n",
              "      <td>Southampton</td>\n",
              "      <td>NaN</td>\n",
              "      <td>No</td>\n",
              "    </tr>\n",
              "    <tr>\n",
              "      <th>3</th>\n",
              "      <td>Allison, Mr. Hudson Joshua Creighton</td>\n",
              "      <td>First</td>\n",
              "      <td>Male</td>\n",
              "      <td>30.0000</td>\n",
              "      <td>1</td>\n",
              "      <td>2</td>\n",
              "      <td>151.5500</td>\n",
              "      <td>Southampton</td>\n",
              "      <td>NaN</td>\n",
              "      <td>No</td>\n",
              "    </tr>\n",
              "    <tr>\n",
              "      <th>4</th>\n",
              "      <td>Allison, Mrs. Hudson J C (Bessie Waldo Daniels)</td>\n",
              "      <td>First</td>\n",
              "      <td>Female</td>\n",
              "      <td>25.0000</td>\n",
              "      <td>1</td>\n",
              "      <td>2</td>\n",
              "      <td>151.5500</td>\n",
              "      <td>Southampton</td>\n",
              "      <td>NaN</td>\n",
              "      <td>No</td>\n",
              "    </tr>\n",
              "  </tbody>\n",
              "</table>\n",
              "</div>"
            ],
            "text/plain": [
              "                                              Name  ... Survived\n",
              "0                    Allen, Miss. Elisabeth Walton  ...      Yes\n",
              "1                   Allison, Master. Hudson Trevor  ...      Yes\n",
              "2                     Allison, Miss. Helen Loraine  ...       No\n",
              "3             Allison, Mr. Hudson Joshua Creighton  ...       No\n",
              "4  Allison, Mrs. Hudson J C (Bessie Waldo Daniels)  ...       No\n",
              "\n",
              "[5 rows x 10 columns]"
            ]
          },
          "metadata": {
            "tags": []
          },
          "execution_count": 3
        }
      ]
    },
    {
      "cell_type": "markdown",
      "metadata": {
        "id": "j7PJtAEKv-ZS"
      },
      "source": [
        "Por un tema de orden en el dataset, cambiaremos los nombres de las columnas para que puedan ser mas legibles."
      ]
    },
    {
      "cell_type": "code",
      "metadata": {
        "colab": {
          "base_uri": "https://localhost:8080/",
          "height": 204
        },
        "id": "3wL9ZnQ3wDTd",
        "outputId": "daf1e7a2-6cee-4938-98b7-67e6600c3661"
      },
      "source": [
        "new_names = {'Name':'name','Passenger Class':'pass_class','Sex':'sex','Age':'age','No of Siblings or Spouses on Board':'no_sib_spo_ob','No of Parents or Children on Board':'no_par_chld_ob','Passenger Fare':'pass_fare','Port of Embarkation':'port_emb','Life Boat':'life_boat','Survived':'survived'}\n",
        "\n",
        "## Reemplazamos los nombres de las columnas con la nueva definción de nuestro diccionario.\n",
        "\n",
        "titanic_org = titanic_org.rename(columns=new_names)\n",
        "titanic_org.head()"
      ],
      "execution_count": null,
      "outputs": [
        {
          "output_type": "execute_result",
          "data": {
            "text/html": [
              "<div>\n",
              "<style scoped>\n",
              "    .dataframe tbody tr th:only-of-type {\n",
              "        vertical-align: middle;\n",
              "    }\n",
              "\n",
              "    .dataframe tbody tr th {\n",
              "        vertical-align: top;\n",
              "    }\n",
              "\n",
              "    .dataframe thead th {\n",
              "        text-align: right;\n",
              "    }\n",
              "</style>\n",
              "<table border=\"1\" class=\"dataframe\">\n",
              "  <thead>\n",
              "    <tr style=\"text-align: right;\">\n",
              "      <th></th>\n",
              "      <th>name</th>\n",
              "      <th>pass_class</th>\n",
              "      <th>sex</th>\n",
              "      <th>age</th>\n",
              "      <th>no_sib_spo_ob</th>\n",
              "      <th>no_par_chld_ob</th>\n",
              "      <th>pass_fare</th>\n",
              "      <th>port_emb</th>\n",
              "      <th>life_boat</th>\n",
              "      <th>survived</th>\n",
              "    </tr>\n",
              "  </thead>\n",
              "  <tbody>\n",
              "    <tr>\n",
              "      <th>0</th>\n",
              "      <td>Allen, Miss. Elisabeth Walton</td>\n",
              "      <td>First</td>\n",
              "      <td>Female</td>\n",
              "      <td>29.0000</td>\n",
              "      <td>0</td>\n",
              "      <td>0</td>\n",
              "      <td>211.3375</td>\n",
              "      <td>Southampton</td>\n",
              "      <td>2</td>\n",
              "      <td>Yes</td>\n",
              "    </tr>\n",
              "    <tr>\n",
              "      <th>1</th>\n",
              "      <td>Allison, Master. Hudson Trevor</td>\n",
              "      <td>First</td>\n",
              "      <td>Male</td>\n",
              "      <td>0.9167</td>\n",
              "      <td>1</td>\n",
              "      <td>2</td>\n",
              "      <td>151.5500</td>\n",
              "      <td>Southampton</td>\n",
              "      <td>11</td>\n",
              "      <td>Yes</td>\n",
              "    </tr>\n",
              "    <tr>\n",
              "      <th>2</th>\n",
              "      <td>Allison, Miss. Helen Loraine</td>\n",
              "      <td>First</td>\n",
              "      <td>Female</td>\n",
              "      <td>2.0000</td>\n",
              "      <td>1</td>\n",
              "      <td>2</td>\n",
              "      <td>151.5500</td>\n",
              "      <td>Southampton</td>\n",
              "      <td>NaN</td>\n",
              "      <td>No</td>\n",
              "    </tr>\n",
              "    <tr>\n",
              "      <th>3</th>\n",
              "      <td>Allison, Mr. Hudson Joshua Creighton</td>\n",
              "      <td>First</td>\n",
              "      <td>Male</td>\n",
              "      <td>30.0000</td>\n",
              "      <td>1</td>\n",
              "      <td>2</td>\n",
              "      <td>151.5500</td>\n",
              "      <td>Southampton</td>\n",
              "      <td>NaN</td>\n",
              "      <td>No</td>\n",
              "    </tr>\n",
              "    <tr>\n",
              "      <th>4</th>\n",
              "      <td>Allison, Mrs. Hudson J C (Bessie Waldo Daniels)</td>\n",
              "      <td>First</td>\n",
              "      <td>Female</td>\n",
              "      <td>25.0000</td>\n",
              "      <td>1</td>\n",
              "      <td>2</td>\n",
              "      <td>151.5500</td>\n",
              "      <td>Southampton</td>\n",
              "      <td>NaN</td>\n",
              "      <td>No</td>\n",
              "    </tr>\n",
              "  </tbody>\n",
              "</table>\n",
              "</div>"
            ],
            "text/plain": [
              "                                              name  ... survived\n",
              "0                    Allen, Miss. Elisabeth Walton  ...      Yes\n",
              "1                   Allison, Master. Hudson Trevor  ...      Yes\n",
              "2                     Allison, Miss. Helen Loraine  ...       No\n",
              "3             Allison, Mr. Hudson Joshua Creighton  ...       No\n",
              "4  Allison, Mrs. Hudson J C (Bessie Waldo Daniels)  ...       No\n",
              "\n",
              "[5 rows x 10 columns]"
            ]
          },
          "metadata": {
            "tags": []
          },
          "execution_count": 4
        }
      ]
    },
    {
      "cell_type": "markdown",
      "metadata": {
        "id": "LVk_pfhzwltx"
      },
      "source": [
        "Guardaremos una copia de este dataset con la que haremos todo el desarrollo de nuestro modelo de clustering."
      ]
    },
    {
      "cell_type": "code",
      "metadata": {
        "colab": {
          "base_uri": "https://localhost:8080/",
          "height": 204
        },
        "id": "XqXv1X4wyZXL",
        "outputId": "07f90573-9258-4b56-d2df-c4b85a3d5f83"
      },
      "source": [
        "## Guardamos titanic_orig en un nuevo dataframe titanic_dev\n",
        "\n",
        "titanic_dev = titanic_org\n",
        "titanic_dev.head()"
      ],
      "execution_count": null,
      "outputs": [
        {
          "output_type": "execute_result",
          "data": {
            "text/html": [
              "<div>\n",
              "<style scoped>\n",
              "    .dataframe tbody tr th:only-of-type {\n",
              "        vertical-align: middle;\n",
              "    }\n",
              "\n",
              "    .dataframe tbody tr th {\n",
              "        vertical-align: top;\n",
              "    }\n",
              "\n",
              "    .dataframe thead th {\n",
              "        text-align: right;\n",
              "    }\n",
              "</style>\n",
              "<table border=\"1\" class=\"dataframe\">\n",
              "  <thead>\n",
              "    <tr style=\"text-align: right;\">\n",
              "      <th></th>\n",
              "      <th>name</th>\n",
              "      <th>pass_class</th>\n",
              "      <th>sex</th>\n",
              "      <th>age</th>\n",
              "      <th>no_sib_spo_ob</th>\n",
              "      <th>no_par_chld_ob</th>\n",
              "      <th>pass_fare</th>\n",
              "      <th>port_emb</th>\n",
              "      <th>life_boat</th>\n",
              "      <th>survived</th>\n",
              "    </tr>\n",
              "  </thead>\n",
              "  <tbody>\n",
              "    <tr>\n",
              "      <th>0</th>\n",
              "      <td>Allen, Miss. Elisabeth Walton</td>\n",
              "      <td>First</td>\n",
              "      <td>Female</td>\n",
              "      <td>29.0000</td>\n",
              "      <td>0</td>\n",
              "      <td>0</td>\n",
              "      <td>211.3375</td>\n",
              "      <td>Southampton</td>\n",
              "      <td>2</td>\n",
              "      <td>Yes</td>\n",
              "    </tr>\n",
              "    <tr>\n",
              "      <th>1</th>\n",
              "      <td>Allison, Master. Hudson Trevor</td>\n",
              "      <td>First</td>\n",
              "      <td>Male</td>\n",
              "      <td>0.9167</td>\n",
              "      <td>1</td>\n",
              "      <td>2</td>\n",
              "      <td>151.5500</td>\n",
              "      <td>Southampton</td>\n",
              "      <td>11</td>\n",
              "      <td>Yes</td>\n",
              "    </tr>\n",
              "    <tr>\n",
              "      <th>2</th>\n",
              "      <td>Allison, Miss. Helen Loraine</td>\n",
              "      <td>First</td>\n",
              "      <td>Female</td>\n",
              "      <td>2.0000</td>\n",
              "      <td>1</td>\n",
              "      <td>2</td>\n",
              "      <td>151.5500</td>\n",
              "      <td>Southampton</td>\n",
              "      <td>NaN</td>\n",
              "      <td>No</td>\n",
              "    </tr>\n",
              "    <tr>\n",
              "      <th>3</th>\n",
              "      <td>Allison, Mr. Hudson Joshua Creighton</td>\n",
              "      <td>First</td>\n",
              "      <td>Male</td>\n",
              "      <td>30.0000</td>\n",
              "      <td>1</td>\n",
              "      <td>2</td>\n",
              "      <td>151.5500</td>\n",
              "      <td>Southampton</td>\n",
              "      <td>NaN</td>\n",
              "      <td>No</td>\n",
              "    </tr>\n",
              "    <tr>\n",
              "      <th>4</th>\n",
              "      <td>Allison, Mrs. Hudson J C (Bessie Waldo Daniels)</td>\n",
              "      <td>First</td>\n",
              "      <td>Female</td>\n",
              "      <td>25.0000</td>\n",
              "      <td>1</td>\n",
              "      <td>2</td>\n",
              "      <td>151.5500</td>\n",
              "      <td>Southampton</td>\n",
              "      <td>NaN</td>\n",
              "      <td>No</td>\n",
              "    </tr>\n",
              "  </tbody>\n",
              "</table>\n",
              "</div>"
            ],
            "text/plain": [
              "                                              name  ... survived\n",
              "0                    Allen, Miss. Elisabeth Walton  ...      Yes\n",
              "1                   Allison, Master. Hudson Trevor  ...      Yes\n",
              "2                     Allison, Miss. Helen Loraine  ...       No\n",
              "3             Allison, Mr. Hudson Joshua Creighton  ...       No\n",
              "4  Allison, Mrs. Hudson J C (Bessie Waldo Daniels)  ...       No\n",
              "\n",
              "[5 rows x 10 columns]"
            ]
          },
          "metadata": {
            "tags": []
          },
          "execution_count": 6
        }
      ]
    },
    {
      "cell_type": "markdown",
      "metadata": {
        "id": "TJMDR4lszGgG"
      },
      "source": [
        "Antes de continuar, haremos una descripción de nuestro dataset para ver con que información contamos para desarrollar nuestro modelo de clustering."
      ]
    },
    {
      "cell_type": "code",
      "metadata": {
        "colab": {
          "base_uri": "https://localhost:8080/",
          "height": 390
        },
        "id": "71OoEWnhzIeL",
        "outputId": "11f27dfe-b1ae-47dd-9736-9f4bd4597429"
      },
      "source": [
        "titanic_org.describe(include='all')"
      ],
      "execution_count": null,
      "outputs": [
        {
          "output_type": "execute_result",
          "data": {
            "text/html": [
              "<div>\n",
              "<style scoped>\n",
              "    .dataframe tbody tr th:only-of-type {\n",
              "        vertical-align: middle;\n",
              "    }\n",
              "\n",
              "    .dataframe tbody tr th {\n",
              "        vertical-align: top;\n",
              "    }\n",
              "\n",
              "    .dataframe thead th {\n",
              "        text-align: right;\n",
              "    }\n",
              "</style>\n",
              "<table border=\"1\" class=\"dataframe\">\n",
              "  <thead>\n",
              "    <tr style=\"text-align: right;\">\n",
              "      <th></th>\n",
              "      <th>name</th>\n",
              "      <th>pass_class</th>\n",
              "      <th>sex</th>\n",
              "      <th>age</th>\n",
              "      <th>no_sib_spo_ob</th>\n",
              "      <th>no_par_chld_ob</th>\n",
              "      <th>pass_fare</th>\n",
              "      <th>port_emb</th>\n",
              "      <th>life_boat</th>\n",
              "      <th>survived</th>\n",
              "    </tr>\n",
              "  </thead>\n",
              "  <tbody>\n",
              "    <tr>\n",
              "      <th>count</th>\n",
              "      <td>1307</td>\n",
              "      <td>1307</td>\n",
              "      <td>1307</td>\n",
              "      <td>1044.000000</td>\n",
              "      <td>1307.000000</td>\n",
              "      <td>1307.000000</td>\n",
              "      <td>1306.000000</td>\n",
              "      <td>1305</td>\n",
              "      <td>486</td>\n",
              "      <td>1307</td>\n",
              "    </tr>\n",
              "    <tr>\n",
              "      <th>unique</th>\n",
              "      <td>1307</td>\n",
              "      <td>3</td>\n",
              "      <td>2</td>\n",
              "      <td>NaN</td>\n",
              "      <td>NaN</td>\n",
              "      <td>NaN</td>\n",
              "      <td>NaN</td>\n",
              "      <td>3</td>\n",
              "      <td>27</td>\n",
              "      <td>2</td>\n",
              "    </tr>\n",
              "    <tr>\n",
              "      <th>top</th>\n",
              "      <td>Molson, Mr. Harry Markland</td>\n",
              "      <td>Third</td>\n",
              "      <td>Male</td>\n",
              "      <td>NaN</td>\n",
              "      <td>NaN</td>\n",
              "      <td>NaN</td>\n",
              "      <td>NaN</td>\n",
              "      <td>Southampton</td>\n",
              "      <td>13</td>\n",
              "      <td>No</td>\n",
              "    </tr>\n",
              "    <tr>\n",
              "      <th>freq</th>\n",
              "      <td>1</td>\n",
              "      <td>707</td>\n",
              "      <td>842</td>\n",
              "      <td>NaN</td>\n",
              "      <td>NaN</td>\n",
              "      <td>NaN</td>\n",
              "      <td>NaN</td>\n",
              "      <td>913</td>\n",
              "      <td>39</td>\n",
              "      <td>807</td>\n",
              "    </tr>\n",
              "    <tr>\n",
              "      <th>mean</th>\n",
              "      <td>NaN</td>\n",
              "      <td>NaN</td>\n",
              "      <td>NaN</td>\n",
              "      <td>29.867497</td>\n",
              "      <td>0.499617</td>\n",
              "      <td>0.385616</td>\n",
              "      <td>33.334462</td>\n",
              "      <td>NaN</td>\n",
              "      <td>NaN</td>\n",
              "      <td>NaN</td>\n",
              "    </tr>\n",
              "    <tr>\n",
              "      <th>std</th>\n",
              "      <td>NaN</td>\n",
              "      <td>NaN</td>\n",
              "      <td>NaN</td>\n",
              "      <td>14.420680</td>\n",
              "      <td>1.042273</td>\n",
              "      <td>0.866092</td>\n",
              "      <td>51.788712</td>\n",
              "      <td>NaN</td>\n",
              "      <td>NaN</td>\n",
              "      <td>NaN</td>\n",
              "    </tr>\n",
              "    <tr>\n",
              "      <th>min</th>\n",
              "      <td>NaN</td>\n",
              "      <td>NaN</td>\n",
              "      <td>NaN</td>\n",
              "      <td>0.166700</td>\n",
              "      <td>0.000000</td>\n",
              "      <td>0.000000</td>\n",
              "      <td>0.000000</td>\n",
              "      <td>NaN</td>\n",
              "      <td>NaN</td>\n",
              "      <td>NaN</td>\n",
              "    </tr>\n",
              "    <tr>\n",
              "      <th>25%</th>\n",
              "      <td>NaN</td>\n",
              "      <td>NaN</td>\n",
              "      <td>NaN</td>\n",
              "      <td>21.000000</td>\n",
              "      <td>0.000000</td>\n",
              "      <td>0.000000</td>\n",
              "      <td>7.895800</td>\n",
              "      <td>NaN</td>\n",
              "      <td>NaN</td>\n",
              "      <td>NaN</td>\n",
              "    </tr>\n",
              "    <tr>\n",
              "      <th>50%</th>\n",
              "      <td>NaN</td>\n",
              "      <td>NaN</td>\n",
              "      <td>NaN</td>\n",
              "      <td>28.000000</td>\n",
              "      <td>0.000000</td>\n",
              "      <td>0.000000</td>\n",
              "      <td>14.454200</td>\n",
              "      <td>NaN</td>\n",
              "      <td>NaN</td>\n",
              "      <td>NaN</td>\n",
              "    </tr>\n",
              "    <tr>\n",
              "      <th>75%</th>\n",
              "      <td>NaN</td>\n",
              "      <td>NaN</td>\n",
              "      <td>NaN</td>\n",
              "      <td>39.000000</td>\n",
              "      <td>1.000000</td>\n",
              "      <td>0.000000</td>\n",
              "      <td>31.275000</td>\n",
              "      <td>NaN</td>\n",
              "      <td>NaN</td>\n",
              "      <td>NaN</td>\n",
              "    </tr>\n",
              "    <tr>\n",
              "      <th>max</th>\n",
              "      <td>NaN</td>\n",
              "      <td>NaN</td>\n",
              "      <td>NaN</td>\n",
              "      <td>80.000000</td>\n",
              "      <td>8.000000</td>\n",
              "      <td>9.000000</td>\n",
              "      <td>512.329200</td>\n",
              "      <td>NaN</td>\n",
              "      <td>NaN</td>\n",
              "      <td>NaN</td>\n",
              "    </tr>\n",
              "  </tbody>\n",
              "</table>\n",
              "</div>"
            ],
            "text/plain": [
              "                              name pass_class  ... life_boat  survived\n",
              "count                         1307       1307  ...       486      1307\n",
              "unique                        1307          3  ...        27         2\n",
              "top     Molson, Mr. Harry Markland      Third  ...        13        No\n",
              "freq                             1        707  ...        39       807\n",
              "mean                           NaN        NaN  ...       NaN       NaN\n",
              "std                            NaN        NaN  ...       NaN       NaN\n",
              "min                            NaN        NaN  ...       NaN       NaN\n",
              "25%                            NaN        NaN  ...       NaN       NaN\n",
              "50%                            NaN        NaN  ...       NaN       NaN\n",
              "75%                            NaN        NaN  ...       NaN       NaN\n",
              "max                            NaN        NaN  ...       NaN       NaN\n",
              "\n",
              "[11 rows x 10 columns]"
            ]
          },
          "metadata": {
            "tags": []
          },
          "execution_count": 7
        }
      ]
    },
    {
      "cell_type": "markdown",
      "metadata": {
        "id": "Snl42qFuzXK3"
      },
      "source": [
        "Podemos apreciar lo siguiente del dataset actual:\n",
        "\n",
        "1. **name:** es una variable *no numérica* identificadora de cada registro, no contiene nulos. \n",
        "2. **pass_class:** es una variable *categórica ordinal* que identifica la clase (ticket) del pasajero, no contiene valores nulos. \n",
        "3. **sex:** es una variable *categórica nominal binaria* que identifica el sexo, no contiene valores nulos. \n",
        "4. **age:** es una variable *numérica* que indica la edad, solo contiene 1.044/1.307 registros. \n",
        "5. **no_sib_spo_ob:** es una variable *numérica* que indica la cantidad de hermanos o conyuges a bordo, no contiene valores nulos. \n",
        "6. **no_par_chld_ob:** s una variable *numérica* que indica la cantidad de padres o hijos a bordo, no contiene valores nulos.\n",
        "7. **pass_fare:** es una variable *numérica* que indica la tarifa pagada (precio ticket), contiene solo 1 nulo. \n",
        "8. **port_emb:** es una variable *categórica nominal* que identifica el puerto de embarque del pasajero, contiene 2 valores nulos. \n",
        "9. **life_boat:** es una variable *categórica nominal* que identifica el bote salvavidas donde estuvo el pasajero, solo contiene 486/1.307 registros.\n",
        "10. **survived:** es una variable *categórica nominal binaria* que identifica si sobrevivió el pasajero o no, no contiene valores nulos. "
      ]
    },
    {
      "cell_type": "markdown",
      "metadata": {
        "id": "_FYSZLKb7jdc"
      },
      "source": [
        "## 2. Preprocesamiento del dataset:"
      ]
    },
    {
      "cell_type": "markdown",
      "metadata": {
        "id": "SvOK0dxdzhDv"
      },
      "source": [
        "### 2.1 Factorizaciones de variables no numéricas.\n",
        "\n",
        "El primer cambio que realizaremos será crear una nueva variable para **life_boat**, ya que más que saber en que numero de bote salvavidas estuvo, nos sirve saber mas bien si el pasajero estuvo o no en un bote salvavidas, para esto crearemos la variable **bool_life_boat**. Ademas factorizaremos las variables **sex**, **survived**, **pass_class** y **port_emb**."
      ]
    },
    {
      "cell_type": "code",
      "metadata": {
        "id": "2UBX65w2zyzW"
      },
      "source": [
        "## Creamos la variable bool_life_boat\n",
        "\n",
        "titanic_dev['bool_life_boat'] = np.select([titanic_dev['life_boat'].isnull()==True],[0],default=1)\n",
        "\n",
        "## Factorizaremos las variables binarias y ordinales\n",
        "\n",
        "titanic_dev['sex'] = pd.factorize(titanic_dev['sex'])[0]\n",
        "titanic_dev['survived'] = pd.factorize(titanic_dev['survived'])[0]\n",
        "titanic_dev['pass_class'] = pd.factorize(titanic_dev['pass_class'])[0]"
      ],
      "execution_count": null,
      "outputs": []
    },
    {
      "cell_type": "code",
      "metadata": {
        "colab": {
          "base_uri": "https://localhost:8080/"
        },
        "id": "EEGr5GP7z7M7",
        "outputId": "e08bc945-e8aa-4591-a29b-bc9c491c5911"
      },
      "source": [
        "## Factorizaremos las variables nominales a través de variables dummies\n",
        "\n",
        "titanic_dev['port_emb'] = titanic_dev['port_emb'].fillna('Other')\n",
        "titanic_dev['port_emb'].unique()"
      ],
      "execution_count": null,
      "outputs": [
        {
          "output_type": "execute_result",
          "data": {
            "text/plain": [
              "array(['Southampton', 'Cherbourg', 'Other', 'Queenstown'], dtype=object)"
            ]
          },
          "metadata": {
            "tags": []
          },
          "execution_count": 9
        }
      ]
    },
    {
      "cell_type": "code",
      "metadata": {
        "colab": {
          "base_uri": "https://localhost:8080/",
          "height": 238
        },
        "id": "j6GvES6hz_L4",
        "outputId": "a0abb75c-089c-464a-e3cc-2a29ff55039b"
      },
      "source": [
        "from sklearn.preprocessing import LabelBinarizer\n",
        "\n",
        "lb = LabelBinarizer()\n",
        "lb_results = lb.fit_transform(titanic_dev['port_emb'].astype(str))\n",
        "lb_results_df = pd.DataFrame(lb_results, columns=lb.classes_)\n",
        "\n",
        "titanic_dev = pd.concat([titanic_dev, lb_results_df], axis=1)\n",
        "titanic_dev = titanic_dev.drop('port_emb',axis='columns')\n",
        "titanic_dev.head()"
      ],
      "execution_count": null,
      "outputs": [
        {
          "output_type": "execute_result",
          "data": {
            "text/html": [
              "<div>\n",
              "<style scoped>\n",
              "    .dataframe tbody tr th:only-of-type {\n",
              "        vertical-align: middle;\n",
              "    }\n",
              "\n",
              "    .dataframe tbody tr th {\n",
              "        vertical-align: top;\n",
              "    }\n",
              "\n",
              "    .dataframe thead th {\n",
              "        text-align: right;\n",
              "    }\n",
              "</style>\n",
              "<table border=\"1\" class=\"dataframe\">\n",
              "  <thead>\n",
              "    <tr style=\"text-align: right;\">\n",
              "      <th></th>\n",
              "      <th>name</th>\n",
              "      <th>pass_class</th>\n",
              "      <th>sex</th>\n",
              "      <th>age</th>\n",
              "      <th>no_sib_spo_ob</th>\n",
              "      <th>no_par_chld_ob</th>\n",
              "      <th>pass_fare</th>\n",
              "      <th>life_boat</th>\n",
              "      <th>survived</th>\n",
              "      <th>bool_life_boat</th>\n",
              "      <th>Cherbourg</th>\n",
              "      <th>Other</th>\n",
              "      <th>Queenstown</th>\n",
              "      <th>Southampton</th>\n",
              "    </tr>\n",
              "  </thead>\n",
              "  <tbody>\n",
              "    <tr>\n",
              "      <th>0</th>\n",
              "      <td>Allen, Miss. Elisabeth Walton</td>\n",
              "      <td>0</td>\n",
              "      <td>0</td>\n",
              "      <td>29.0000</td>\n",
              "      <td>0</td>\n",
              "      <td>0</td>\n",
              "      <td>211.3375</td>\n",
              "      <td>2</td>\n",
              "      <td>0</td>\n",
              "      <td>1</td>\n",
              "      <td>0</td>\n",
              "      <td>0</td>\n",
              "      <td>0</td>\n",
              "      <td>1</td>\n",
              "    </tr>\n",
              "    <tr>\n",
              "      <th>1</th>\n",
              "      <td>Allison, Master. Hudson Trevor</td>\n",
              "      <td>0</td>\n",
              "      <td>1</td>\n",
              "      <td>0.9167</td>\n",
              "      <td>1</td>\n",
              "      <td>2</td>\n",
              "      <td>151.5500</td>\n",
              "      <td>11</td>\n",
              "      <td>0</td>\n",
              "      <td>1</td>\n",
              "      <td>0</td>\n",
              "      <td>0</td>\n",
              "      <td>0</td>\n",
              "      <td>1</td>\n",
              "    </tr>\n",
              "    <tr>\n",
              "      <th>2</th>\n",
              "      <td>Allison, Miss. Helen Loraine</td>\n",
              "      <td>0</td>\n",
              "      <td>0</td>\n",
              "      <td>2.0000</td>\n",
              "      <td>1</td>\n",
              "      <td>2</td>\n",
              "      <td>151.5500</td>\n",
              "      <td>NaN</td>\n",
              "      <td>1</td>\n",
              "      <td>0</td>\n",
              "      <td>0</td>\n",
              "      <td>0</td>\n",
              "      <td>0</td>\n",
              "      <td>1</td>\n",
              "    </tr>\n",
              "    <tr>\n",
              "      <th>3</th>\n",
              "      <td>Allison, Mr. Hudson Joshua Creighton</td>\n",
              "      <td>0</td>\n",
              "      <td>1</td>\n",
              "      <td>30.0000</td>\n",
              "      <td>1</td>\n",
              "      <td>2</td>\n",
              "      <td>151.5500</td>\n",
              "      <td>NaN</td>\n",
              "      <td>1</td>\n",
              "      <td>0</td>\n",
              "      <td>0</td>\n",
              "      <td>0</td>\n",
              "      <td>0</td>\n",
              "      <td>1</td>\n",
              "    </tr>\n",
              "    <tr>\n",
              "      <th>4</th>\n",
              "      <td>Allison, Mrs. Hudson J C (Bessie Waldo Daniels)</td>\n",
              "      <td>0</td>\n",
              "      <td>0</td>\n",
              "      <td>25.0000</td>\n",
              "      <td>1</td>\n",
              "      <td>2</td>\n",
              "      <td>151.5500</td>\n",
              "      <td>NaN</td>\n",
              "      <td>1</td>\n",
              "      <td>0</td>\n",
              "      <td>0</td>\n",
              "      <td>0</td>\n",
              "      <td>0</td>\n",
              "      <td>1</td>\n",
              "    </tr>\n",
              "  </tbody>\n",
              "</table>\n",
              "</div>"
            ],
            "text/plain": [
              "                                              name  ...  Southampton\n",
              "0                    Allen, Miss. Elisabeth Walton  ...            1\n",
              "1                   Allison, Master. Hudson Trevor  ...            1\n",
              "2                     Allison, Miss. Helen Loraine  ...            1\n",
              "3             Allison, Mr. Hudson Joshua Creighton  ...            1\n",
              "4  Allison, Mrs. Hudson J C (Bessie Waldo Daniels)  ...            1\n",
              "\n",
              "[5 rows x 14 columns]"
            ]
          },
          "metadata": {
            "tags": []
          },
          "execution_count": 10
        }
      ]
    },
    {
      "cell_type": "markdown",
      "metadata": {
        "id": "eWkVwV1R0Fip"
      },
      "source": [
        "Dado que ya no necesitamos la variable life_boat, esta la eliminaremos del dataset."
      ]
    },
    {
      "cell_type": "code",
      "metadata": {
        "colab": {
          "base_uri": "https://localhost:8080/",
          "height": 204
        },
        "id": "tv_-hvTe0JvA",
        "outputId": "3ec4ac51-a751-48a8-8068-a67f69ac4d51"
      },
      "source": [
        "titanic_dev = titanic_dev.drop('life_boat',axis='columns')\n",
        "titanic_dev.head()"
      ],
      "execution_count": null,
      "outputs": [
        {
          "output_type": "execute_result",
          "data": {
            "text/html": [
              "<div>\n",
              "<style scoped>\n",
              "    .dataframe tbody tr th:only-of-type {\n",
              "        vertical-align: middle;\n",
              "    }\n",
              "\n",
              "    .dataframe tbody tr th {\n",
              "        vertical-align: top;\n",
              "    }\n",
              "\n",
              "    .dataframe thead th {\n",
              "        text-align: right;\n",
              "    }\n",
              "</style>\n",
              "<table border=\"1\" class=\"dataframe\">\n",
              "  <thead>\n",
              "    <tr style=\"text-align: right;\">\n",
              "      <th></th>\n",
              "      <th>name</th>\n",
              "      <th>pass_class</th>\n",
              "      <th>sex</th>\n",
              "      <th>age</th>\n",
              "      <th>no_sib_spo_ob</th>\n",
              "      <th>no_par_chld_ob</th>\n",
              "      <th>pass_fare</th>\n",
              "      <th>survived</th>\n",
              "      <th>bool_life_boat</th>\n",
              "      <th>Cherbourg</th>\n",
              "      <th>Other</th>\n",
              "      <th>Queenstown</th>\n",
              "      <th>Southampton</th>\n",
              "    </tr>\n",
              "  </thead>\n",
              "  <tbody>\n",
              "    <tr>\n",
              "      <th>0</th>\n",
              "      <td>Allen, Miss. Elisabeth Walton</td>\n",
              "      <td>0</td>\n",
              "      <td>0</td>\n",
              "      <td>29.0000</td>\n",
              "      <td>0</td>\n",
              "      <td>0</td>\n",
              "      <td>211.3375</td>\n",
              "      <td>0</td>\n",
              "      <td>1</td>\n",
              "      <td>0</td>\n",
              "      <td>0</td>\n",
              "      <td>0</td>\n",
              "      <td>1</td>\n",
              "    </tr>\n",
              "    <tr>\n",
              "      <th>1</th>\n",
              "      <td>Allison, Master. Hudson Trevor</td>\n",
              "      <td>0</td>\n",
              "      <td>1</td>\n",
              "      <td>0.9167</td>\n",
              "      <td>1</td>\n",
              "      <td>2</td>\n",
              "      <td>151.5500</td>\n",
              "      <td>0</td>\n",
              "      <td>1</td>\n",
              "      <td>0</td>\n",
              "      <td>0</td>\n",
              "      <td>0</td>\n",
              "      <td>1</td>\n",
              "    </tr>\n",
              "    <tr>\n",
              "      <th>2</th>\n",
              "      <td>Allison, Miss. Helen Loraine</td>\n",
              "      <td>0</td>\n",
              "      <td>0</td>\n",
              "      <td>2.0000</td>\n",
              "      <td>1</td>\n",
              "      <td>2</td>\n",
              "      <td>151.5500</td>\n",
              "      <td>1</td>\n",
              "      <td>0</td>\n",
              "      <td>0</td>\n",
              "      <td>0</td>\n",
              "      <td>0</td>\n",
              "      <td>1</td>\n",
              "    </tr>\n",
              "    <tr>\n",
              "      <th>3</th>\n",
              "      <td>Allison, Mr. Hudson Joshua Creighton</td>\n",
              "      <td>0</td>\n",
              "      <td>1</td>\n",
              "      <td>30.0000</td>\n",
              "      <td>1</td>\n",
              "      <td>2</td>\n",
              "      <td>151.5500</td>\n",
              "      <td>1</td>\n",
              "      <td>0</td>\n",
              "      <td>0</td>\n",
              "      <td>0</td>\n",
              "      <td>0</td>\n",
              "      <td>1</td>\n",
              "    </tr>\n",
              "    <tr>\n",
              "      <th>4</th>\n",
              "      <td>Allison, Mrs. Hudson J C (Bessie Waldo Daniels)</td>\n",
              "      <td>0</td>\n",
              "      <td>0</td>\n",
              "      <td>25.0000</td>\n",
              "      <td>1</td>\n",
              "      <td>2</td>\n",
              "      <td>151.5500</td>\n",
              "      <td>1</td>\n",
              "      <td>0</td>\n",
              "      <td>0</td>\n",
              "      <td>0</td>\n",
              "      <td>0</td>\n",
              "      <td>1</td>\n",
              "    </tr>\n",
              "  </tbody>\n",
              "</table>\n",
              "</div>"
            ],
            "text/plain": [
              "                                              name  ...  Southampton\n",
              "0                    Allen, Miss. Elisabeth Walton  ...            1\n",
              "1                   Allison, Master. Hudson Trevor  ...            1\n",
              "2                     Allison, Miss. Helen Loraine  ...            1\n",
              "3             Allison, Mr. Hudson Joshua Creighton  ...            1\n",
              "4  Allison, Mrs. Hudson J C (Bessie Waldo Daniels)  ...            1\n",
              "\n",
              "[5 rows x 13 columns]"
            ]
          },
          "metadata": {
            "tags": []
          },
          "execution_count": 11
        }
      ]
    },
    {
      "cell_type": "markdown",
      "metadata": {
        "id": "bh-5wUbF0Y9x"
      },
      "source": [
        "Por otro lado, dejaremos la variable **name** como index del dataset para identificar al pasajero."
      ]
    },
    {
      "cell_type": "code",
      "metadata": {
        "colab": {
          "base_uri": "https://localhost:8080/",
          "height": 235
        },
        "id": "eGeMEbqH0dSx",
        "outputId": "45485807-4d0d-4b64-cf89-8c8998af3aba"
      },
      "source": [
        "titanic_dev = titanic_dev.set_index('name')\n",
        "titanic_dev.head()"
      ],
      "execution_count": null,
      "outputs": [
        {
          "output_type": "execute_result",
          "data": {
            "text/html": [
              "<div>\n",
              "<style scoped>\n",
              "    .dataframe tbody tr th:only-of-type {\n",
              "        vertical-align: middle;\n",
              "    }\n",
              "\n",
              "    .dataframe tbody tr th {\n",
              "        vertical-align: top;\n",
              "    }\n",
              "\n",
              "    .dataframe thead th {\n",
              "        text-align: right;\n",
              "    }\n",
              "</style>\n",
              "<table border=\"1\" class=\"dataframe\">\n",
              "  <thead>\n",
              "    <tr style=\"text-align: right;\">\n",
              "      <th></th>\n",
              "      <th>pass_class</th>\n",
              "      <th>sex</th>\n",
              "      <th>age</th>\n",
              "      <th>no_sib_spo_ob</th>\n",
              "      <th>no_par_chld_ob</th>\n",
              "      <th>pass_fare</th>\n",
              "      <th>survived</th>\n",
              "      <th>bool_life_boat</th>\n",
              "      <th>Cherbourg</th>\n",
              "      <th>Other</th>\n",
              "      <th>Queenstown</th>\n",
              "      <th>Southampton</th>\n",
              "    </tr>\n",
              "    <tr>\n",
              "      <th>name</th>\n",
              "      <th></th>\n",
              "      <th></th>\n",
              "      <th></th>\n",
              "      <th></th>\n",
              "      <th></th>\n",
              "      <th></th>\n",
              "      <th></th>\n",
              "      <th></th>\n",
              "      <th></th>\n",
              "      <th></th>\n",
              "      <th></th>\n",
              "      <th></th>\n",
              "    </tr>\n",
              "  </thead>\n",
              "  <tbody>\n",
              "    <tr>\n",
              "      <th>Allen, Miss. Elisabeth Walton</th>\n",
              "      <td>0</td>\n",
              "      <td>0</td>\n",
              "      <td>29.0000</td>\n",
              "      <td>0</td>\n",
              "      <td>0</td>\n",
              "      <td>211.3375</td>\n",
              "      <td>0</td>\n",
              "      <td>1</td>\n",
              "      <td>0</td>\n",
              "      <td>0</td>\n",
              "      <td>0</td>\n",
              "      <td>1</td>\n",
              "    </tr>\n",
              "    <tr>\n",
              "      <th>Allison, Master. Hudson Trevor</th>\n",
              "      <td>0</td>\n",
              "      <td>1</td>\n",
              "      <td>0.9167</td>\n",
              "      <td>1</td>\n",
              "      <td>2</td>\n",
              "      <td>151.5500</td>\n",
              "      <td>0</td>\n",
              "      <td>1</td>\n",
              "      <td>0</td>\n",
              "      <td>0</td>\n",
              "      <td>0</td>\n",
              "      <td>1</td>\n",
              "    </tr>\n",
              "    <tr>\n",
              "      <th>Allison, Miss. Helen Loraine</th>\n",
              "      <td>0</td>\n",
              "      <td>0</td>\n",
              "      <td>2.0000</td>\n",
              "      <td>1</td>\n",
              "      <td>2</td>\n",
              "      <td>151.5500</td>\n",
              "      <td>1</td>\n",
              "      <td>0</td>\n",
              "      <td>0</td>\n",
              "      <td>0</td>\n",
              "      <td>0</td>\n",
              "      <td>1</td>\n",
              "    </tr>\n",
              "    <tr>\n",
              "      <th>Allison, Mr. Hudson Joshua Creighton</th>\n",
              "      <td>0</td>\n",
              "      <td>1</td>\n",
              "      <td>30.0000</td>\n",
              "      <td>1</td>\n",
              "      <td>2</td>\n",
              "      <td>151.5500</td>\n",
              "      <td>1</td>\n",
              "      <td>0</td>\n",
              "      <td>0</td>\n",
              "      <td>0</td>\n",
              "      <td>0</td>\n",
              "      <td>1</td>\n",
              "    </tr>\n",
              "    <tr>\n",
              "      <th>Allison, Mrs. Hudson J C (Bessie Waldo Daniels)</th>\n",
              "      <td>0</td>\n",
              "      <td>0</td>\n",
              "      <td>25.0000</td>\n",
              "      <td>1</td>\n",
              "      <td>2</td>\n",
              "      <td>151.5500</td>\n",
              "      <td>1</td>\n",
              "      <td>0</td>\n",
              "      <td>0</td>\n",
              "      <td>0</td>\n",
              "      <td>0</td>\n",
              "      <td>1</td>\n",
              "    </tr>\n",
              "  </tbody>\n",
              "</table>\n",
              "</div>"
            ],
            "text/plain": [
              "                                                 pass_class  ...  Southampton\n",
              "name                                                         ...             \n",
              "Allen, Miss. Elisabeth Walton                             0  ...            1\n",
              "Allison, Master. Hudson Trevor                            0  ...            1\n",
              "Allison, Miss. Helen Loraine                              0  ...            1\n",
              "Allison, Mr. Hudson Joshua Creighton                      0  ...            1\n",
              "Allison, Mrs. Hudson J C (Bessie Waldo Daniels)           0  ...            1\n",
              "\n",
              "[5 rows x 12 columns]"
            ]
          },
          "metadata": {
            "tags": []
          },
          "execution_count": 12
        }
      ]
    },
    {
      "cell_type": "markdown",
      "metadata": {
        "id": "mI8LFgpV0hqq"
      },
      "source": [
        "Revisaremos que nuestro dataset sea completamente con variables numéricas."
      ]
    },
    {
      "cell_type": "code",
      "metadata": {
        "colab": {
          "base_uri": "https://localhost:8080/"
        },
        "id": "5rqs-KhN0lRx",
        "outputId": "bb3c9302-b61c-41bf-8cc4-dede151a1e34"
      },
      "source": [
        "titanic_dev.info()"
      ],
      "execution_count": null,
      "outputs": [
        {
          "output_type": "stream",
          "text": [
            "<class 'pandas.core.frame.DataFrame'>\n",
            "Index: 1307 entries, Allen, Miss. Elisabeth Walton to Zimmerman, Mr. Leo\n",
            "Data columns (total 12 columns):\n",
            " #   Column          Non-Null Count  Dtype  \n",
            "---  ------          --------------  -----  \n",
            " 0   pass_class      1307 non-null   int64  \n",
            " 1   sex             1307 non-null   int64  \n",
            " 2   age             1044 non-null   float64\n",
            " 3   no_sib_spo_ob   1307 non-null   int64  \n",
            " 4   no_par_chld_ob  1307 non-null   int64  \n",
            " 5   pass_fare       1306 non-null   float64\n",
            " 6   survived        1307 non-null   int64  \n",
            " 7   bool_life_boat  1307 non-null   int64  \n",
            " 8   Cherbourg       1307 non-null   int64  \n",
            " 9   Other           1307 non-null   int64  \n",
            " 10  Queenstown      1307 non-null   int64  \n",
            " 11  Southampton     1307 non-null   int64  \n",
            "dtypes: float64(2), int64(10)\n",
            "memory usage: 132.7+ KB\n"
          ],
          "name": "stdout"
        }
      ]
    },
    {
      "cell_type": "markdown",
      "metadata": {
        "id": "N2Kfpr5r0qh4"
      },
      "source": [
        "### 2.2 Nomalización del dataset a través de la función MinMax\n",
        "\n",
        "Ahora que estamos seguros de que nuestro dataset es completamente numerico, aplicaremos una función que normalizará nuestros datos, ya que como podremos apreciar a continuación, las medias de las variables son muy dispersas. Para lo anterior, usaremos la función **MinMax** para normalizar el dataset."
      ]
    },
    {
      "cell_type": "code",
      "metadata": {
        "colab": {
          "base_uri": "https://localhost:8080/",
          "height": 297
        },
        "id": "Yp1izS610vGT",
        "outputId": "c4173529-caaf-49df-9c4a-1eaf1fb8499f"
      },
      "source": [
        "# Revisamos el summary de nuestro dataset actual para revisar las medias de las variables\n",
        "\n",
        "titanic_dev.describe()"
      ],
      "execution_count": null,
      "outputs": [
        {
          "output_type": "execute_result",
          "data": {
            "text/html": [
              "<div>\n",
              "<style scoped>\n",
              "    .dataframe tbody tr th:only-of-type {\n",
              "        vertical-align: middle;\n",
              "    }\n",
              "\n",
              "    .dataframe tbody tr th {\n",
              "        vertical-align: top;\n",
              "    }\n",
              "\n",
              "    .dataframe thead th {\n",
              "        text-align: right;\n",
              "    }\n",
              "</style>\n",
              "<table border=\"1\" class=\"dataframe\">\n",
              "  <thead>\n",
              "    <tr style=\"text-align: right;\">\n",
              "      <th></th>\n",
              "      <th>pass_class</th>\n",
              "      <th>sex</th>\n",
              "      <th>age</th>\n",
              "      <th>no_sib_spo_ob</th>\n",
              "      <th>no_par_chld_ob</th>\n",
              "      <th>pass_fare</th>\n",
              "      <th>survived</th>\n",
              "      <th>bool_life_boat</th>\n",
              "      <th>Cherbourg</th>\n",
              "      <th>Other</th>\n",
              "      <th>Queenstown</th>\n",
              "      <th>Southampton</th>\n",
              "    </tr>\n",
              "  </thead>\n",
              "  <tbody>\n",
              "    <tr>\n",
              "      <th>count</th>\n",
              "      <td>1307.000000</td>\n",
              "      <td>1307.000000</td>\n",
              "      <td>1044.000000</td>\n",
              "      <td>1307.000000</td>\n",
              "      <td>1307.000000</td>\n",
              "      <td>1306.000000</td>\n",
              "      <td>1307.000000</td>\n",
              "      <td>1307.000000</td>\n",
              "      <td>1307.000000</td>\n",
              "      <td>1307.000000</td>\n",
              "      <td>1307.000000</td>\n",
              "      <td>1307.000000</td>\n",
              "    </tr>\n",
              "    <tr>\n",
              "      <th>mean</th>\n",
              "      <td>1.293803</td>\n",
              "      <td>0.644223</td>\n",
              "      <td>29.867497</td>\n",
              "      <td>0.499617</td>\n",
              "      <td>0.385616</td>\n",
              "      <td>33.334462</td>\n",
              "      <td>0.617445</td>\n",
              "      <td>0.371844</td>\n",
              "      <td>0.206580</td>\n",
              "      <td>0.001530</td>\n",
              "      <td>0.093344</td>\n",
              "      <td>0.698546</td>\n",
              "    </tr>\n",
              "    <tr>\n",
              "      <th>std</th>\n",
              "      <td>0.838022</td>\n",
              "      <td>0.478931</td>\n",
              "      <td>14.420680</td>\n",
              "      <td>1.042273</td>\n",
              "      <td>0.866092</td>\n",
              "      <td>51.788712</td>\n",
              "      <td>0.486197</td>\n",
              "      <td>0.483482</td>\n",
              "      <td>0.405006</td>\n",
              "      <td>0.039103</td>\n",
              "      <td>0.291025</td>\n",
              "      <td>0.459065</td>\n",
              "    </tr>\n",
              "    <tr>\n",
              "      <th>min</th>\n",
              "      <td>0.000000</td>\n",
              "      <td>0.000000</td>\n",
              "      <td>0.166700</td>\n",
              "      <td>0.000000</td>\n",
              "      <td>0.000000</td>\n",
              "      <td>0.000000</td>\n",
              "      <td>0.000000</td>\n",
              "      <td>0.000000</td>\n",
              "      <td>0.000000</td>\n",
              "      <td>0.000000</td>\n",
              "      <td>0.000000</td>\n",
              "      <td>0.000000</td>\n",
              "    </tr>\n",
              "    <tr>\n",
              "      <th>25%</th>\n",
              "      <td>1.000000</td>\n",
              "      <td>0.000000</td>\n",
              "      <td>21.000000</td>\n",
              "      <td>0.000000</td>\n",
              "      <td>0.000000</td>\n",
              "      <td>7.895800</td>\n",
              "      <td>0.000000</td>\n",
              "      <td>0.000000</td>\n",
              "      <td>0.000000</td>\n",
              "      <td>0.000000</td>\n",
              "      <td>0.000000</td>\n",
              "      <td>0.000000</td>\n",
              "    </tr>\n",
              "    <tr>\n",
              "      <th>50%</th>\n",
              "      <td>2.000000</td>\n",
              "      <td>1.000000</td>\n",
              "      <td>28.000000</td>\n",
              "      <td>0.000000</td>\n",
              "      <td>0.000000</td>\n",
              "      <td>14.454200</td>\n",
              "      <td>1.000000</td>\n",
              "      <td>0.000000</td>\n",
              "      <td>0.000000</td>\n",
              "      <td>0.000000</td>\n",
              "      <td>0.000000</td>\n",
              "      <td>1.000000</td>\n",
              "    </tr>\n",
              "    <tr>\n",
              "      <th>75%</th>\n",
              "      <td>2.000000</td>\n",
              "      <td>1.000000</td>\n",
              "      <td>39.000000</td>\n",
              "      <td>1.000000</td>\n",
              "      <td>0.000000</td>\n",
              "      <td>31.275000</td>\n",
              "      <td>1.000000</td>\n",
              "      <td>1.000000</td>\n",
              "      <td>0.000000</td>\n",
              "      <td>0.000000</td>\n",
              "      <td>0.000000</td>\n",
              "      <td>1.000000</td>\n",
              "    </tr>\n",
              "    <tr>\n",
              "      <th>max</th>\n",
              "      <td>2.000000</td>\n",
              "      <td>1.000000</td>\n",
              "      <td>80.000000</td>\n",
              "      <td>8.000000</td>\n",
              "      <td>9.000000</td>\n",
              "      <td>512.329200</td>\n",
              "      <td>1.000000</td>\n",
              "      <td>1.000000</td>\n",
              "      <td>1.000000</td>\n",
              "      <td>1.000000</td>\n",
              "      <td>1.000000</td>\n",
              "      <td>1.000000</td>\n",
              "    </tr>\n",
              "  </tbody>\n",
              "</table>\n",
              "</div>"
            ],
            "text/plain": [
              "        pass_class          sex  ...   Queenstown  Southampton\n",
              "count  1307.000000  1307.000000  ...  1307.000000  1307.000000\n",
              "mean      1.293803     0.644223  ...     0.093344     0.698546\n",
              "std       0.838022     0.478931  ...     0.291025     0.459065\n",
              "min       0.000000     0.000000  ...     0.000000     0.000000\n",
              "25%       1.000000     0.000000  ...     0.000000     0.000000\n",
              "50%       2.000000     1.000000  ...     0.000000     1.000000\n",
              "75%       2.000000     1.000000  ...     0.000000     1.000000\n",
              "max       2.000000     1.000000  ...     1.000000     1.000000\n",
              "\n",
              "[8 rows x 12 columns]"
            ]
          },
          "metadata": {
            "tags": []
          },
          "execution_count": 14
        }
      ]
    },
    {
      "cell_type": "code",
      "metadata": {
        "colab": {
          "base_uri": "https://localhost:8080/",
          "height": 252
        },
        "id": "K7nAzfKt01aJ",
        "outputId": "469a98c8-7308-4146-9374-2155e804af6e"
      },
      "source": [
        "# Aplicaremos la normalización con el metodo MinMax\n",
        "\n",
        "from sklearn.preprocessing import MinMaxScaler\n",
        "scaler = MinMaxScaler()\n",
        "scaler.fit(titanic_dev)\n",
        "titanic_dev_norm = scaler.transform(titanic_dev)\n",
        "\n",
        "# Pasamos nuestra matriz a dataframe\n",
        "\n",
        "titanic_dev_norm  = pd.DataFrame(titanic_dev_norm)\n",
        "titanic_dev_norm.columns = titanic_dev.columns\n",
        "titanic_dev_norm.index = titanic_dev.index\n",
        "titanic_dev_norm.head()"
      ],
      "execution_count": null,
      "outputs": [
        {
          "output_type": "execute_result",
          "data": {
            "text/html": [
              "<div>\n",
              "<style scoped>\n",
              "    .dataframe tbody tr th:only-of-type {\n",
              "        vertical-align: middle;\n",
              "    }\n",
              "\n",
              "    .dataframe tbody tr th {\n",
              "        vertical-align: top;\n",
              "    }\n",
              "\n",
              "    .dataframe thead th {\n",
              "        text-align: right;\n",
              "    }\n",
              "</style>\n",
              "<table border=\"1\" class=\"dataframe\">\n",
              "  <thead>\n",
              "    <tr style=\"text-align: right;\">\n",
              "      <th></th>\n",
              "      <th>pass_class</th>\n",
              "      <th>sex</th>\n",
              "      <th>age</th>\n",
              "      <th>no_sib_spo_ob</th>\n",
              "      <th>no_par_chld_ob</th>\n",
              "      <th>pass_fare</th>\n",
              "      <th>survived</th>\n",
              "      <th>bool_life_boat</th>\n",
              "      <th>Cherbourg</th>\n",
              "      <th>Other</th>\n",
              "      <th>Queenstown</th>\n",
              "      <th>Southampton</th>\n",
              "    </tr>\n",
              "    <tr>\n",
              "      <th>name</th>\n",
              "      <th></th>\n",
              "      <th></th>\n",
              "      <th></th>\n",
              "      <th></th>\n",
              "      <th></th>\n",
              "      <th></th>\n",
              "      <th></th>\n",
              "      <th></th>\n",
              "      <th></th>\n",
              "      <th></th>\n",
              "      <th></th>\n",
              "      <th></th>\n",
              "    </tr>\n",
              "  </thead>\n",
              "  <tbody>\n",
              "    <tr>\n",
              "      <th>Allen, Miss. Elisabeth Walton</th>\n",
              "      <td>0.0</td>\n",
              "      <td>0.0</td>\n",
              "      <td>0.361169</td>\n",
              "      <td>0.000</td>\n",
              "      <td>0.000000</td>\n",
              "      <td>0.412503</td>\n",
              "      <td>0.0</td>\n",
              "      <td>1.0</td>\n",
              "      <td>0.0</td>\n",
              "      <td>0.0</td>\n",
              "      <td>0.0</td>\n",
              "      <td>1.0</td>\n",
              "    </tr>\n",
              "    <tr>\n",
              "      <th>Allison, Master. Hudson Trevor</th>\n",
              "      <td>0.0</td>\n",
              "      <td>1.0</td>\n",
              "      <td>0.009395</td>\n",
              "      <td>0.125</td>\n",
              "      <td>0.222222</td>\n",
              "      <td>0.295806</td>\n",
              "      <td>0.0</td>\n",
              "      <td>1.0</td>\n",
              "      <td>0.0</td>\n",
              "      <td>0.0</td>\n",
              "      <td>0.0</td>\n",
              "      <td>1.0</td>\n",
              "    </tr>\n",
              "    <tr>\n",
              "      <th>Allison, Miss. Helen Loraine</th>\n",
              "      <td>0.0</td>\n",
              "      <td>0.0</td>\n",
              "      <td>0.022964</td>\n",
              "      <td>0.125</td>\n",
              "      <td>0.222222</td>\n",
              "      <td>0.295806</td>\n",
              "      <td>1.0</td>\n",
              "      <td>0.0</td>\n",
              "      <td>0.0</td>\n",
              "      <td>0.0</td>\n",
              "      <td>0.0</td>\n",
              "      <td>1.0</td>\n",
              "    </tr>\n",
              "    <tr>\n",
              "      <th>Allison, Mr. Hudson Joshua Creighton</th>\n",
              "      <td>0.0</td>\n",
              "      <td>1.0</td>\n",
              "      <td>0.373695</td>\n",
              "      <td>0.125</td>\n",
              "      <td>0.222222</td>\n",
              "      <td>0.295806</td>\n",
              "      <td>1.0</td>\n",
              "      <td>0.0</td>\n",
              "      <td>0.0</td>\n",
              "      <td>0.0</td>\n",
              "      <td>0.0</td>\n",
              "      <td>1.0</td>\n",
              "    </tr>\n",
              "    <tr>\n",
              "      <th>Allison, Mrs. Hudson J C (Bessie Waldo Daniels)</th>\n",
              "      <td>0.0</td>\n",
              "      <td>0.0</td>\n",
              "      <td>0.311064</td>\n",
              "      <td>0.125</td>\n",
              "      <td>0.222222</td>\n",
              "      <td>0.295806</td>\n",
              "      <td>1.0</td>\n",
              "      <td>0.0</td>\n",
              "      <td>0.0</td>\n",
              "      <td>0.0</td>\n",
              "      <td>0.0</td>\n",
              "      <td>1.0</td>\n",
              "    </tr>\n",
              "  </tbody>\n",
              "</table>\n",
              "</div>"
            ],
            "text/plain": [
              "                                                 pass_class  ...  Southampton\n",
              "name                                                         ...             \n",
              "Allen, Miss. Elisabeth Walton                           0.0  ...          1.0\n",
              "Allison, Master. Hudson Trevor                          0.0  ...          1.0\n",
              "Allison, Miss. Helen Loraine                            0.0  ...          1.0\n",
              "Allison, Mr. Hudson Joshua Creighton                    0.0  ...          1.0\n",
              "Allison, Mrs. Hudson J C (Bessie Waldo Daniels)         0.0  ...          1.0\n",
              "\n",
              "[5 rows x 12 columns]"
            ]
          },
          "metadata": {
            "tags": []
          },
          "execution_count": 15
        }
      ]
    },
    {
      "cell_type": "code",
      "metadata": {
        "colab": {
          "base_uri": "https://localhost:8080/",
          "height": 297
        },
        "id": "_TK1rzMh1CnR",
        "outputId": "df680c23-9010-4161-a122-9993df6cc9bb"
      },
      "source": [
        "# Revisaremos como esta nuestro dataset normalizado\n",
        "\n",
        "titanic_dev_norm.describe()"
      ],
      "execution_count": null,
      "outputs": [
        {
          "output_type": "execute_result",
          "data": {
            "text/html": [
              "<div>\n",
              "<style scoped>\n",
              "    .dataframe tbody tr th:only-of-type {\n",
              "        vertical-align: middle;\n",
              "    }\n",
              "\n",
              "    .dataframe tbody tr th {\n",
              "        vertical-align: top;\n",
              "    }\n",
              "\n",
              "    .dataframe thead th {\n",
              "        text-align: right;\n",
              "    }\n",
              "</style>\n",
              "<table border=\"1\" class=\"dataframe\">\n",
              "  <thead>\n",
              "    <tr style=\"text-align: right;\">\n",
              "      <th></th>\n",
              "      <th>pass_class</th>\n",
              "      <th>sex</th>\n",
              "      <th>age</th>\n",
              "      <th>no_sib_spo_ob</th>\n",
              "      <th>no_par_chld_ob</th>\n",
              "      <th>pass_fare</th>\n",
              "      <th>survived</th>\n",
              "      <th>bool_life_boat</th>\n",
              "      <th>Cherbourg</th>\n",
              "      <th>Other</th>\n",
              "      <th>Queenstown</th>\n",
              "      <th>Southampton</th>\n",
              "    </tr>\n",
              "  </thead>\n",
              "  <tbody>\n",
              "    <tr>\n",
              "      <th>count</th>\n",
              "      <td>1307.000000</td>\n",
              "      <td>1307.000000</td>\n",
              "      <td>1044.000000</td>\n",
              "      <td>1307.000000</td>\n",
              "      <td>1307.000000</td>\n",
              "      <td>1306.000000</td>\n",
              "      <td>1307.000000</td>\n",
              "      <td>1307.000000</td>\n",
              "      <td>1307.000000</td>\n",
              "      <td>1307.000000</td>\n",
              "      <td>1307.000000</td>\n",
              "      <td>1307.000000</td>\n",
              "    </tr>\n",
              "    <tr>\n",
              "      <th>mean</th>\n",
              "      <td>0.646901</td>\n",
              "      <td>0.644223</td>\n",
              "      <td>0.372035</td>\n",
              "      <td>0.062452</td>\n",
              "      <td>0.042846</td>\n",
              "      <td>0.065065</td>\n",
              "      <td>0.617445</td>\n",
              "      <td>0.371844</td>\n",
              "      <td>0.206580</td>\n",
              "      <td>0.001530</td>\n",
              "      <td>0.093344</td>\n",
              "      <td>0.698546</td>\n",
              "    </tr>\n",
              "    <tr>\n",
              "      <th>std</th>\n",
              "      <td>0.419011</td>\n",
              "      <td>0.478931</td>\n",
              "      <td>0.180635</td>\n",
              "      <td>0.130284</td>\n",
              "      <td>0.096232</td>\n",
              "      <td>0.101085</td>\n",
              "      <td>0.486197</td>\n",
              "      <td>0.483482</td>\n",
              "      <td>0.405006</td>\n",
              "      <td>0.039103</td>\n",
              "      <td>0.291025</td>\n",
              "      <td>0.459065</td>\n",
              "    </tr>\n",
              "    <tr>\n",
              "      <th>min</th>\n",
              "      <td>0.000000</td>\n",
              "      <td>0.000000</td>\n",
              "      <td>0.000000</td>\n",
              "      <td>0.000000</td>\n",
              "      <td>0.000000</td>\n",
              "      <td>0.000000</td>\n",
              "      <td>0.000000</td>\n",
              "      <td>0.000000</td>\n",
              "      <td>0.000000</td>\n",
              "      <td>0.000000</td>\n",
              "      <td>0.000000</td>\n",
              "      <td>0.000000</td>\n",
              "    </tr>\n",
              "    <tr>\n",
              "      <th>25%</th>\n",
              "      <td>0.500000</td>\n",
              "      <td>0.000000</td>\n",
              "      <td>0.260960</td>\n",
              "      <td>0.000000</td>\n",
              "      <td>0.000000</td>\n",
              "      <td>0.015412</td>\n",
              "      <td>0.000000</td>\n",
              "      <td>0.000000</td>\n",
              "      <td>0.000000</td>\n",
              "      <td>0.000000</td>\n",
              "      <td>0.000000</td>\n",
              "      <td>0.000000</td>\n",
              "    </tr>\n",
              "    <tr>\n",
              "      <th>50%</th>\n",
              "      <td>1.000000</td>\n",
              "      <td>1.000000</td>\n",
              "      <td>0.348643</td>\n",
              "      <td>0.000000</td>\n",
              "      <td>0.000000</td>\n",
              "      <td>0.028213</td>\n",
              "      <td>1.000000</td>\n",
              "      <td>0.000000</td>\n",
              "      <td>0.000000</td>\n",
              "      <td>0.000000</td>\n",
              "      <td>0.000000</td>\n",
              "      <td>1.000000</td>\n",
              "    </tr>\n",
              "    <tr>\n",
              "      <th>75%</th>\n",
              "      <td>1.000000</td>\n",
              "      <td>1.000000</td>\n",
              "      <td>0.486430</td>\n",
              "      <td>0.125000</td>\n",
              "      <td>0.000000</td>\n",
              "      <td>0.061045</td>\n",
              "      <td>1.000000</td>\n",
              "      <td>1.000000</td>\n",
              "      <td>0.000000</td>\n",
              "      <td>0.000000</td>\n",
              "      <td>0.000000</td>\n",
              "      <td>1.000000</td>\n",
              "    </tr>\n",
              "    <tr>\n",
              "      <th>max</th>\n",
              "      <td>1.000000</td>\n",
              "      <td>1.000000</td>\n",
              "      <td>1.000000</td>\n",
              "      <td>1.000000</td>\n",
              "      <td>1.000000</td>\n",
              "      <td>1.000000</td>\n",
              "      <td>1.000000</td>\n",
              "      <td>1.000000</td>\n",
              "      <td>1.000000</td>\n",
              "      <td>1.000000</td>\n",
              "      <td>1.000000</td>\n",
              "      <td>1.000000</td>\n",
              "    </tr>\n",
              "  </tbody>\n",
              "</table>\n",
              "</div>"
            ],
            "text/plain": [
              "        pass_class          sex  ...   Queenstown  Southampton\n",
              "count  1307.000000  1307.000000  ...  1307.000000  1307.000000\n",
              "mean      0.646901     0.644223  ...     0.093344     0.698546\n",
              "std       0.419011     0.478931  ...     0.291025     0.459065\n",
              "min       0.000000     0.000000  ...     0.000000     0.000000\n",
              "25%       0.500000     0.000000  ...     0.000000     0.000000\n",
              "50%       1.000000     1.000000  ...     0.000000     1.000000\n",
              "75%       1.000000     1.000000  ...     0.000000     1.000000\n",
              "max       1.000000     1.000000  ...     1.000000     1.000000\n",
              "\n",
              "[8 rows x 12 columns]"
            ]
          },
          "metadata": {
            "tags": []
          },
          "execution_count": 16
        }
      ]
    },
    {
      "cell_type": "markdown",
      "metadata": {
        "id": "opDPzgRH1JtF"
      },
      "source": [
        "### 2.3 Imputación de valores missing a través de k-NN\n",
        "\n",
        "Dado que no queremos perder información para desarrollar nuestro modelo, lo que haremos será hacer un imputación de datos a través del modelo KNN (k-Nearest Neighbor Imputation). Y lo que hará este modelo será reemplazar los valores nulos con el promedio de sus vecinos cercanos en el dataset."
      ]
    },
    {
      "cell_type": "code",
      "metadata": {
        "colab": {
          "base_uri": "https://localhost:8080/"
        },
        "id": "wzw8TsuT1RvE",
        "outputId": "75c29410-b030-488c-e995-ec00ff694302"
      },
      "source": [
        "# Imprimir missing values actuales\n",
        "\n",
        "val_titanic_norm = titanic_dev_norm.values\n",
        "print('Missing: %d' % sum(np.isnan(val_titanic_norm).flatten()))"
      ],
      "execution_count": null,
      "outputs": [
        {
          "output_type": "stream",
          "text": [
            "Missing: 264\n"
          ],
          "name": "stdout"
        }
      ]
    },
    {
      "cell_type": "code",
      "metadata": {
        "colab": {
          "base_uri": "https://localhost:8080/"
        },
        "id": "UfsQurlC1Yav",
        "outputId": "45d4d186-f509-4aea-afda-89124972e9cd"
      },
      "source": [
        "from sklearn.impute import KNNImputer\n",
        "\n",
        "# Define imputador\n",
        "imputer = KNNImputer()\n",
        "\n",
        "# Ajusta en el dataset\n",
        "imputer.fit(val_titanic_norm)\n",
        "\n",
        "# Transforma el dataset\n",
        "val_titanic_norm_tr = imputer.transform(val_titanic_norm)\n",
        "\n",
        "# Imprimir missing values nuevos\n",
        "print('Missing: %d' % sum(np.isnan(val_titanic_norm_tr).flatten()))"
      ],
      "execution_count": null,
      "outputs": [
        {
          "output_type": "stream",
          "text": [
            "Missing: 0\n"
          ],
          "name": "stdout"
        }
      ]
    },
    {
      "cell_type": "markdown",
      "metadata": {
        "id": "jRw9WS9r1dej"
      },
      "source": [
        "Ahora que tenemos nuestro dataset imputado, reemplazaremos el dataset con valores missing por este nuevo dataset."
      ]
    },
    {
      "cell_type": "code",
      "metadata": {
        "colab": {
          "base_uri": "https://localhost:8080/",
          "height": 297
        },
        "id": "22Bgaa5g1h2z",
        "outputId": "702a473c-1bcd-4f99-a749-bda8848a6fa1"
      },
      "source": [
        "# Reemplazamos el dataset con missing values por el imputado por KNN.\n",
        "\n",
        "titanic_dev_norm = pd.DataFrame(val_titanic_norm_tr)\n",
        "titanic_dev_norm.columns = titanic_dev.columns\n",
        "titanic_dev_norm.index = titanic_dev.index\n",
        "titanic_dev_norm.head()\n",
        "\n",
        "# Revisamos la existencia de missing values en nuestro dataset.\n",
        "\n",
        "titanic_dev_norm.describe()"
      ],
      "execution_count": null,
      "outputs": [
        {
          "output_type": "execute_result",
          "data": {
            "text/html": [
              "<div>\n",
              "<style scoped>\n",
              "    .dataframe tbody tr th:only-of-type {\n",
              "        vertical-align: middle;\n",
              "    }\n",
              "\n",
              "    .dataframe tbody tr th {\n",
              "        vertical-align: top;\n",
              "    }\n",
              "\n",
              "    .dataframe thead th {\n",
              "        text-align: right;\n",
              "    }\n",
              "</style>\n",
              "<table border=\"1\" class=\"dataframe\">\n",
              "  <thead>\n",
              "    <tr style=\"text-align: right;\">\n",
              "      <th></th>\n",
              "      <th>pass_class</th>\n",
              "      <th>sex</th>\n",
              "      <th>age</th>\n",
              "      <th>no_sib_spo_ob</th>\n",
              "      <th>no_par_chld_ob</th>\n",
              "      <th>pass_fare</th>\n",
              "      <th>survived</th>\n",
              "      <th>bool_life_boat</th>\n",
              "      <th>Cherbourg</th>\n",
              "      <th>Other</th>\n",
              "      <th>Queenstown</th>\n",
              "      <th>Southampton</th>\n",
              "    </tr>\n",
              "  </thead>\n",
              "  <tbody>\n",
              "    <tr>\n",
              "      <th>count</th>\n",
              "      <td>1307.000000</td>\n",
              "      <td>1307.000000</td>\n",
              "      <td>1307.000000</td>\n",
              "      <td>1307.000000</td>\n",
              "      <td>1307.000000</td>\n",
              "      <td>1307.000000</td>\n",
              "      <td>1307.000000</td>\n",
              "      <td>1307.000000</td>\n",
              "      <td>1307.000000</td>\n",
              "      <td>1307.000000</td>\n",
              "      <td>1307.000000</td>\n",
              "      <td>1307.000000</td>\n",
              "    </tr>\n",
              "    <tr>\n",
              "      <th>mean</th>\n",
              "      <td>0.646901</td>\n",
              "      <td>0.644223</td>\n",
              "      <td>0.373983</td>\n",
              "      <td>0.062452</td>\n",
              "      <td>0.042846</td>\n",
              "      <td>0.065032</td>\n",
              "      <td>0.617445</td>\n",
              "      <td>0.371844</td>\n",
              "      <td>0.206580</td>\n",
              "      <td>0.001530</td>\n",
              "      <td>0.093344</td>\n",
              "      <td>0.698546</td>\n",
              "    </tr>\n",
              "    <tr>\n",
              "      <th>std</th>\n",
              "      <td>0.419011</td>\n",
              "      <td>0.478931</td>\n",
              "      <td>0.171985</td>\n",
              "      <td>0.130284</td>\n",
              "      <td>0.096232</td>\n",
              "      <td>0.101053</td>\n",
              "      <td>0.486197</td>\n",
              "      <td>0.483482</td>\n",
              "      <td>0.405006</td>\n",
              "      <td>0.039103</td>\n",
              "      <td>0.291025</td>\n",
              "      <td>0.459065</td>\n",
              "    </tr>\n",
              "    <tr>\n",
              "      <th>min</th>\n",
              "      <td>0.000000</td>\n",
              "      <td>0.000000</td>\n",
              "      <td>0.000000</td>\n",
              "      <td>0.000000</td>\n",
              "      <td>0.000000</td>\n",
              "      <td>0.000000</td>\n",
              "      <td>0.000000</td>\n",
              "      <td>0.000000</td>\n",
              "      <td>0.000000</td>\n",
              "      <td>0.000000</td>\n",
              "      <td>0.000000</td>\n",
              "      <td>0.000000</td>\n",
              "    </tr>\n",
              "    <tr>\n",
              "      <th>25%</th>\n",
              "      <td>0.500000</td>\n",
              "      <td>0.000000</td>\n",
              "      <td>0.260960</td>\n",
              "      <td>0.000000</td>\n",
              "      <td>0.000000</td>\n",
              "      <td>0.015412</td>\n",
              "      <td>0.000000</td>\n",
              "      <td>0.000000</td>\n",
              "      <td>0.000000</td>\n",
              "      <td>0.000000</td>\n",
              "      <td>0.000000</td>\n",
              "      <td>0.000000</td>\n",
              "    </tr>\n",
              "    <tr>\n",
              "      <th>50%</th>\n",
              "      <td>1.000000</td>\n",
              "      <td>1.000000</td>\n",
              "      <td>0.356158</td>\n",
              "      <td>0.000000</td>\n",
              "      <td>0.000000</td>\n",
              "      <td>0.028213</td>\n",
              "      <td>1.000000</td>\n",
              "      <td>0.000000</td>\n",
              "      <td>0.000000</td>\n",
              "      <td>0.000000</td>\n",
              "      <td>0.000000</td>\n",
              "      <td>1.000000</td>\n",
              "    </tr>\n",
              "    <tr>\n",
              "      <th>75%</th>\n",
              "      <td>1.000000</td>\n",
              "      <td>1.000000</td>\n",
              "      <td>0.474530</td>\n",
              "      <td>0.125000</td>\n",
              "      <td>0.000000</td>\n",
              "      <td>0.061045</td>\n",
              "      <td>1.000000</td>\n",
              "      <td>1.000000</td>\n",
              "      <td>0.000000</td>\n",
              "      <td>0.000000</td>\n",
              "      <td>0.000000</td>\n",
              "      <td>1.000000</td>\n",
              "    </tr>\n",
              "    <tr>\n",
              "      <th>max</th>\n",
              "      <td>1.000000</td>\n",
              "      <td>1.000000</td>\n",
              "      <td>1.000000</td>\n",
              "      <td>1.000000</td>\n",
              "      <td>1.000000</td>\n",
              "      <td>1.000000</td>\n",
              "      <td>1.000000</td>\n",
              "      <td>1.000000</td>\n",
              "      <td>1.000000</td>\n",
              "      <td>1.000000</td>\n",
              "      <td>1.000000</td>\n",
              "      <td>1.000000</td>\n",
              "    </tr>\n",
              "  </tbody>\n",
              "</table>\n",
              "</div>"
            ],
            "text/plain": [
              "        pass_class          sex  ...   Queenstown  Southampton\n",
              "count  1307.000000  1307.000000  ...  1307.000000  1307.000000\n",
              "mean      0.646901     0.644223  ...     0.093344     0.698546\n",
              "std       0.419011     0.478931  ...     0.291025     0.459065\n",
              "min       0.000000     0.000000  ...     0.000000     0.000000\n",
              "25%       0.500000     0.000000  ...     0.000000     0.000000\n",
              "50%       1.000000     1.000000  ...     0.000000     1.000000\n",
              "75%       1.000000     1.000000  ...     0.000000     1.000000\n",
              "max       1.000000     1.000000  ...     1.000000     1.000000\n",
              "\n",
              "[8 rows x 12 columns]"
            ]
          },
          "metadata": {
            "tags": []
          },
          "execution_count": 19
        }
      ]
    },
    {
      "cell_type": "markdown",
      "metadata": {
        "id": "i-OS-v5i1l0G"
      },
      "source": [
        "Como podemos apreciar, nuestro dataset esta sin valores missing y totalmente normalizado. Con este dataset podemos trabajar ahora nuestro modelo de clusterización."
      ]
    },
    {
      "cell_type": "markdown",
      "metadata": {
        "id": "leOYiirv7sOr"
      },
      "source": [
        "## 3. Implementación K-Means"
      ]
    },
    {
      "cell_type": "markdown",
      "metadata": {
        "id": "BWJUx7hn1r9C"
      },
      "source": [
        "### 3.1. Búsqueda óptima de clusters a través del método del códo.\n",
        "\n",
        "En este punto lo que veremos es el valor k óptimo para definir la cantidad de clusters en nuestro modelo. Para lo anterior, utilizaremos el **método del códo** que nos indica donde se encuenta el punto de inflexión en donde al seguir separando en k clusters, este no aporta mayor suma de las distancias al cuadrado (Inercia) intercluster [WSS].\n",
        "Veremos a través de una gráfica donde se genera este punto de inflexión (códo)."
      ]
    },
    {
      "cell_type": "code",
      "metadata": {
        "id": "PwZbDBnB13xx"
      },
      "source": [
        "# Calcularemos la inercia para una cantidad k = 10 de clústers y compararemos en un gráfico.\n",
        "\n",
        "from sklearn.cluster import KMeans\n",
        "\n",
        "WSS = []\n",
        "\n",
        "for i in range(1,21):\n",
        "    kmeans = KMeans(n_clusters = i, max_iter = 300, random_state = 1)\n",
        "    kmeans.fit(titanic_dev_norm)\n",
        "    WSS.append(kmeans.inertia_)"
      ],
      "execution_count": null,
      "outputs": []
    },
    {
      "cell_type": "markdown",
      "metadata": {
        "id": "oQO52_q219c8"
      },
      "source": [
        "Revisaremos como se ve el gráfico de inercia versus el número de clusters."
      ]
    },
    {
      "cell_type": "code",
      "metadata": {
        "colab": {
          "base_uri": "https://localhost:8080/",
          "height": 295
        },
        "id": "4Ff1v0zA1_YT",
        "outputId": "cf9eee8f-18d3-461c-fab9-4dab5037b838"
      },
      "source": [
        "plt.plot(range(1,21),WSS,'-bx')\n",
        "plt.title('Método del códo - Inercia vs k-clusters')\n",
        "plt.xlabel('k-clusters')\n",
        "plt.ylabel('Inercia (WSS)')\n",
        "plt.style.use('ggplot')\n",
        "plt.show()"
      ],
      "execution_count": null,
      "outputs": [
        {
          "output_type": "display_data",
          "data": {
            "image/png": "[encoded data removed]",
            "text/plain": [
              "<Figure size 432x288 with 1 Axes>"
            ]
          },
          "metadata": {
            "tags": [],
            "needs_background": "light"
          }
        }
      ]
    },
    {
      "cell_type": "markdown",
      "metadata": {
        "id": "KjY42tld2gNe"
      },
      "source": [
        "Podemos concluir de este método, que el número k de clústers óptimo para el dataset es de **$k = 2$**."
      ]
    },
    {
      "cell_type": "markdown",
      "metadata": {
        "id": "v9elkl3W2khV"
      },
      "source": [
        "### 3.2 Búsqueda óptima de clusters a través del método de Calinski y Harabasz index.\n",
        "\n",
        "Este método, nos entrega un indice para k-clusters en donde relaciona la dispersión a nivel intercluster (SSW) e intracluster (SSB) de la siguiente manera:\n",
        "\n",
        "$$CH_{index} = \\dfrac{SSB/(k-1)}{SSW/(n-k)},$$\n",
        "\n",
        "donde $n$ es la cantidad de filas del dataset y $k$ la cantidad de clústers medidos. Utilizaremos el package de sckit-learn para definir este indice para cada $k$ partición."
      ]
    },
    {
      "cell_type": "code",
      "metadata": {
        "id": "MBkF67b32pzu"
      },
      "source": [
        "# Calcularemos el index para una cantidad k = 10 de clústers y compararemos en un gráfico.\n",
        "\n",
        "from sklearn.metrics import calinski_harabasz_score\n",
        "\n",
        "CH_index = []\n",
        "\n",
        "for i in range(2,21):\n",
        "    kmeans = KMeans(n_clusters = i, max_iter = 300, random_state = 1).fit(titanic_dev_norm)\n",
        "    labels = kmeans.labels_\n",
        "    CH_index.append(calinski_harabasz_score(titanic_dev_norm, labels))"
      ],
      "execution_count": null,
      "outputs": []
    },
    {
      "cell_type": "markdown",
      "metadata": {
        "id": "f92cj2bu2vkn"
      },
      "source": [
        "Revisaremos como se ve el gráfico de CH_index versus el número de clusters."
      ]
    },
    {
      "cell_type": "code",
      "metadata": {
        "colab": {
          "base_uri": "https://localhost:8080/",
          "height": 300
        },
        "id": "r1MDTJAs2yni",
        "outputId": "bc3c37e9-de30-4939-eb09-642d29086514"
      },
      "source": [
        "plt.plot(range(2,21),CH_index,'-bx')\n",
        "plt.title('Método de Calinski y Harabasz index')\n",
        "plt.xlabel('k-clusters')\n",
        "plt.ylabel('CH_index')\n",
        "plt.style.use('ggplot')\n",
        "plt.show()"
      ],
      "execution_count": null,
      "outputs": [
        {
          "output_type": "display_data",
          "data": {
            "image/png": "[encoded data removed]",
            "text/plain": [
              "<Figure size 432x288 with 1 Axes>"
            ]
          },
          "metadata": {
            "tags": []
          }
        }
      ]
    },
    {
      "cell_type": "markdown",
      "metadata": {
        "id": "V5IEsAzK232X"
      },
      "source": [
        "Este método nos vuelve a confirmar que el número k de clústers óptimo para el dataset es de **$k = 2$**, dado que tiene el mayor $CH_{index} \\approx 830$. De todas maneras, para salir de dudas utilizaremos la paquetería de **yellowbrick** que nos entrega directamente el valor k óptimo del indice de Calinski Harabasz."
      ]
    },
    {
      "cell_type": "code",
      "metadata": {
        "colab": {
          "base_uri": "https://localhost:8080/",
          "height": 351
        },
        "id": "4Ro6jdB-29wX",
        "outputId": "d45c3017-8fcb-4a7b-aeee-4e8bbe158fd2"
      },
      "source": [
        "# Calinski Harabasz Score for K means\n",
        "from yellowbrick.cluster import KElbowVisualizer\n",
        "\n",
        "model = KMeans()\n",
        "\n",
        "visualizer = KElbowVisualizer(model, k=(2,30),metric='calinski_harabasz', timings= True)\n",
        "visualizer.fit(titanic_dev_norm)\n",
        "visualizer.show()"
      ],
      "execution_count": null,
      "outputs": [
        {
          "output_type": "error",
          "ename": "YellowbrickValueError",
          "evalue": "ignored",
          "traceback": [
            "\u001b[0;31m---------------------------------------------------------------------------\u001b[0m",
            "\u001b[0;31mYellowbrickValueError\u001b[0m                     Traceback (most recent call last)",
            "\u001b[0;32m<ipython-input-30-170b66f6231f>\u001b[0m in \u001b[0;36m<module>\u001b[0;34m()\u001b[0m\n\u001b[1;32m      4\u001b[0m \u001b[0mmodel\u001b[0m \u001b[0;34m=\u001b[0m \u001b[0mKMeans\u001b[0m\u001b[0;34m(\u001b[0m\u001b[0;34m)\u001b[0m\u001b[0;34m\u001b[0m\u001b[0;34m\u001b[0m\u001b[0m\n\u001b[1;32m      5\u001b[0m \u001b[0;34m\u001b[0m\u001b[0m\n\u001b[0;32m----> 6\u001b[0;31m \u001b[0mvisualizer\u001b[0m \u001b[0;34m=\u001b[0m \u001b[0mKElbowVisualizer\u001b[0m\u001b[0;34m(\u001b[0m\u001b[0mmodel\u001b[0m\u001b[0;34m,\u001b[0m \u001b[0mk\u001b[0m\u001b[0;34m=\u001b[0m\u001b[0;34m(\u001b[0m\u001b[0;36m2\u001b[0m\u001b[0;34m,\u001b[0m\u001b[0;36m30\u001b[0m\u001b[0;34m)\u001b[0m\u001b[0;34m,\u001b[0m\u001b[0mmetric\u001b[0m\u001b[0;34m=\u001b[0m\u001b[0;34m'calinski_harabasz'\u001b[0m\u001b[0;34m,\u001b[0m \u001b[0mtimings\u001b[0m\u001b[0;34m=\u001b[0m \u001b[0;32mTrue\u001b[0m\u001b[0;34m)\u001b[0m\u001b[0;34m\u001b[0m\u001b[0;34m\u001b[0m\u001b[0m\n\u001b[0m\u001b[1;32m      7\u001b[0m \u001b[0mvisualizer\u001b[0m\u001b[0;34m.\u001b[0m\u001b[0mfit\u001b[0m\u001b[0;34m(\u001b[0m\u001b[0mtitanic_dev_norm\u001b[0m\u001b[0;34m)\u001b[0m\u001b[0;34m\u001b[0m\u001b[0;34m\u001b[0m\u001b[0m\n\u001b[1;32m      8\u001b[0m \u001b[0mvisualizer\u001b[0m\u001b[0;34m.\u001b[0m\u001b[0mshow\u001b[0m\u001b[0;34m(\u001b[0m\u001b[0;34m)\u001b[0m\u001b[0;34m\u001b[0m\u001b[0;34m\u001b[0m\u001b[0m\n",
            "\u001b[0;32m/usr/local/lib/python3.7/dist-packages/yellowbrick/cluster/elbow.py\u001b[0m in \u001b[0;36m__init__\u001b[0;34m(self, model, ax, k, metric, timings, **kwargs)\u001b[0m\n\u001b[1;32m    213\u001b[0m         \u001b[0;32mif\u001b[0m \u001b[0mmetric\u001b[0m \u001b[0;32mnot\u001b[0m \u001b[0;32min\u001b[0m \u001b[0mKELBOW_SCOREMAP\u001b[0m\u001b[0;34m:\u001b[0m\u001b[0;34m\u001b[0m\u001b[0;34m\u001b[0m\u001b[0m\n\u001b[1;32m    214\u001b[0m             raise YellowbrickValueError(\n\u001b[0;32m--> 215\u001b[0;31m                 \u001b[0;34m\"'{}' is not a defined metric \"\u001b[0m\u001b[0;34m\u001b[0m\u001b[0;34m\u001b[0m\u001b[0m\n\u001b[0m\u001b[1;32m    216\u001b[0m                 \u001b[0;34m\"use one of distortion, silhouette, or calinski_harabaz\"\u001b[0m\u001b[0;34m\u001b[0m\u001b[0;34m\u001b[0m\u001b[0m\n\u001b[1;32m    217\u001b[0m             )\n",
            "\u001b[0;31mYellowbrickValueError\u001b[0m: '{}' is not a defined metric use one of distortion, silhouette, or calinski_harabaz"
          ]
        }
      ]
    },
    {
      "cell_type": "markdown",
      "metadata": {
        "id": "IvhfeOPJ6Btb"
      },
      "source": [
        "Volvemos a confirmar que para $k = 2$ esta el punto óptimo de clusters para segmentar."
      ]
    },
    {
      "cell_type": "markdown",
      "metadata": {
        "id": "kDrfZHXi6GYH"
      },
      "source": [
        "### 3.3 Análisis de centroides.\n",
        "\n",
        "Ahora, que sabemos el k óptimo para segmentar, realizaremos el modelo KMeans para segmentar con $k = 2$."
      ]
    },
    {
      "cell_type": "code",
      "metadata": {
        "id": "KE2zqiOe6KOQ"
      },
      "source": [
        "titanic_kmeans = KMeans(n_clusters = 2, max_iter = 300, random_state = 1).fit(titanic_dev_norm)"
      ],
      "execution_count": null,
      "outputs": []
    },
    {
      "cell_type": "code",
      "metadata": {
        "colab": {
          "base_uri": "https://localhost:8080/",
          "height": 111
        },
        "id": "o-ba2aHC6O87",
        "outputId": "7b490485-7d20-4744-e4a1-118b4587d94c"
      },
      "source": [
        "tit_centroides = titanic_kmeans.cluster_centers_\n",
        "tit_centroides_df = pd.DataFrame(tit_centroides)\n",
        "tit_centroides_df.columns = titanic_dev_norm.columns\n",
        "tit_centroides_df"
      ],
      "execution_count": null,
      "outputs": [
        {
          "output_type": "execute_result",
          "data": {
            "text/html": [
              "<div>\n",
              "<style scoped>\n",
              "    .dataframe tbody tr th:only-of-type {\n",
              "        vertical-align: middle;\n",
              "    }\n",
              "\n",
              "    .dataframe tbody tr th {\n",
              "        vertical-align: top;\n",
              "    }\n",
              "\n",
              "    .dataframe thead th {\n",
              "        text-align: right;\n",
              "    }\n",
              "</style>\n",
              "<table border=\"1\" class=\"dataframe\">\n",
              "  <thead>\n",
              "    <tr style=\"text-align: right;\">\n",
              "      <th></th>\n",
              "      <th>pass_class</th>\n",
              "      <th>sex</th>\n",
              "      <th>age</th>\n",
              "      <th>no_sib_spo_ob</th>\n",
              "      <th>no_par_chld_ob</th>\n",
              "      <th>pass_fare</th>\n",
              "      <th>survived</th>\n",
              "      <th>bool_life_boat</th>\n",
              "      <th>Cherbourg</th>\n",
              "      <th>Other</th>\n",
              "      <th>Queenstown</th>\n",
              "      <th>Southampton</th>\n",
              "    </tr>\n",
              "  </thead>\n",
              "  <tbody>\n",
              "    <tr>\n",
              "      <th>0</th>\n",
              "      <td>0.751861</td>\n",
              "      <td>0.844913</td>\n",
              "      <td>0.384960</td>\n",
              "      <td>0.065292</td>\n",
              "      <td>0.036669</td>\n",
              "      <td>0.045431</td>\n",
              "      <td>0.997519</td>\n",
              "      <td>0.007444</td>\n",
              "      <td>0.146402</td>\n",
              "      <td>2.059984e-17</td>\n",
              "      <td>0.099256</td>\n",
              "      <td>0.754342</td>\n",
              "    </tr>\n",
              "    <tr>\n",
              "      <th>1</th>\n",
              "      <td>0.478044</td>\n",
              "      <td>0.321357</td>\n",
              "      <td>0.356323</td>\n",
              "      <td>0.057884</td>\n",
              "      <td>0.052783</td>\n",
              "      <td>0.096567</td>\n",
              "      <td>0.005988</td>\n",
              "      <td>0.958084</td>\n",
              "      <td>0.303393</td>\n",
              "      <td>3.992016e-03</td>\n",
              "      <td>0.083832</td>\n",
              "      <td>0.608782</td>\n",
              "    </tr>\n",
              "  </tbody>\n",
              "</table>\n",
              "</div>"
            ],
            "text/plain": [
              "   pass_class       sex       age  ...         Other  Queenstown  Southampton\n",
              "0    0.751861  0.844913  0.384960  ...  2.059984e-17    0.099256     0.754342\n",
              "1    0.478044  0.321357  0.356323  ...  3.992016e-03    0.083832     0.608782\n",
              "\n",
              "[2 rows x 12 columns]"
            ]
          },
          "metadata": {
            "tags": []
          },
          "execution_count": 32
        }
      ]
    },
    {
      "cell_type": "code",
      "metadata": {
        "colab": {
          "base_uri": "https://localhost:8080/",
          "height": 424
        },
        "id": "VVYHWRO06WR-",
        "outputId": "48321a99-3fce-4b19-ff99-2bcadd0dbca8"
      },
      "source": [
        "plt.plot(tit_centroides_df.columns, tit_centroides[0], 'r', linestyle='--', label='Cluster 0')\n",
        "plt.plot(tit_centroides_df.columns, tit_centroides[1], 'b', linestyle=':', label='Cluster 1')\n",
        "plt.legend(loc = 'lower right')\n",
        "plt.title('Valores medios de los atributos por cluster')\n",
        "plt.xlabel('Atributos')\n",
        "plt.xticks(rotation=45, ha='right')\n",
        "plt.ylabel('Valores medios')\n",
        "plt.show()"
      ],
      "execution_count": null,
      "outputs": [
        {
          "output_type": "display_data",
          "data": {
            "image/png": "[encoded data removed]",
            "text/plain": [
              "<Figure size 576x396 with 1 Axes>"
            ]
          },
          "metadata": {
            "tags": []
          }
        }
      ]
    },
    {
      "cell_type": "markdown",
      "metadata": {
        "id": "p69DoQGS6cBs"
      },
      "source": [
        "De la gráfica de centroides podemos apreciar lo siguiente de los 2 clusters:\n",
        "\n",
        "   1. **Cluster 0:** Esta conformado de personas de *tercera clase*, generalmente *hombres*, de distintas edades, que *no sobrevivieron*, y por lo tanto *no se encontraban en un bote salvavidas*, que en gran parte embarcaron en el puerto de *Southampton*.\n",
        "   2. **Cluster 1:** Esta conformado de personas de *segunda y primera clase*, generalmente *mujeres*, de distintas edades, que *sobrevivieron*, y que gran parte *se encontraban en un bote salvavidas*, que en gran parte embarcaron en los puertos de *Shouthampton y Cherbourg*."
      ]
    },
    {
      "cell_type": "markdown",
      "metadata": {
        "id": "arFf7XJL6mfa"
      },
      "source": [
        "#### 3.3.1 PCA para visualización de los clusters.\n",
        "\n",
        "Dado que estamos segmentando con mas de dos variables el dataset, se hace difícil poder ver visualmente la separación de los clústers desarrollaods, por lo que usaremos una metodología llamada **Análisis de Componentes Principales (PCA)**, para encontrar las 2 componentes principales del dataset para viusalizar gráficamente como se encuentran nuestros clústers."
      ]
    },
    {
      "cell_type": "code",
      "metadata": {
        "id": "suN38F8o6uVG"
      },
      "source": [
        "from sklearn.decomposition import PCA\n",
        "\n",
        "pca = PCA(n_components=2)\n",
        "principalComponents = pca.fit_transform(titanic_dev_norm)\n",
        "principalDf = pd.DataFrame(data = principalComponents\n",
        "             , columns = ['PC1', 'PC2'])"
      ],
      "execution_count": null,
      "outputs": []
    },
    {
      "cell_type": "code",
      "metadata": {
        "colab": {
          "base_uri": "https://localhost:8080/",
          "height": 204
        },
        "id": "clDXeKut61Ex",
        "outputId": "1d79efe5-e2a8-46bb-c9f3-6a209b29faf9"
      },
      "source": [
        "cluster = 'Cluster ' + pd.DataFrame(titanic_kmeans.labels_).astype(str)\n",
        "cluster.columns = ['cluster']\n",
        "\n",
        "tit_pca = pd.concat([principalDf, cluster], axis = 1)\n",
        "tit_pca.head()"
      ],
      "execution_count": null,
      "outputs": [
        {
          "output_type": "execute_result",
          "data": {
            "text/html": [
              "<div>\n",
              "<style scoped>\n",
              "    .dataframe tbody tr th:only-of-type {\n",
              "        vertical-align: middle;\n",
              "    }\n",
              "\n",
              "    .dataframe tbody tr th {\n",
              "        vertical-align: top;\n",
              "    }\n",
              "\n",
              "    .dataframe thead th {\n",
              "        text-align: right;\n",
              "    }\n",
              "</style>\n",
              "<table border=\"1\" class=\"dataframe\">\n",
              "  <thead>\n",
              "    <tr style=\"text-align: right;\">\n",
              "      <th></th>\n",
              "      <th>PC1</th>\n",
              "      <th>PC2</th>\n",
              "      <th>cluster</th>\n",
              "    </tr>\n",
              "  </thead>\n",
              "  <tbody>\n",
              "    <tr>\n",
              "      <th>0</th>\n",
              "      <td>1.049147</td>\n",
              "      <td>-0.662727</td>\n",
              "      <td>Cluster 1</td>\n",
              "    </tr>\n",
              "    <tr>\n",
              "      <th>1</th>\n",
              "      <td>0.633265</td>\n",
              "      <td>-0.502433</td>\n",
              "      <td>Cluster 1</td>\n",
              "    </tr>\n",
              "    <tr>\n",
              "      <th>2</th>\n",
              "      <td>-0.113844</td>\n",
              "      <td>-0.302162</td>\n",
              "      <td>Cluster 0</td>\n",
              "    </tr>\n",
              "    <tr>\n",
              "      <th>3</th>\n",
              "      <td>-0.530256</td>\n",
              "      <td>-0.102981</td>\n",
              "      <td>Cluster 0</td>\n",
              "    </tr>\n",
              "    <tr>\n",
              "      <th>4</th>\n",
              "      <td>-0.115232</td>\n",
              "      <td>-0.290302</td>\n",
              "      <td>Cluster 0</td>\n",
              "    </tr>\n",
              "  </tbody>\n",
              "</table>\n",
              "</div>"
            ],
            "text/plain": [
              "        PC1       PC2    cluster\n",
              "0  1.049147 -0.662727  Cluster 1\n",
              "1  0.633265 -0.502433  Cluster 1\n",
              "2 -0.113844 -0.302162  Cluster 0\n",
              "3 -0.530256 -0.102981  Cluster 0\n",
              "4 -0.115232 -0.290302  Cluster 0"
            ]
          },
          "metadata": {
            "tags": []
          },
          "execution_count": 35
        }
      ]
    },
    {
      "cell_type": "code",
      "metadata": {
        "colab": {
          "base_uri": "https://localhost:8080/",
          "height": 403
        },
        "id": "VSkB5tur64NB",
        "outputId": "204d205e-40c7-4867-f571-bed9227b7733"
      },
      "source": [
        "fig = plt.figure()\n",
        "ax = fig.add_subplot(1,1,1) \n",
        "ax.set_xlabel('Principal Component 1', fontsize = 15)\n",
        "ax.set_ylabel('Principal Component 2', fontsize = 15)\n",
        "ax.set_title('2 component PCA', fontsize = 20)\n",
        "clusters = ['Cluster 0', 'Cluster 1']\n",
        "colors = ['r', 'b']\n",
        "for cluster, color in zip(clusters,colors):\n",
        "    indicesToKeep = tit_pca['cluster'] == cluster\n",
        "    ax.scatter(tit_pca.loc[indicesToKeep, 'PC1']\n",
        "               , tit_pca.loc[indicesToKeep, 'PC2']\n",
        "               , c = color\n",
        "               , s = 50)\n",
        "ax.legend(clusters)"
      ],
      "execution_count": null,
      "outputs": [
        {
          "output_type": "execute_result",
          "data": {
            "text/plain": [
              "<matplotlib.legend.Legend at 0x7f42a0885cd0>"
            ]
          },
          "metadata": {
            "tags": []
          },
          "execution_count": 36
        },
        {
          "output_type": "display_data",
          "data": {
            "image/png": "[encoded data removed]",
            "text/plain": [
              "<Figure size 576x396 with 1 Axes>"
            ]
          },
          "metadata": {
            "tags": []
          }
        }
      ]
    },
    {
      "cell_type": "markdown",
      "metadata": {
        "id": "ZgX1Rg6H69k8"
      },
      "source": [
        "### 3.4 Visualización en 2 dimensiones.\n",
        "\n",
        "Revisaremos tambien como quedan nuestra segmentación para 2 dimensiones."
      ]
    },
    {
      "cell_type": "code",
      "metadata": {
        "id": "i3m7tn537BLz"
      },
      "source": [
        "tit_labels = titanic_kmeans.labels_\n",
        "colours = ['red','blue']\n",
        "asignar = []\n",
        "\n",
        "for i in tit_labels:\n",
        "    asignar.append(colours[i])"
      ],
      "execution_count": null,
      "outputs": []
    },
    {
      "cell_type": "code",
      "metadata": {
        "colab": {
          "base_uri": "https://localhost:8080/",
          "height": 376
        },
        "id": "vR5ktDko7Dww",
        "outputId": "b243f3b6-9f07-4aea-e9a0-6056a8e1ac8b"
      },
      "source": [
        "plt.scatter(titanic_dev_norm['pass_class'],titanic_dev_norm['survived'], c = asignar)\n",
        "plt.title('Relación clase ticket, sobrevivencia y centroides')\n",
        "plt.xlabel('pass_class')\n",
        "plt.ylabel('survived')\n",
        "\n",
        "plt.scatter(tit_centroides[0,0], tit_centroides[0,6], marker = '*', c = 'red', s = 500)\n",
        "plt.scatter(tit_centroides[1,0], tit_centroides[1,6], marker = '*', c = 'blue', s = 500)\n",
        "\n",
        "plt.show()"
      ],
      "execution_count": null,
      "outputs": [
        {
          "output_type": "display_data",
          "data": {
            "image/png": "[encoded data removed]",
            "text/plain": [
              "<Figure size 576x396 with 1 Axes>"
            ]
          },
          "metadata": {
            "tags": []
          }
        }
      ]
    },
    {
      "cell_type": "markdown",
      "metadata": {
        "id": "LlMbMcnt7Ing"
      },
      "source": [
        "### 3.5 Visualización en 3 dimensiones.\n",
        "\n",
        "Revisaremos tambien como quedan nuestra segmentación para 3 dimensiones."
      ]
    },
    {
      "cell_type": "code",
      "metadata": {
        "colab": {
          "base_uri": "https://localhost:8080/",
          "height": 347
        },
        "id": "K1V93kwH7MBH",
        "outputId": "998ce9bc-14e6-4c6b-f116-eb5fa39e47db"
      },
      "source": [
        "from mpl_toolkits.mplot3d import axes3d\n",
        "\n",
        "fig = plt.figure()\n",
        "ax = fig.add_subplot(111,projection = '3d')\n",
        "\n",
        "ax.scatter(titanic_dev_norm['pass_class'],titanic_dev_norm['survived'], titanic_dev_norm['no_par_chld_ob'], c = asignar, marker = 'o')\n",
        "ax.set_xlabel('pass_class')\n",
        "ax.set_ylabel('survived')\n",
        "ax.set_zlabel('no_par_chld_ob')\n",
        "ax.scatter(tit_centroides[0,0], tit_centroides[0,6], tit_centroides[0,4], marker = 'x', c = 'red', s = 500)\n",
        "ax.scatter(tit_centroides[1,0], tit_centroides[1,6], tit_centroides[1,4], marker = 'x', c = 'blue', s = 500)\n"
      ],
      "execution_count": null,
      "outputs": [
        {
          "output_type": "execute_result",
          "data": {
            "text/plain": [
              "<mpl_toolkits.mplot3d.art3d.Path3DCollection at 0x7f42a075e490>"
            ]
          },
          "metadata": {
            "tags": []
          },
          "execution_count": 39
        },
        {
          "output_type": "display_data",
          "data": {
            "image/png": "[encoded data removed]",
            "text/plain": [
              "<Figure size 576x396 with 1 Axes>"
            ]
          },
          "metadata": {
            "tags": []
          }
        }
      ]
    }
  ]
}